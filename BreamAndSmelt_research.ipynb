{
  "nbformat": 4,
  "nbformat_minor": 0,
  "metadata": {
    "colab": {
      "name": "BreamAndSmelt_research",
      "provenance": [],
      "collapsed_sections": [],
      "toc_visible": true,
      "authorship_tag": "ABX9TyN4Shnn5EabZYGP3CphZF7W",
      "include_colab_link": true
    },
    "kernelspec": {
      "name": "python3",
      "display_name": "Python 3"
    },
    "language_info": {
      "name": "python"
    }
  },
  "cells": [
    {
      "cell_type": "markdown",
      "metadata": {
        "id": "view-in-github",
        "colab_type": "text"
      },
      "source": [
        "<a href=\"https://colab.research.google.com/github/onlygoodman/python/blob/good/BreamAndSmelt_research.ipynb\" target=\"_parent\"><img src=\"https://colab.research.google.com/assets/colab-badge.svg\" alt=\"Open In Colab\"/></a>"
      ]
    },
    {
      "cell_type": "code",
      "execution_count": 6,
      "metadata": {
        "colab": {
          "base_uri": "https://localhost:8080/",
          "height": 623
        },
        "id": "lRwTrgSPYYEH",
        "outputId": "df9872e5-254e-4050-99c9-b23b5191bf3e"
      },
      "outputs": [
        {
          "output_type": "display_data",
          "data": {
            "text/plain": [
              "<Figure size 432x288 with 1 Axes>"
            ],
            "image/png": "[encoded data removed]"
          },
          "metadata": {
            "needs_background": "light"
          }
        },
        {
          "output_type": "stream",
          "name": "stdout",
          "text": [
            "[ True  True  True  True  True  True  True  True False False False  True\n",
            "  True  True  True  True  True  True  True False False False  True  True\n",
            "  True  True  True  True  True  True False False False  True  True  True\n",
            "  True  True  True  True  True False False False  True  True  True  True\n",
            "  True  True  True  True False False False  True  True  True  True  True\n",
            "  True  True  True False False False  True  True  True  True  True  True\n",
            "  True  True False False False  True  True  True  True  True  True  True\n",
            "  True False False False  True  True  True  True  True  True  True  True\n",
            " False False False False False False False  True  True  True  True False\n",
            " False False False False False False False  True  True  True False False\n",
            " False False False False False False False False False False False False\n",
            " False False False False False False False False False False False False\n",
            " False False False False False False False False False False False False\n",
            " False False False False False False False False False False False False\n",
            " False False False False False False False False False False False False\n",
            " False False False False False False False False False False False False\n",
            " False False False False False False False False False False False False\n",
            " False False False False False False False False False False False False\n",
            " False False False False]\n"
          ]
        }
      ],
      "source": [
        "bream_length = [25.4, 26.3, 26.5, 29.0, 29.0, 29.7, 29.7, 30.0, 30.0, 30.7, 31.0, 31.0, \n",
        "                31.5, 32.0, 32.0, 32.0, 33.0, 33.0, 33.5, 33.5, 34.0, 34.0, 34.5, 35.0, \n",
        "                35.0, 35.0, 35.0, 36.0, 36.0, 37.0, 38.5, 38.5, 39.5, 41.0, 41.0]\n",
        "bream_weight = [242.0, 290.0, 340.0, 363.0, 430.0, 450.0, 500.0, 390.0, 450.0, 500.0, 475.0, 500.0, \n",
        "                500.0, 340.0, 600.0, 600.0, 700.0, 700.0, 610.0, 650.0, 575.0, 685.0, 620.0, 680.0, \n",
        "                700.0, 725.0, 720.0, 714.0, 850.0, 1000.0, 920.0, 955.0, 925.0, 975.0, 950.0]\n",
        "\n",
        "#산점도 그리기\n",
        "\n",
        "import matplotlib.pyplot as plt\n",
        "import numpy as np\n",
        "\n",
        "# plt.scatter(bream_length, bream_weight)\n",
        "# plt.xlabel('length')\n",
        "# plt.ylabel('weight')\n",
        "# plt.show()\n",
        "\n",
        "smelt_length = [9.8, 10.5, 10.6, 11.0, 11.2, 11.3, 11.8, 11.8, 12.0, 12.2, 12.4, 13.0, 14.3, 15.0, 9.8, 10.5, 10.6, 11.0, 11.2, 11.3, 11.8, 11.8, 12.0, 12.2, 12.4, 13.0, 14.3, 15.0]\n",
        "smelt_weight = [6.7, 7.5, 7.0, 9.7, 9.8, 8.7, 10.0, 9.9, 9.8, 12.2, 800, 700, 1000, 800, 6.7, 7.5, 7.0, 9.7, 9.8, 8.7, 10.0, 9.9, 9.8, 12.2, 800, 700, 1000, 800]\n",
        "\n",
        "#산점도를 빙어와 도미를 동시에 그리기\n",
        "\n",
        "# plt.scatter(bream_length, bream_weight)\n",
        "# plt.scatter(smelt_length, smelt_weight)\n",
        "# plt.xlabel('length')\n",
        "# plt.ylabel('weight')\n",
        "# plt.show()\n",
        "\n",
        "length = bream_length + smelt_length\n",
        "weight = bream_weight + bream_weight\n",
        "\n",
        "fish_data = [[l, w] for l, w in zip(length, weight)]\n",
        "fish_target = [1]*len(bream_length) + [0]*len(smelt_length)\n",
        "\n",
        "\n",
        "from sklearn.neighbors import KNeighborsClassifier\n",
        "\n",
        "#임포트한 KNN 클래스 객체 형성\n",
        "\n",
        "kn = KNeighborsClassifier(n_neighbors=1)\n",
        "\n",
        "#scroe 전에 항상 fit으로 학습해주기\n",
        "kn.fit(fish_data, fish_target)\n",
        "kn.score(fish_data, fish_target)\n",
        "\n",
        "x = [i for i in range(1, 41,2)]\n",
        "y = [i for i in range(0,1001, 100)]\n",
        "z = []\n",
        "for a in x :\n",
        "  for b in y :\n",
        "    z.append([a,b]) \n",
        "  \n",
        "test_all_input = np.array(z)\n",
        "\n",
        "# print(test_all_input)\n",
        "# print(kn.predict(test_all_input))\n",
        "\n",
        "predict_array = np.column_stack((test_all_input, kn.predict(test_all_input)))\n",
        "\n",
        "predict_smelt = test_all_input[kn.predict(test_all_input)==0]\n",
        "predict_bream = test_all_input[kn.predict(test_all_input)==1]\n",
        "\n",
        "\n",
        "\n",
        "len(predict_smelt)\n",
        "len(predict_bream)\n",
        "\n",
        "import matplotlib.pyplot as plt\n",
        "\n",
        "plt.scatter(predict_smelt[:,0], predict_smelt[:, 1])\n",
        "plt.scatter(predict_bream[:,0], predict_bream[:, 1])\n",
        "plt.xlabel('length')\n",
        "plt.ylabel('weight')\n",
        "\n",
        "plt.show()\n",
        "\n",
        "print(kn.predict(test_all_input)==0)"
      ]
    },
    {
      "cell_type": "markdown",
      "source": [
        "훈련 데이터 값에 따라 어느 범위까지 bream과 smelt를 구분하는지에 대한 코드 -1"
      ],
      "metadata": {
        "id": "r1zjOfV_dK2J"
      }
    },
    {
      "cell_type": "code",
      "source": [
        "bream_length = [25.4, 26.3, 26.5, 29.0, 29.0, 29.7, 29.7, 30.0, 30.0, 30.7, 31.0, 31.0, \n",
        "                31.5, 32.0, 32.0, 32.0, 33.0, 33.0, 33.5, 33.5, 34.0, 34.0, 34.5, 35.0, \n",
        "                35.0, 35.0, 35.0, 36.0, 36.0, 37.0, 38.5, 38.5, 39.5, 41.0, 41.0]\n",
        "bream_weight = [242.0, 290.0, 340.0, 363.0, 430.0, 450.0, 500.0, 390.0, 450.0, 500.0, 475.0, 500.0, \n",
        "                500.0, 340.0, 600.0, 600.0, 700.0, 700.0, 610.0, 650.0, 575.0, 685.0, 620.0, 680.0, \n",
        "                700.0, 725.0, 720.0, 714.0, 850.0, 1000.0, 920.0, 955.0, 925.0, 975.0, 950.0]\n",
        "\n",
        "#산점도 그리기\n",
        "\n",
        "import matplotlib.pyplot as plt\n",
        "import numpy as np\n",
        "\n",
        "# plt.scatter(bream_length, bream_weight)\n",
        "# plt.xlabel('length')\n",
        "# plt.ylabel('weight')\n",
        "# plt.show()\n",
        "\n",
        "smelt_length = [ 9.8, 10.5, 10.6, 11.0, 11.2, 11.3, 11.8, 11.8, 12.0, 12.2, 12.4, 13.0, 14.3, 15.0]\n",
        "smelt_weight = [6.7, 7.5, 7.0, 9.7, 9.8, 8.7, 10.0, 9.9, 9.8, 12.2, 13, 14, 15, 16]\n",
        "\n",
        "#산점도를 빙어와 도미를 동시에 그리기\n",
        "\n",
        "# plt.scatter(bream_length, bream_weight)\n",
        "# plt.scatter(smelt_length, smelt_weight)\n",
        "# plt.xlabel('length')\n",
        "# plt.ylabel('weight')\n",
        "# plt.show()\n",
        "\n",
        "length = bream_length + smelt_length\n",
        "weight = bream_weight + bream_weight\n",
        "\n",
        "fish_data = [[l, w] for l, w in zip(length, weight)]\n",
        "fish_target = [1]*len(bream_length) + [0]*len(smelt_length)\n",
        "\n",
        "\n",
        "from sklearn.neighbors import KNeighborsClassifier\n",
        "\n",
        "#임포트한 KNN 클래스 객체 형성\n",
        "\n",
        "kn = KNeighborsClassifier(n_neighbors=1)\n",
        "\n",
        "#scroe 전에 항상 fit으로 학습해주기\n",
        "kn.fit(fish_data, fish_target)\n",
        "kn.score(fish_data, fish_target)\n",
        "\n",
        "x = [i for i in range(1, 41,2)]\n",
        "y = [i for i in range(0,1001, 100)]\n",
        "z = []\n",
        "for a in x :\n",
        "  for b in y :\n",
        "    z.append([a,b]) \n",
        "  \n",
        "test_all_input = np.array(z)\n",
        "\n",
        "# print(test_all_input)\n",
        "# print(kn.predict(test_all_input))\n",
        "\n",
        "predict_array = np.column_stack((test_all_input, kn.predict(test_all_input)))\n",
        "\n",
        "predict_smelt = test_all_input[kn.predict(test_all_input)==0]\n",
        "predict_bream = test_all_input[kn.predict(test_all_input)==1]\n",
        "\n",
        "\n",
        "\n",
        "len(predict_smelt)\n",
        "len(predict_bream)\n",
        "\n",
        "import matplotlib.pyplot as plt\n",
        "\n",
        "plt.scatter(predict_smelt[:,0], predict_smelt[:, 1])\n",
        "plt.scatter(predict_bream[:,0], predict_bream[:, 1])\n",
        "plt.xlabel('length')\n",
        "plt.ylabel('weight')\n",
        "\n",
        "plt.show()\n",
        "\n",
        "print(kn.predict(test_all_input)==0)"
      ],
      "metadata": {
        "colab": {
          "base_uri": "https://localhost:8080/",
          "height": 623
        },
        "id": "o9pwuzBEZpOM",
        "outputId": "a6310249-0211-4554-ec3f-f9cfc8b87b13"
      },
      "execution_count": 8,
      "outputs": [
        {
          "output_type": "display_data",
          "data": {
            "text/plain": [
              "<Figure size 432x288 with 1 Axes>"
            ],
            "image/png": "[encoded data removed]"
          },
          "metadata": {
            "needs_background": "light"
          }
        },
        {
          "output_type": "stream",
          "name": "stdout",
          "text": [
            "[ True  True  True  True  True  True False False False False False  True\n",
            "  True  True  True  True  True False False False False False  True  True\n",
            "  True  True  True  True False False False False False  True  True  True\n",
            "  True  True  True False False False False False  True  True  True  True\n",
            "  True  True False False False False False  True  True  True  True  True\n",
            "  True False False False False False  True  True  True  True  True  True\n",
            " False False False False False  True  True  True  True  True  True False\n",
            " False False False False  True  True  True  True  True  True False False\n",
            " False False False False False False False  True  True False False False\n",
            " False False False False False False False  True False False False False\n",
            " False False False False False False False False False False False False\n",
            " False False False False False False False False False False False False\n",
            " False False False False False False False False False False False False\n",
            " False False False False False False False False False False False False\n",
            " False False False False False False False False False False False False\n",
            " False False False False False False False False False False False False\n",
            " False False False False False False False False False False False False\n",
            " False False False False False False False False False False False False\n",
            " False False False False]\n"
          ]
        }
      ]
    },
    {
      "cell_type": "markdown",
      "source": [
        "훈련 데이터 값에 따라 어느 범위까지 bream과 smelt를 구분하는지에 대한 코드 -2"
      ],
      "metadata": {
        "id": "6qMbtlrcdWj3"
      }
    },
    {
      "cell_type": "code",
      "source": [
        "bream_length = [25.4, \n",
        "                31.5, 32.0, 32.0, 32.0, 33.0, 33.0, 33.5, 33.5, 34.0, 34.0, 34.5, 35.0, \n",
        "                35.0, 35.0, 35.0, 36.0, 36.0, 37.0, 38.5, 38.5, 39.5, 41.0, 41.0]\n",
        "bream_weight = [242.0, \n",
        "                500.0, 340.0, 600.0, 600.0, 700.0, 700.0, 610.0, 650.0, 575.0, 685.0, 620.0, 680.0, \n",
        "                700.0, 725.0, 720.0, 714.0, 850.0, 1000.0, 920.0, 955.0, 925.0, 975.0, 950.0]\n",
        "\n",
        "#산점도 그리기\n",
        "\n",
        "import matplotlib.pyplot as plt\n",
        "import numpy as np\n",
        "\n",
        "# plt.scatter(bream_length, bream_weight)\n",
        "# plt.xlabel('length')\n",
        "# plt.ylabel('weight')\n",
        "# plt.show()\n",
        "\n",
        "smelt_length = [ 9.8, 10.5, 10.6, 11.0, 11.2, 11.3, 11.8, 11.8, 12.0, 12.2, 12.4, 13.0, 14.3, 15.0]\n",
        "smelt_weight = [6.7, 7.5, 7.0, 9.7, 9.8, 8.7, 10.0, 9.9, 9.8, 12.2, 13, 14, 15, 16]\n",
        "\n",
        "#산점도를 빙어와 도미를 동시에 그리기\n",
        "\n",
        "# plt.scatter(bream_length, bream_weight)\n",
        "# plt.scatter(smelt_length, smelt_weight)\n",
        "# plt.xlabel('length')\n",
        "# plt.ylabel('weight')\n",
        "# plt.show()\n",
        "\n",
        "length = bream_length + smelt_length\n",
        "weight = bream_weight + bream_weight\n",
        "\n",
        "fish_data = [[l, w] for l, w in zip(length, weight)]\n",
        "fish_target = [1]*len(bream_length) + [0]*len(smelt_length)\n",
        "\n",
        "\n",
        "from sklearn.neighbors import KNeighborsClassifier\n",
        "\n",
        "#임포트한 KNN 클래스 객체 형성\n",
        "\n",
        "kn = KNeighborsClassifier(n_neighbors=1)\n",
        "\n",
        "#scroe 전에 항상 fit으로 학습해주기\n",
        "kn.fit(fish_data, fish_target)\n",
        "kn.score(fish_data, fish_target)\n",
        "\n",
        "x = [i for i in range(1, 41,2)]\n",
        "y = [i for i in range(0,1001, 100)]\n",
        "z = []\n",
        "for a in x :\n",
        "  for b in y :\n",
        "    z.append([a,b]) \n",
        "  \n",
        "test_all_input = np.array(z)\n",
        "\n",
        "# print(test_all_input)\n",
        "# print(kn.predict(test_all_input))\n",
        "\n",
        "predict_array = np.column_stack((test_all_input, kn.predict(test_all_input)))\n",
        "\n",
        "predict_smelt = test_all_input[kn.predict(test_all_input)==0]\n",
        "predict_bream = test_all_input[kn.predict(test_all_input)==1]\n",
        "\n",
        "\n",
        "\n",
        "len(predict_smelt)\n",
        "len(predict_bream)\n",
        "\n",
        "import matplotlib.pyplot as plt\n",
        "\n",
        "plt.scatter(predict_smelt[:,0], predict_smelt[:, 1])\n",
        "plt.scatter(predict_bream[:,0], predict_bream[:, 1])\n",
        "plt.xlabel('length')\n",
        "plt.ylabel('weight')\n",
        "\n",
        "plt.show()\n",
        "\n",
        "print(kn.predict(test_all_input)==0)"
      ],
      "metadata": {
        "colab": {
          "base_uri": "https://localhost:8080/",
          "height": 623
        },
        "id": "07jzqM3RddBg",
        "outputId": "6cc50b54-e853-411a-c2f4-d9888c13b191"
      },
      "execution_count": 9,
      "outputs": [
        {
          "output_type": "display_data",
          "data": {
            "text/plain": [
              "<Figure size 432x288 with 1 Axes>"
            ],
            "image/png": "[encoded data removed]"
          },
          "metadata": {
            "needs_background": "light"
          }
        },
        {
          "output_type": "stream",
          "name": "stdout",
          "text": [
            "[ True  True  True  True  True  True  True  True False False False  True\n",
            "  True  True  True  True  True  True  True False False False  True  True\n",
            "  True  True  True  True  True  True False False False  True  True  True\n",
            "  True  True  True  True  True False False False  True  True  True  True\n",
            "  True  True  True  True False False False  True  True  True  True  True\n",
            "  True  True  True False False False  True  True  True  True  True  True\n",
            "  True  True False False False  True  True  True  True  True  True  True\n",
            "  True False False False  True  True  True  True  True  True  True  True\n",
            " False False False False False False  True  True  True  True  True False\n",
            " False False False False False  True  True False  True  True False False\n",
            " False False False False False False False False  True False False False\n",
            " False False False False False False False False False False False False\n",
            " False False False False False False False False False False False False\n",
            " False False False False False False False False False False False False\n",
            " False False False False False False False False False False False False\n",
            " False False False False False False False False False False False False\n",
            " False False False False False False False False False False False False\n",
            " False False False False False False False False False False False False\n",
            " False False False False]\n"
          ]
        }
      ]
    },
    {
      "cell_type": "code",
      "source": [
        "bream_length = [25.4, \n",
        "                31.5, 32.0, 32.0, 32.0, 33.0, 33.0, 33.5, 33.5, 34.0, 34.0, 34.5, 35.0, \n",
        "                35.0, 35.0, 35.0, 36.0, 36.0, 37.0, 38.5, 38.5, 39.5, 41.0, 41.0]\n",
        "bream_weight = [242.0, \n",
        "                500.0, 340.0, 600.0, 600.0, 700.0, 700.0, 610.0, 650.0, 575.0, 685.0, 620.0, 680.0, \n",
        "                700.0, 725.0, 720.0, 714.0, 850.0, 1000.0, 920.0, 955.0, 925.0, 975.0, 950.0]\n",
        "\n",
        "#산점도 그리기\n",
        "\n",
        "import matplotlib.pyplot as plt\n",
        "import numpy as np\n",
        "\n",
        "# plt.scatter(bream_length, bream_weight)\n",
        "# plt.xlabel('length')\n",
        "# plt.ylabel('weight')\n",
        "# plt.show()\n",
        "\n",
        "smelt_length = [ 10, 10, 10, 10, 10, 10, 10, 9.8, 10.5, 10.6, 11.0, 11.2, 11.3, 11.8, 11.8, 12.0, 12.2, 12.4, 13.0, 14.3, 15.0]\n",
        "smelt_weight = [1000, 1000, 1000, 1000, 1000, 1000, 1000, 6.7, 7.5, 7.0, 9.7, 9.8, 8.7, 10.0, 9.9, 9.8, 12.2, 13, 14, 15, 16]\n",
        "\n",
        "#산점도를 빙어와 도미를 동시에 그리기\n",
        "\n",
        "# plt.scatter(bream_length, bream_weight)\n",
        "# plt.scatter(smelt_length, smelt_weight)\n",
        "# plt.xlabel('length')\n",
        "# plt.ylabel('weight')\n",
        "# plt.show()\n",
        "\n",
        "length = bream_length + smelt_length\n",
        "weight = bream_weight + bream_weight\n",
        "\n",
        "fish_data = [[l, w] for l, w in zip(length, weight)]\n",
        "fish_target = [1]*len(bream_length) + [0]*len(smelt_length)\n",
        "\n",
        "\n",
        "from sklearn.neighbors import KNeighborsClassifier\n",
        "\n",
        "#임포트한 KNN 클래스 객체 형성\n",
        "\n",
        "kn = KNeighborsClassifier(n_neighbors=1)\n",
        "\n",
        "#scroe 전에 항상 fit으로 학습해주기\n",
        "kn.fit(fish_data, fish_target)\n",
        "kn.score(fish_data, fish_target)\n",
        "\n",
        "x = [i for i in range(1, 41)]\n",
        "y = [i for i in range(0,1001, 25)]\n",
        "z = []\n",
        "for a in x :\n",
        "  for b in y :\n",
        "    z.append([a,b]) \n",
        "  \n",
        "test_all_input = np.array(z)\n",
        "\n",
        "# print(test_all_input)\n",
        "# print(kn.predict(test_all_input))\n",
        "\n",
        "predict_array = np.column_stack((test_all_input, kn.predict(test_all_input)))\n",
        "\n",
        "predict_smelt = test_all_input[kn.predict(test_all_input)==0]\n",
        "predict_bream = test_all_input[kn.predict(test_all_input)==1]\n",
        "\n",
        "\n",
        "\n",
        "len(predict_smelt)\n",
        "len(predict_bream)\n",
        "\n",
        "import matplotlib.pyplot as plt\n",
        "\n",
        "plt.scatter(predict_smelt[:,0], predict_smelt[:, 1])\n",
        "plt.scatter(predict_bream[:,0], predict_bream[:, 1])\n",
        "plt.xlabel('length')\n",
        "plt.ylabel('weight')\n",
        "\n",
        "plt.show()\n",
        "\n",
        "print(kn.predict(test_all_input)==0)"
      ],
      "metadata": {
        "colab": {
          "base_uri": "https://localhost:8080/",
          "height": 297
        },
        "id": "WTOlk__Wdp5P",
        "outputId": "de3bf2c7-8c75-4430-ba08-637a98df7ebb"
      },
      "execution_count": 12,
      "outputs": [
        {
          "output_type": "display_data",
          "data": {
            "text/plain": [
              "<Figure size 432x288 with 1 Axes>"
            ],
            "image/png": "[encoded data removed]"
          },
          "metadata": {
            "needs_background": "light"
          }
        },
        {
          "output_type": "stream",
          "name": "stdout",
          "text": [
            "[ True  True  True ... False False False]\n"
          ]
        }
      ]
    },
    {
      "cell_type": "markdown",
      "source": [
        "훈련데이터의 클래스의 각각 데이터마다 분포와 개수가 비슷해야 면적이 균등하게 나오는것이 관찰된다.\n",
        "\n",
        "아직도 선형적으로 구간지어 나오는것은 잘 모르겠다.. 반올림 계산이 되어서 그런지 잘모르겠다."
      ],
      "metadata": {
        "id": "HaJ5OM24d-Hu"
      }
    }
  ]
}