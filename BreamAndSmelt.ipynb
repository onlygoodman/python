{
  "nbformat": 4,
  "nbformat_minor": 0,
  "metadata": {
    "colab": {
      "name": "BreamAndSmelt.ipynb",
      "provenance": [],
      "collapsed_sections": [],
      "toc_visible": true,
      "authorship_tag": "ABX9TyM4cGDTQxXo7FAxnVAFiBIv",
      "include_colab_link": true
    },
    "kernelspec": {
      "name": "python3",
      "display_name": "Python 3"
    },
    "language_info": {
      "name": "python"
    }
  },
  "cells": [
    {
      "cell_type": "markdown",
      "metadata": {
        "id": "view-in-github",
        "colab_type": "text"
      },
      "source": [
        "<a href=\"https://colab.research.google.com/github/onlygoodman/python/blob/good/BreamAndSmelt.ipynb\" target=\"_parent\"><img src=\"https://colab.research.google.com/assets/colab-badge.svg\" alt=\"Open In Colab\"/></a>"
      ]
    },
    {
      "cell_type": "markdown",
      "source": [
        "#1-3 빙어와 도미 기본\n",
        "훈련데이터와 테스트데이터를 나누지 않고 KNN적용"
      ],
      "metadata": {
        "id": "aeQA9ACkefLT"
      }
    },
    {
      "cell_type": "code",
      "source": [
        "bream_length = [25.4, 26.3, 26.5, 29.0, 29.0, 29.7, 29.7, 30.0, 30.0, 30.7, 31.0, 31.0, \n",
        "                31.5, 32.0, 32.0, 32.0, 33.0, 33.0, 33.5, 33.5, 34.0, 34.0, 34.5, 35.0, \n",
        "                35.0, 35.0, 35.0, 36.0, 36.0, 37.0, 38.5, 38.5, 39.5, 41.0, 41.0]\n",
        "bream_weight = [242.0, 290.0, 340.0, 363.0, 430.0, 450.0, 500.0, 390.0, 450.0, 500.0, 475.0, 500.0, \n",
        "                500.0, 340.0, 600.0, 600.0, 700.0, 700.0, 610.0, 650.0, 575.0, 685.0, 620.0, 680.0, \n",
        "                700.0, 725.0, 720.0, 714.0, 850.0, 1000.0, 920.0, 955.0, 925.0, 975.0, 950.0]\n",
        "\n",
        "#산점도 그리기\n",
        "\n",
        "import matplotlib.pyplot as plt\n",
        "\n",
        "plt.scatter(bream_length, bream_weight)\n",
        "plt.xlabel('length')\n",
        "plt.ylabel('weight')\n",
        "plt.show()"
      ],
      "metadata": {
        "colab": {
          "base_uri": "https://localhost:8080/",
          "height": 279
        },
        "id": "lqICzwuLXofb",
        "outputId": "bd8a95d4-b1a5-478d-f83e-3f8d95125b11"
      },
      "execution_count": null,
      "outputs": [
        {
          "output_type": "display_data",
          "data": {
            "text/plain": [
              "<Figure size 432x288 with 1 Axes>"
            ],
            "image/png": "[encoded data removed]"
          },
          "metadata": {
            "needs_background": "light"
          }
        }
      ]
    },
    {
      "cell_type": "code",
      "source": [
        "smelt_length = [9.8, 10.5, 10.6, 11.0, 11.2, 11.3, 11.8, 11.8, 12.0, 12.2, 12.4, 13.0, 14.3, 15.0]\n",
        "smelt_weight = [6.7, 7.5, 7.0, 9.7, 9.8, 8.7, 10.0, 9.9, 9.8, 12.2, 800, 700, 1000, 800]\n",
        "\n",
        "#산점도를 빙어와 도미를 동시에 그리기\n",
        "\n",
        "plt.scatter(bream_length, bream_weight)\n",
        "plt.scatter(smelt_length, smelt_weight)\n",
        "plt.xlabel('length')\n",
        "plt.ylabel('weight')\n",
        "plt.show()"
      ],
      "metadata": {
        "colab": {
          "base_uri": "https://localhost:8080/",
          "height": 279
        },
        "id": "N2WmNoWDYbrb",
        "outputId": "c22c73d1-954e-4131-b326-67a8e58e6c3b"
      },
      "execution_count": 110,
      "outputs": [
        {
          "output_type": "display_data",
          "data": {
            "text/plain": [
              "<Figure size 432x288 with 1 Axes>"
            ],
            "image/png": "[encoded data removed]"
          },
          "metadata": {
            "needs_background": "light"
          }
        }
      ]
    },
    {
      "cell_type": "code",
      "source": [
        "length = bream_length + smelt_length\n",
        "weight = bream_weight + bream_weight\n",
        "\n",
        "fish_data = [[l, w] for l, w in zip(length, weight)]\n",
        "print(fish_data)\n",
        "\n",
        "fish_target = [1]*len(bream_length) + [0]*len(smelt_length)\n",
        "print(fish_target)"
      ],
      "metadata": {
        "colab": {
          "base_uri": "https://localhost:8080/"
        },
        "id": "kkAeCX36ZUmP",
        "outputId": "e644f7cc-8701-4a61-f0bf-64a672d6086a"
      },
      "execution_count": 111,
      "outputs": [
        {
          "output_type": "stream",
          "name": "stdout",
          "text": [
            "[[25.4, 242.0], [26.3, 290.0], [26.5, 340.0], [29.0, 363.0], [29.0, 430.0], [29.7, 450.0], [29.7, 500.0], [30.0, 390.0], [30.0, 450.0], [30.7, 500.0], [31.0, 475.0], [31.0, 500.0], [31.5, 500.0], [32.0, 340.0], [32.0, 600.0], [32.0, 600.0], [33.0, 700.0], [33.0, 700.0], [33.5, 610.0], [33.5, 650.0], [34.0, 575.0], [34.0, 685.0], [34.5, 620.0], [35.0, 680.0], [35.0, 700.0], [35.0, 725.0], [35.0, 720.0], [36.0, 714.0], [36.0, 850.0], [37.0, 1000.0], [38.5, 920.0], [38.5, 955.0], [39.5, 925.0], [41.0, 975.0], [41.0, 950.0], [9.8, 242.0], [10.5, 290.0], [10.6, 340.0], [11.0, 363.0], [11.2, 430.0], [11.3, 450.0], [11.8, 500.0], [11.8, 390.0], [12.0, 450.0], [12.2, 500.0], [12.4, 475.0], [13.0, 500.0], [14.3, 500.0], [15.0, 340.0]]\n",
            "[1, 1, 1, 1, 1, 1, 1, 1, 1, 1, 1, 1, 1, 1, 1, 1, 1, 1, 1, 1, 1, 1, 1, 1, 1, 1, 1, 1, 1, 1, 1, 1, 1, 1, 1, 0, 0, 0, 0, 0, 0, 0, 0, 0, 0, 0, 0, 0, 0]\n"
          ]
        }
      ]
    },
    {
      "cell_type": "code",
      "source": [
        "from sklearn.neighbors import KNeighborsClassifier\n",
        "\n",
        "#임포트한 KNN 클래스 객체 형성\n",
        "\n",
        "kn = KNeighborsClassifier(n_neighbors=1)\n",
        "\n",
        "#scroe 전에 항상 fit으로 학습해주기\n",
        "kn.fit(fish_data, fish_target)\n",
        "kn.score(fish_data, fish_target)"
      ],
      "metadata": {
        "colab": {
          "base_uri": "https://localhost:8080/"
        },
        "id": "Eg8S8JDIZ_pS",
        "outputId": "fe273fbc-9e76-4351-9be1-15dcf62e94f1"
      },
      "execution_count": 112,
      "outputs": [
        {
          "output_type": "execute_result",
          "data": {
            "text/plain": [
              "1.0"
            ]
          },
          "metadata": {},
          "execution_count": 112
        }
      ]
    },
    {
      "cell_type": "code",
      "source": [
        "kn.predict([[20, 50]])"
      ],
      "metadata": {
        "colab": {
          "base_uri": "https://localhost:8080/"
        },
        "id": "0T7CIXH2asqr",
        "outputId": "8fb115f8-529a-47bf-a2e5-6e00dd66b808"
      },
      "execution_count": null,
      "outputs": [
        {
          "output_type": "execute_result",
          "data": {
            "text/plain": [
              "array([0])"
            ]
          },
          "metadata": {},
          "execution_count": 11
        }
      ]
    },
    {
      "cell_type": "code",
      "source": [
        "x = [i for i in range(1, 41)]\n",
        "y = [i for i in range(0,1001, 25)]\n",
        "z = []\n",
        "for a in x :\n",
        "  for b in y :\n",
        "    z.append([a,b]) \n",
        "  \n",
        "test_all_input = np.array(z)\n",
        "\n",
        "print(test_all_input)\n",
        "print(kn.predict(test_all_input))\n",
        "\n",
        "predict_array = np.column_stack((test_all_input, kn.predict(test_all_input)))\n",
        "\n",
        "predict_smelt = test_all_input[kn.predict(test_all_input)==0]\n",
        "predict_bream = test_all_input[kn.predict(test_all_input)==1]\n",
        "\n",
        "\n",
        "\n",
        "len(predict_smelt)\n",
        "len(predict_bream)\n",
        "\n",
        "import matplotlib.pyplot as plt\n",
        "\n",
        "plt.scatter(predict_smelt[:,0], predict_smelt[:, 1])\n",
        "# plt.scatter(predict_bream[:,0], predict_bream[:, 1])\n",
        "plt.xlabel('length')\n",
        "plt.ylabel('weight')\n",
        "\n",
        "plt.show()\n",
        "\n",
        "print(kn.predict(test_all_input)==0)"
      ],
      "metadata": {
        "colab": {
          "base_uri": "https://localhost:8080/",
          "height": 442
        },
        "id": "g2eENA2pDCJg",
        "outputId": "3c7830e6-ba5c-413c-d06b-9f8fa7653484"
      },
      "execution_count": 114,
      "outputs": [
        {
          "output_type": "stream",
          "name": "stdout",
          "text": [
            "[[   1    0]\n",
            " [   1   25]\n",
            " [   1   50]\n",
            " ...\n",
            " [  40  950]\n",
            " [  40  975]\n",
            " [  40 1000]]\n",
            "[0 0 0 ... 1 1 1]\n"
          ]
        },
        {
          "output_type": "display_data",
          "data": {
            "text/plain": [
              "<Figure size 432x288 with 1 Axes>"
            ],
            "image/png": "[encoded data removed]"
          },
          "metadata": {
            "needs_background": "light"
          }
        },
        {
          "output_type": "stream",
          "name": "stdout",
          "text": [
            "[ True  True  True ... False False False]\n"
          ]
        }
      ]
    },
    {
      "cell_type": "code",
      "source": [
        "kn.predict([[13, 1000]])"
      ],
      "metadata": {
        "colab": {
          "base_uri": "https://localhost:8080/"
        },
        "id": "j2_andpbWysy",
        "outputId": "0ee22ad5-43f3-46c0-ea8b-8489b79e1b23"
      },
      "execution_count": 118,
      "outputs": [
        {
          "output_type": "execute_result",
          "data": {
            "text/plain": [
              "array([1])"
            ]
          },
          "metadata": {},
          "execution_count": 118
        }
      ]
    },
    {
      "cell_type": "markdown",
      "source": [
        "kn.predict(input)에서 input 값은 array형식으로 집어 넣어준다.\n",
        "output 값도 마찬가지로 array와 같은 형태로 반환된다.\n",
        "\n",
        "KNeighborsClassifier 클래스의 기본값은 5개의 데이터를 참고하여 값을 반환한다.\n",
        "n_neighbors 매개변수를 통해 참고하는 답의 개수를 반환 할 수 있다."
      ],
      "metadata": {
        "id": "LRXUXmiTbOEz"
      }
    },
    {
      "cell_type": "code",
      "source": [
        "kn49 = KNeighborsClassifier(n_neighbors=49)\n",
        "kn49.fit(fish_data, fish_target)\n",
        "#fit(자료, 답) 순으로 학습\n",
        "\n",
        "score49 = kn49.score(fish_data, fish_target)\n",
        "print(35/49, score49)"
      ],
      "metadata": {
        "id": "1asPTJhpbp1n",
        "colab": {
          "base_uri": "https://localhost:8080/"
        },
        "outputId": "5172fecf-4d34-4615-8721-fe32896e1112"
      },
      "execution_count": 12,
      "outputs": [
        {
          "output_type": "stream",
          "name": "stdout",
          "text": [
            "0.7142857142857143 0.7142857142857143\n"
          ]
        }
      ]
    },
    {
      "cell_type": "markdown",
      "source": [
        "# 2-1 훈련 세트와 테스트 세트\n",
        "지도 학습과 비지도 학습의 차이를 배운다\n",
        "\n",
        "\n",
        "\n",
        "\n",
        "\n"
      ],
      "metadata": {
        "id": "g1WFCsYGfOtp"
      }
    },
    {
      "cell_type": "code",
      "source": [
        "bream_length = [25.4, 26.3, 26.5, 29.0, 29.0, 29.7, 29.7, 30.0, 30.0, 30.7, 31.0, 31.0, \n",
        "                31.5, 32.0, 32.0, 32.0, 33.0, 33.0, 33.5, 33.5, 34.0, 34.0, 34.5, 35.0, \n",
        "                35.0, 35.0, 35.0, 36.0, 36.0, 37.0, 38.5, 38.5, 39.5, 41.0, 41.0]\n",
        "bream_weight = [242.0, 290.0, 340.0, 363.0, 430.0, 450.0, 500.0, 390.0, 450.0, 500.0, 475.0, 500.0, \n",
        "                500.0, 340.0, 600.0, 600.0, 700.0, 700.0, 610.0, 650.0, 575.0, 685.0, 620.0, 680.0, \n",
        "                700.0, 725.0, 720.0, 714.0, 850.0, 1000.0, 920.0, 955.0, 925.0, 975.0, 950.0]\n",
        "\n",
        "smelt_length = [9.8, 10.5, 10.6, 11.0, 11.2, 11.3, 11.8, 11.8, 12.0, 12.2, 12.4, 13.0, 14.3, 15.0]\n",
        "smelt_weight = [6.7, 7.5, 7.0, 9.7, 9.8, 8.7, 10.0, 9.9, 9.8, 12.2, 13.4, 12.2, 19.7, 19.9]\n",
        "\n",
        "length2 = bream_length + smelt_length\n",
        "weight2 = bream_weight + smelt_weight\n",
        "\n",
        "fish_data2 = [[w, l] for w, l in zip(weight2, length2)]\n",
        "fish_target2 = [1]*len(bream_length)+[0]*len(smelt_length)\n",
        "\n",
        "#훈련데이터와 테스트데이터 나누기\n",
        "#사이킷런 우선 임포트\n",
        "\n",
        "from sklearn.neighbors import KNeighborsClassifier\n",
        "kn = KNeighborsClassifier()\n",
        "\n",
        "import numpy as np\n",
        "input_arr = np.array(fish_data2)\n",
        "target_arr = np.array(fish_target2)\n",
        "\n",
        "print(input_arr.shape)"
      ],
      "metadata": {
        "colab": {
          "base_uri": "https://localhost:8080/"
        },
        "id": "0YzedP-mfiQW",
        "outputId": "2e0f2644-a5bb-44fe-d61a-b26fa77862c9"
      },
      "execution_count": 15,
      "outputs": [
        {
          "output_type": "stream",
          "name": "stdout",
          "text": [
            "(49, 2)\n"
          ]
        }
      ]
    },
    {
      "cell_type": "markdown",
      "source": [
        "KNN에서 클래스가 원하는 자료형은 2차원 배열형태이다.\n",
        "현재 input_arr은 49개의 데이터와 2개의 특성을 갖는 배열로 구성되어있다."
      ],
      "metadata": {
        "id": "hlSdp6WBjfEa"
      }
    },
    {
      "cell_type": "code",
      "source": [
        "#random.seed(\"값\") 을 지정하므로 랜덤하게 섞어주는 함수를 일정하게 맞춰준다.\n",
        "np.random.seed(42)\n",
        "index = np.arange(len(fish_data))\n",
        "np.random.shuffle(index)\n",
        "\n",
        "print(index)\n",
        "\n",
        "#훈련데이터 생성\n",
        "train_input = input_arr[index[:35]]\n",
        "train_target = target_arr[index[:35]]\n",
        "\n",
        "test_input = input_arr[index[35:]]\n",
        "test_target = target_arr[index[35:]]\n",
        "\n",
        "print(input_arr)\n",
        "print(\"--------------------------\")\n",
        "print(input_arr[index[35:]])"
      ],
      "metadata": {
        "colab": {
          "base_uri": "https://localhost:8080/"
        },
        "id": "QnWugd3ejyxf",
        "outputId": "7d9b5542-b1cc-495d-dd0a-31bb09f47252"
      },
      "execution_count": 41,
      "outputs": [
        {
          "output_type": "stream",
          "name": "stdout",
          "text": [
            "[13 45 47 44 17 27 26 25 31 19 12  4 34  8  3  6 40 41 46 15  9 16 24 33\n",
            " 30  0 43 32  5 29 11 36  1 21  2 37 35 23 39 10 22 18 48 20  7 42 14 28\n",
            " 38]\n",
            "[[ 242.    25.4]\n",
            " [ 290.    26.3]\n",
            " [ 340.    26.5]\n",
            " [ 363.    29. ]\n",
            " [ 430.    29. ]\n",
            " [ 450.    29.7]\n",
            " [ 500.    29.7]\n",
            " [ 390.    30. ]\n",
            " [ 450.    30. ]\n",
            " [ 500.    30.7]\n",
            " [ 475.    31. ]\n",
            " [ 500.    31. ]\n",
            " [ 500.    31.5]\n",
            " [ 340.    32. ]\n",
            " [ 600.    32. ]\n",
            " [ 600.    32. ]\n",
            " [ 700.    33. ]\n",
            " [ 700.    33. ]\n",
            " [ 610.    33.5]\n",
            " [ 650.    33.5]\n",
            " [ 575.    34. ]\n",
            " [ 685.    34. ]\n",
            " [ 620.    34.5]\n",
            " [ 680.    35. ]\n",
            " [ 700.    35. ]\n",
            " [ 725.    35. ]\n",
            " [ 720.    35. ]\n",
            " [ 714.    36. ]\n",
            " [ 850.    36. ]\n",
            " [1000.    37. ]\n",
            " [ 920.    38.5]\n",
            " [ 955.    38.5]\n",
            " [ 925.    39.5]\n",
            " [ 975.    41. ]\n",
            " [ 950.    41. ]\n",
            " [   6.7    9.8]\n",
            " [   7.5   10.5]\n",
            " [   7.    10.6]\n",
            " [   9.7   11. ]\n",
            " [   9.8   11.2]\n",
            " [   8.7   11.3]\n",
            " [  10.    11.8]\n",
            " [   9.9   11.8]\n",
            " [   9.8   12. ]\n",
            " [  12.2   12.2]\n",
            " [  13.4   12.4]\n",
            " [  12.2   13. ]\n",
            " [  19.7   14.3]\n",
            " [  19.9   15. ]]\n",
            "--------------------------\n",
            "[[  7.   10.6]\n",
            " [  6.7   9.8]\n",
            " [680.   35. ]\n",
            " [  9.8  11.2]\n",
            " [475.   31. ]\n",
            " [620.   34.5]\n",
            " [610.   33.5]\n",
            " [ 19.9  15. ]\n",
            " [575.   34. ]\n",
            " [390.   30. ]\n",
            " [  9.9  11.8]\n",
            " [600.   32. ]\n",
            " [850.   36. ]\n",
            " [  9.7  11. ]]\n"
          ]
        }
      ]
    },
    {
      "cell_type": "code",
      "source": [
        "import matplotlib.pyplot as plt\n",
        "\n",
        "plt.scatter(train_input[:,0], train_input[:,1])\n",
        "plt.scatter(test_input[:,0], test_input[:, 1])\n",
        "\n",
        "plt.xlabel('weight')\n",
        "plt.ylabel('length')\n",
        "plt.show()"
      ],
      "metadata": {
        "colab": {
          "base_uri": "https://localhost:8080/",
          "height": 279
        },
        "id": "1oEOwPbmpuQW",
        "outputId": "566a40c6-6007-4bbb-931c-e4c61950915e"
      },
      "execution_count": 42,
      "outputs": [
        {
          "output_type": "display_data",
          "data": {
            "text/plain": [
              "<Figure size 432x288 with 1 Axes>"
            ],
            "image/png": "[encoded data removed]"
          },
          "metadata": {
            "needs_background": "light"
          }
        }
      ]
    },
    {
      "cell_type": "code",
      "source": [
        "kn = kn.fit(train_input, train_target)\n",
        "kn.score(test_input, test_target)\n",
        "\n",
        "kn.predict(t)"
      ],
      "metadata": {
        "colab": {
          "base_uri": "https://localhost:8080/"
        },
        "id": "DSpMfksmqK9T",
        "outputId": "f62bf60b-beff-44ea-a5cf-8b421fe44b50"
      },
      "execution_count": 43,
      "outputs": [
        {
          "output_type": "execute_result",
          "data": {
            "text/plain": [
              "1.0"
            ]
          },
          "metadata": {},
          "execution_count": 43
        }
      ]
    },
    {
      "cell_type": "markdown",
      "source": [
        "# 2-2 데이터 전처리\n",
        "올바른 결과 도출을 위해서 데이터를 사용하기 전에 데이터 전처리 과정을 거칩니다. 전처리 과정을 거친 데이터로 훈련했을 때의 차이를 알고 표준점수로 특성의 스케일을 변환하는 방법을 배웁니다."
      ],
      "metadata": {
        "id": "jgMT5By4jcKW"
      }
    },
    {
      "cell_type": "code",
      "source": [
        "bream_length = [25.4, 26.3, 26.5, 29.0, 29.0, 29.7, 29.7, 30.0, 30.0, 30.7, 31.0, 31.0, \n",
        "                31.5, 32.0, 32.0, 32.0, 33.0, 33.0, 33.5, 33.5, 34.0, 34.0, 34.5, 35.0, \n",
        "                35.0, 35.0, 35.0, 36.0, 36.0, 37.0, 38.5, 38.5, 39.5, 41.0, 41.0]\n",
        "bream_weight = [242.0, 290.0, 340.0, 363.0, 430.0, 450.0, 500.0, 390.0, 450.0, 500.0, 475.0, 500.0, \n",
        "                500.0, 340.0, 600.0, 600.0, 700.0, 700.0, 610.0, 650.0, 575.0, 685.0, 620.0, 680.0, \n",
        "                700.0, 725.0, 720.0, 714.0, 850.0, 1000.0, 920.0, 955.0, 925.0, 975.0, 950.0]\n",
        "\n",
        "smelt_length = [9.8, 10.5, 10.6, 11.0, 11.2, 11.3, 11.8, 11.8, 12.0, 12.2, 12.4, 13.0, 14.3, 15.0]\n",
        "smelt_weight = [6.7, 7.5, 7.0, 9.7, 9.8, 8.7, 10.0, 9.9, 9.8, 12.2, 13.4, 12.2, 19.7, 19.9]\n",
        "\n",
        "fish_length = bream_length + smelt_length\n",
        "fish_weight = bream_weight + smelt_weight\n",
        "\n",
        "\n",
        "import numpy as np\n",
        "fish_data = np.column_stack((fish_length, fish_weight))\n",
        "print(fish_data[:5])\n"
      ],
      "metadata": {
        "colab": {
          "base_uri": "https://localhost:8080/"
        },
        "id": "mUHyBmtut1Az",
        "outputId": "5dead95e-f2df-4102-88ce-f121f61197af"
      },
      "execution_count": 120,
      "outputs": [
        {
          "output_type": "stream",
          "name": "stdout",
          "text": [
            "[[ 25.4 242. ]\n",
            " [ 26.3 290. ]\n",
            " [ 26.5 340. ]\n",
            " [ 29.  363. ]\n",
            " [ 29.  430. ]]\n"
          ]
        }
      ]
    },
    {
      "cell_type": "markdown",
      "source": [
        "np.colum_stack((list, list)) 형식은\n",
        "list와 list를 2차원으로 열을 기준으로 쭉 나열하여 나란히 붙여줍니다.\n",
        "\n",
        "(1) 두 배열을 왼쪽에서 오른쪽으로 붙이기 \n",
        "\n",
        "   : np.r_[a, b]\n",
        "\n",
        "   : np.hstack([a, b])\n",
        "   : np.concatenate((a, b), axis = 0)\n",
        "\n",
        "\n",
        "\n",
        "(2) 두 배열을 위에서 아래로 붙이기\n",
        "\n",
        "   : np.r_[[a], [b]]\n",
        "\n",
        "   : np.vstack([a, b])\n",
        "\n",
        "   : np.concatenate((c, d), axis = 1) # for 2D ~ array\n",
        "\n",
        "\n",
        "\n",
        "(3) 두 개의 1차원 배열을 칼럼으로 세로로 붙여서 2차원 배열 만들기\n",
        "\n",
        "    (Stack 1-D arrays as columns into a 2-D array)\n",
        "\n",
        "   : np.c_[a, b]\n",
        "\n",
        "   : np.column_stack([a, b])\n",
        "\n",
        "   : np.concatenate((c.T, d.T), axis = 1) # for 2D~ array\n",
        "\n",
        "\n",
        "\n",
        " [ 배열을 옆으로, 위 아래로 붙이기 : np.r_, np.c_, np.hstack(), np.vstack(), np.column_stack(), np.concatenate(axis=0), np.concatenate(axis=1) ]"
      ],
      "metadata": {
        "id": "z-3Vn58XupXX"
      }
    },
    {
      "cell_type": "code",
      "source": [
        "fish_target = np.concatenate((np.ones(len(bream_length)), np.zeros(len(smelt_length))))\n",
        "print(fish_target)"
      ],
      "metadata": {
        "colab": {
          "base_uri": "https://localhost:8080/"
        },
        "id": "qVHrYb2SvgjS",
        "outputId": "7e477a54-da52-4b3d-f216-ecd7dfa4d3f0"
      },
      "execution_count": 121,
      "outputs": [
        {
          "output_type": "stream",
          "name": "stdout",
          "text": [
            "[1. 1. 1. 1. 1. 1. 1. 1. 1. 1. 1. 1. 1. 1. 1. 1. 1. 1. 1. 1. 1. 1. 1. 1.\n",
            " 1. 1. 1. 1. 1. 1. 1. 1. 1. 1. 1. 0. 0. 0. 0. 0. 0. 0. 0. 0. 0. 0. 0. 0.\n",
            " 0.]\n"
          ]
        }
      ]
    },
    {
      "cell_type": "markdown",
      "source": [
        "np.concatenate\n",
        "np.ones\n",
        "np.zeros"
      ],
      "metadata": {
        "id": "Lv8fqP-Dv7qy"
      }
    },
    {
      "cell_type": "code",
      "source": [
        "#사이킷런으로 훈련 셋 테스 셋 나누기\n",
        "\n",
        "from sklearn.model_selection import train_test_split\n",
        "\n",
        "train_input, test_input, train_target, test_target = train_test_split(fish_data, fish_target, random_state=42)"
      ],
      "metadata": {
        "id": "uU2qvAJtwHiL"
      },
      "execution_count": 122,
      "outputs": []
    },
    {
      "cell_type": "markdown",
      "source": [
        "train_test_split() 함수는 사이킷런의 model_selection 모듈 아래 있다.\n",
        "\n",
        "자동으로 나누기전에 알아서 섞어준다.\n",
        "\n",
        "비율도 알아서 적절히 정해준다. 기본적으로 25%를 테스트 세트로 분리한다.\n",
        "\n",
        "샘플링 편향이 나타난것을 해결하기 위해 stratify 조건을 추가해 해결가능하다.\n",
        "\n",
        "fish_target 데이터를 전달하면 클래스 비율에 맞게 데이터를 나눠줍니다."
      ],
      "metadata": {
        "id": "zHanuEP-wWwP"
      }
    },
    {
      "cell_type": "code",
      "source": [
        "train_input, test_input, train_target, test_target = train_test_split(fish_data, fish_target, stratify=fish_target, random_state=42)\n",
        "\n",
        "print(test_target)\n",
        "\n",
        "from sklearn.neighbors import KNeighborsClassifier\n",
        "kn = KNeighborsClassifier()\n",
        "kn.fit(train_input, train_target)\n",
        "kn.score(test_input, test_target)"
      ],
      "metadata": {
        "colab": {
          "base_uri": "https://localhost:8080/"
        },
        "id": "_X3jyU5tzkEi",
        "outputId": "9136e82b-1355-4cf3-ae70-a6f05b68f1a8"
      },
      "execution_count": 123,
      "outputs": [
        {
          "output_type": "stream",
          "name": "stdout",
          "text": [
            "[0. 0. 1. 0. 1. 0. 1. 1. 1. 1. 1. 1. 1.]\n"
          ]
        },
        {
          "output_type": "execute_result",
          "data": {
            "text/plain": [
              "1.0"
            ]
          },
          "metadata": {},
          "execution_count": 123
        }
      ]
    },
    {
      "cell_type": "code",
      "source": [
        "print(kn.predict([[25,150]]))"
      ],
      "metadata": {
        "colab": {
          "base_uri": "https://localhost:8080/"
        },
        "id": "uO9ijorz2B-L",
        "outputId": "b1025f62-6045-41e6-ddce-78e2fa9c925b"
      },
      "execution_count": 124,
      "outputs": [
        {
          "output_type": "stream",
          "name": "stdout",
          "text": [
            "[0.]\n"
          ]
        }
      ]
    },
    {
      "cell_type": "markdown",
      "source": [
        "KNN의 KNeighborsClassifier 클래스는 주어진 샘플에서 가장 가까운 이웃을 찾아주는 kneighbors() 방법을 제공합니다. 이 함수는 이웃까지의 거리와 이웃 샘플의 인덱스를 반환합니다. n_neighbors의 기본값이 5이므로 5개의 이웃이 반환됩니다."
      ],
      "metadata": {
        "id": "FwTgLmE22UZX"
      }
    },
    {
      "cell_type": "code",
      "source": [
        "# x = [i for i in range(41)]\n",
        "# y = [i for i in range(0,1001,25)]\n",
        "# z = []\n",
        "# for a in x :\n",
        "#   for b in y :\n",
        "#     z.append([a,b]) \n",
        "  \n",
        "# test_all_input = np.array(z)\n",
        "\n",
        "# print(kn.predict(test_all_input))\n",
        "\n",
        "# predict_array = np.column_stack((test_all_input, kn.predict(test_all_input)))\n",
        "\n",
        "# predict_smelt = test_all_input[kn.predict(test_all_input)==0]\n",
        "# predict_bream = test_all_input[kn.predict(test_all_input)==1]\n",
        "\n",
        "# len(predict_smelt)\n",
        "# len(predict_bream)\n",
        "\n",
        "# import matplotlib.pyplot as plt\n",
        "\n",
        "# plt.scatter(predict_smelt[:,0], predict_smelt[:, 1])\n",
        "# plt.scatter(predict_bream[:,0], predict_bream[:, 1])\n",
        "# plt.xlabel('length')\n",
        "# plt.ylabel('weight')\n",
        "\n",
        "# plt.show()"
      ],
      "metadata": {
        "id": "9qWQyNNq3G33"
      },
      "execution_count": null,
      "outputs": []
    },
    {
      "cell_type": "code",
      "source": [
        "distances, indexes = kn.kneighbors([[25, 150]])\n",
        "\n",
        "plt.scatter(train_input[:,0], train_input[:,1])\n",
        "plt.scatter(25, 150, marker='^')\n",
        "plt.scatter(train_input[indexes,0], train_input[indexes, 1], marker='D')\n",
        "plt.xlabel('length')\n",
        "plt.ylabel('weight')\n",
        "plt.show()"
      ],
      "metadata": {
        "colab": {
          "base_uri": "https://localhost:8080/",
          "height": 279
        },
        "id": "fYVC4HDpf_fC",
        "outputId": "53445d0b-3740-4f18-b88b-ace925563908"
      },
      "execution_count": 125,
      "outputs": [
        {
          "output_type": "display_data",
          "data": {
            "text/plain": [
              "<Figure size 432x288 with 1 Axes>"
            ],
            "image/png": "[encoded data removed]"
          },
          "metadata": {
            "needs_background": "light"
          }
        }
      ]
    },
    {
      "cell_type": "markdown",
      "source": [
        "25, 150이 현재 참조하고 있는 값을 초록색 다이아몬드로 표시한다.\n",
        "x, y축의 범위가 현재 현저히 차이나기 때문이다*** \n",
        "++ bream and smelt reserch에서 고민하던 이유를 알았다. // 0517\n",
        "\n",
        "scaled하여 새로 트레이닝 시키면 x, y의 자료 범위와 관계없이 동일한 조건으로 비교가 가능합니다!\n"
      ],
      "metadata": {
        "id": "efw5z2Dng5ug"
      }
    },
    {
      "cell_type": "code",
      "source": [
        "mean = np.mean(train_input, axis =0)\n",
        "std = np.std(train_input, axis=0)\n",
        "\n",
        "#mean = 평균, std = 표준편차\n",
        "\n",
        "train_scaled = (train_input - mean)/std\n",
        "\n",
        "new = ([25, 150]-mean) / std\n",
        "plt.scatter(train_scaled[:,0], train_scaled[:,1])\n",
        "plt.scatter(new[0], new[1], marker='^')\n",
        "plt.xlabel('length')\n",
        "plt.ylabel('weight')\n",
        "plt.show\n",
        "\n",
        "#x, y축의 범위가 -1.5~1.5로 바뀜"
      ],
      "metadata": {
        "colab": {
          "base_uri": "https://localhost:8080/",
          "height": 297
        },
        "id": "cuyIuZkLi8av",
        "outputId": "19951972-8f45-432c-e5ec-c5805b1512b9"
      },
      "execution_count": 127,
      "outputs": [
        {
          "output_type": "execute_result",
          "data": {
            "text/plain": [
              "<function matplotlib.pyplot.show>"
            ]
          },
          "metadata": {},
          "execution_count": 127
        },
        {
          "output_type": "display_data",
          "data": {
            "text/plain": [
              "<Figure size 432x288 with 1 Axes>"
            ],
            "image/png": "[encoded data removed]"
          },
          "metadata": {
            "needs_background": "light"
          }
        }
      ]
    },
    {
      "cell_type": "code",
      "source": [
        "#새로 피팅된 트레이닝 데이터로 다시 훈련시키기\n",
        "\n",
        "kn.fit(train_scaled, train_target)\n",
        "test_scaled = (test_input - mean)/std\n",
        "kn.score(test_scaled, test_target)\n",
        "\n",
        "print(kn.predict([new]))\n"
      ],
      "metadata": {
        "colab": {
          "base_uri": "https://localhost:8080/"
        },
        "id": "ViLQBntWj-i9",
        "outputId": "92fa5b99-a9f0-4df5-ca13-e06cce03bb12"
      },
      "execution_count": 132,
      "outputs": [
        {
          "output_type": "stream",
          "name": "stdout",
          "text": [
            "[1.]\n"
          ]
        }
      ]
    },
    {
      "cell_type": "code",
      "source": [
        ""
      ],
      "metadata": {
        "id": "4BMbjRSGkyaB"
      },
      "execution_count": null,
      "outputs": []
    },
    {
      "cell_type": "markdown",
      "source": [
        "# 추가공부 >>> bream과 smelt 약 1600개의 데이터에서 도미와 방어의 인식 범위를 나타내는 산점도 그리기"
      ],
      "metadata": {
        "id": "7hxwYZ2Dunp8"
      }
    },
    {
      "cell_type": "code",
      "source": [
        "x = [i for i in range(41)]\n",
        "y = [i for i in range(0,1001,25)]\n",
        "z = []\n",
        "for a in x :\n",
        "  for b in y :\n",
        "    z.append([a,b]) \n",
        "  \n",
        "test_all_input = np.array(z)\n",
        "test_all_scaled = (test_all_input - mean)/std\n",
        "\n",
        "print(kn.predict(test_all_scaled))\n",
        "\n",
        "predict_array = np.column_stack((test_all_input, kn.predict(test_all_scaled)))\n",
        "\n",
        "predict_smelt = test_all_input[kn.predict(test_all_scaled)==0]\n",
        "predict_bream = test_all_input[kn.predict(test_all_scaled)==1]\n",
        "\n",
        "len(predict_smelt)\n",
        "len(predict_bream)\n",
        "\n",
        "import matplotlib.pyplot as plt\n",
        "\n",
        "plt.scatter(predict_smelt[:,0], predict_smelt[:, 1])\n",
        "plt.scatter(predict_bream[:,0], predict_bream[:, 1])\n",
        "plt.xlabel('length')\n",
        "plt.ylabel('weight')\n",
        "\n",
        "plt.show()"
      ],
      "metadata": {
        "colab": {
          "base_uri": "https://localhost:8080/",
          "height": 297
        },
        "id": "6WVuPoKklAS3",
        "outputId": "c4eae681-4c27-4bdb-f03e-9de1a609143c"
      },
      "execution_count": 133,
      "outputs": [
        {
          "output_type": "stream",
          "name": "stdout",
          "text": [
            "[0. 0. 0. ... 1. 1. 1.]\n"
          ]
        },
        {
          "output_type": "display_data",
          "data": {
            "text/plain": [
              "<Figure size 432x288 with 1 Axes>"
            ],
            "image/png": "[encoded data removed]"
          },
          "metadata": {
            "needs_background": "light"
          }
        }
      ]
    },
    {
      "cell_type": "code",
      "source": [
        ""
      ],
      "metadata": {
        "id": "p-8R01NopvH5"
      },
      "execution_count": null,
      "outputs": []
    }
  ]
}