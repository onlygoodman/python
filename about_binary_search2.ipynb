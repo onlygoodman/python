{
  "nbformat": 4,
  "nbformat_minor": 0,
  "metadata": {
    "colab": {
      "name": "about_binary_search2.ipynb",
      "provenance": []
    },
    "kernelspec": {
      "name": "python3",
      "display_name": "Python 3"
    },
    "language_info": {
      "name": "python"
    }
  },
  "cells": [
    {
      "cell_type": "code",
      "execution_count": 8,
      "metadata": {
        "colab": {
          "base_uri": "https://localhost:8080/"
        },
        "id": "3VvsFe5A1tmj",
        "outputId": "2d7a6276-9c73-45d3-9205-f31d9ac3d749"
      },
      "outputs": [
        {
          "output_type": "stream",
          "name": "stdout",
          "text": [
            "10 7\n",
            "1 3 5 7 9 11 13 15 17 19\n",
            "4\n"
          ]
        }
      ],
      "source": [
        "#재귀 함수로 구현한 이진 탐색 소스코드\n",
        "\n",
        "def bs(array, target, start, end):\n",
        "  if start > end:\n",
        "    return None\n",
        "  \n",
        "  mid = (start+end)//2\n",
        "  #mid가 찾고자하는 target일경우 반환\n",
        "\n",
        "  if array[mid] == target:\n",
        "    return mid\n",
        "\n",
        "  elif array[mid] > target:\n",
        "    return bs(array, target, start, mid-1)\n",
        "    #mid-1을 해주어야 왼쪽값 참조 가능\n",
        "\n",
        "  else:\n",
        "    return bs(array, target, mid+1, end)\n",
        "\n",
        "# bs(배열, 정답, 시작지점, 끝)\n",
        "# 시작지점이 끝보다 큰 경우에는 종료\n",
        "# mid 변수를 정의 s와 e의 합의 //2 는 정수형으로 몫이 반환되기 때문에 ex) 7//2 = 3이 반환됨\n",
        "\n",
        "\n",
        "n, target = list(map(int, input().split()))\n",
        "#n은 원소의 개수 target은 찾고자 하는값\n",
        "array = list(map(int, input().split()))\n",
        "\n",
        "result = bs(array, target, 0, n-1)\n",
        "if result==None:\n",
        "  print(\"원소가 존재하지 않습니다.\")\n",
        "\n",
        "else:\n",
        "  print(result + 1)\n"
      ]
    },
    {
      "cell_type": "code",
      "source": [
        "result=bs(array, 9, 0, n-1)"
      ],
      "metadata": {
        "id": "CIRcHcYQ3hyI"
      },
      "execution_count": 5,
      "outputs": []
    },
    {
      "cell_type": "code",
      "source": [
        "print(bs(array, 11, 0, n-1))"
      ],
      "metadata": {
        "colab": {
          "base_uri": "https://localhost:8080/"
        },
        "id": "N-b5Cf8f5qZD",
        "outputId": "4ecd864f-6f1b-45f6-99a0-267ff7ba7e32"
      },
      "execution_count": 7,
      "outputs": [
        {
          "output_type": "stream",
          "name": "stdout",
          "text": [
            "5\n"
          ]
        }
      ]
    }
  ]
}