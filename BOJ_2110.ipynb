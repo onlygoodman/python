{
  "nbformat": 4,
  "nbformat_minor": 0,
  "metadata": {
    "colab": {
      "name": "BOJ 2110.ipynb",
      "provenance": []
    },
    "kernelspec": {
      "name": "python3",
      "display_name": "Python 3"
    },
    "language_info": {
      "name": "python"
    }
  },
  "cells": [
    {
      "cell_type": "code",
      "source": [
        "#2110 공유기설치\n",
        "\n",
        "import sys\n",
        "\n",
        "N, C = map(int, input().split())\n",
        "\n",
        "input=sys.stdin.readlin\n",
        "x=[int(input()) for _ in range(N)]\n",
        "\n",
        "x= sorted(x)\n",
        "\n",
        "min_x= x[0]\n",
        "max_x= x[-1]\n",
        "start = 1\n",
        "end = max_x - min_x\n",
        "answer = 0\n",
        "\n",
        "def binary_search(array, start, end):\n",
        "    while start <= end:\n",
        "        mid = (start + end) // 2\n",
        "        current = array[0]\n",
        "        count = 1\n",
        "\n",
        "        for i in range(1, len(array)):\n",
        "            if array[i] >= current + mid:\n",
        "                count += 1\n",
        "                current = array[i]\n",
        "\n",
        "        if count >= C:\n",
        "            global answer\n",
        "            start = mid + 1\n",
        "            answer = mid\n",
        "        else:\n",
        "            end = mid - 1\n",
        "\n",
        "binary_search(x, start, end)\n",
        "print(answer)"
      ],
      "metadata": {
        "colab": {
          "base_uri": "https://localhost:8080/"
        },
        "id": "xTsQNIZLQFNI",
        "outputId": "0d8ee395-cade-4fbe-b46b-30a598d0cc3f"
      },
      "execution_count": 3,
      "outputs": [
        {
          "output_type": "stream",
          "name": "stdout",
          "text": [
            "3\n"
          ]
        }
      ]
    }
  ]
}