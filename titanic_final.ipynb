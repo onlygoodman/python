{
  "nbformat": 4,
  "nbformat_minor": 0,
  "metadata": {
    "colab": {
      "name": "titanic_final",
      "provenance": [],
      "collapsed_sections": [
        "b5-Flwv7RY-8",
        "fu9lNpWB8Ljb",
        "uP4sKLyqG13e"
      ],
      "mount_file_id": "1JBiTzBCcduyrpkBw_se-qrxZmqWPcNuC",
      "authorship_tag": "ABX9TyPWMoL3pc3uL1kIVu3zVtI/",
      "include_colab_link": true
    },
    "kernelspec": {
      "name": "python3",
      "display_name": "Python 3"
    },
    "language_info": {
      "name": "python"
    }
  },
  "cells": [
    {
      "cell_type": "markdown",
      "metadata": {
        "id": "view-in-github",
        "colab_type": "text"
      },
      "source": [
        "<a href=\"https://colab.research.google.com/github/onlygoodman/python/blob/good/titanic_final.ipynb\" target=\"_parent\"><img src=\"https://colab.research.google.com/assets/colab-badge.svg\" alt=\"Open In Colab\"/></a>"
      ]
    },
    {
      "cell_type": "markdown",
      "source": [
        "#Titanic survived\n",
        "타이타닉 생존자 예측모델링"
      ],
      "metadata": {
        "id": "IMeYDm8_Lmbw"
      }
    },
    {
      "cell_type": "markdown",
      "source": [
        "# 데이터 분석 및 전처리"
      ],
      "metadata": {
        "id": "mqa8rjfnNDf2"
      }
    },
    {
      "cell_type": "code",
      "execution_count": 57,
      "metadata": {
        "id": "bo3YA2gT3JYX"
      },
      "outputs": [],
      "source": [
        "import pandas as pd #데이터 프레임 자료 처리를 위한 impot\n",
        "import numpy as np #array계산 및 ML동작을 위한 import\n",
        "import seaborn as sns #히트맵 등 plot을 위한 import\n",
        "\n",
        "import math #차후 factorial 계산 등 수학적인 계산을 위한 import\n",
        "\n",
        "from sklearn.model_selection import train_test_split #한정된 트레이닝 데이터를 훈련//검증 데이터로 나누기 위한 import\n",
        "from sklearn.preprocessing import PolynomialFeatures #특성공학을 사용하기 위한 import\n",
        "from sklearn.preprocessing import StandardScaler #전처리된 데이터들의 scale을 맞춰주기 위한 import\n",
        "\n",
        "from sklearn.neighbors import KNeighborsClassifier #KNN 분류\n",
        "from sklearn.ensemble import RandomForestClassifier #랜덤포레스트\n",
        "from sklearn.linear_model import LogisticRegression #Logistic회귀\n",
        "\n",
        "from sklearn.decomposition import PCA #차원 축소 - 주성분의 개수에 따른 최적화 모델 구현을 위한 import\n",
        "from sklearn.metrics import accuracy_score #이후 test.csv 파일의 predict 자료의 score을 매기기 위한 import\n",
        "\n",
        "\n",
        "\n",
        "\n",
        "train_df = pd.read_csv('/content/drive/MyDrive/Colab Notebooks/titanic/train.csv')\n",
        "test_df = pd.read_csv('/content/drive/MyDrive/Colab Notebooks/titanic/test.csv')"
      ]
    },
    {
      "cell_type": "code",
      "source": [
        "#학습 해야 할 데이터의 특성들과 구조 파악을 위한 info확인\n",
        "train_df.info()\n",
        "train_df\n",
        "#PassengerId, Ticket열은 고유번호이므로 삭제하고 Cabin은 결측값이 너무 많기 때문에 삭제하여 데이터를 사용해야겠다."
      ],
      "metadata": {
        "colab": {
          "base_uri": "https://localhost:8080/",
          "height": 773
        },
        "id": "k4mLt2zz4_X9",
        "outputId": "71757961-076b-44e9-d618-502d3f229659"
      },
      "execution_count": 58,
      "outputs": [
        {
          "output_type": "stream",
          "name": "stdout",
          "text": [
            "<class 'pandas.core.frame.DataFrame'>\n",
            "RangeIndex: 891 entries, 0 to 890\n",
            "Data columns (total 12 columns):\n",
            " #   Column       Non-Null Count  Dtype  \n",
            "---  ------       --------------  -----  \n",
            " 0   PassengerId  891 non-null    int64  \n",
            " 1   Survived     891 non-null    int64  \n",
            " 2   Pclass       891 non-null    int64  \n",
            " 3   Name         891 non-null    object \n",
            " 4   Sex          891 non-null    object \n",
            " 5   Age          714 non-null    float64\n",
            " 6   SibSp        891 non-null    int64  \n",
            " 7   Parch        891 non-null    int64  \n",
            " 8   Ticket       891 non-null    object \n",
            " 9   Fare         891 non-null    float64\n",
            " 10  Cabin        204 non-null    object \n",
            " 11  Embarked     889 non-null    object \n",
            "dtypes: float64(2), int64(5), object(5)\n",
            "memory usage: 83.7+ KB\n"
          ]
        },
        {
          "output_type": "execute_result",
          "data": {
            "text/plain": [
              "     PassengerId  Survived  Pclass  \\\n",
              "0              1         0       3   \n",
              "1              2         1       1   \n",
              "2              3         1       3   \n",
              "3              4         1       1   \n",
              "4              5         0       3   \n",
              "..           ...       ...     ...   \n",
              "886          887         0       2   \n",
              "887          888         1       1   \n",
              "888          889         0       3   \n",
              "889          890         1       1   \n",
              "890          891         0       3   \n",
              "\n",
              "                                                  Name     Sex   Age  SibSp  \\\n",
              "0                              Braund, Mr. Owen Harris    male  22.0      1   \n",
              "1    Cumings, Mrs. John Bradley (Florence Briggs Th...  female  38.0      1   \n",
              "2                               Heikkinen, Miss. Laina  female  26.0      0   \n",
              "3         Futrelle, Mrs. Jacques Heath (Lily May Peel)  female  35.0      1   \n",
              "4                             Allen, Mr. William Henry    male  35.0      0   \n",
              "..                                                 ...     ...   ...    ...   \n",
              "886                              Montvila, Rev. Juozas    male  27.0      0   \n",
              "887                       Graham, Miss. Margaret Edith  female  19.0      0   \n",
              "888           Johnston, Miss. Catherine Helen \"Carrie\"  female   NaN      1   \n",
              "889                              Behr, Mr. Karl Howell    male  26.0      0   \n",
              "890                                Dooley, Mr. Patrick    male  32.0      0   \n",
              "\n",
              "     Parch            Ticket     Fare Cabin Embarked  \n",
              "0        0         A/5 21171   7.2500   NaN        S  \n",
              "1        0          PC 17599  71.2833   C85        C  \n",
              "2        0  STON/O2. 3101282   7.9250   NaN        S  \n",
              "3        0            113803  53.1000  C123        S  \n",
              "4        0            373450   8.0500   NaN        S  \n",
              "..     ...               ...      ...   ...      ...  \n",
              "886      0            211536  13.0000   NaN        S  \n",
              "887      0            112053  30.0000   B42        S  \n",
              "888      2        W./C. 6607  23.4500   NaN        S  \n",
              "889      0            111369  30.0000  C148        C  \n",
              "890      0            370376   7.7500   NaN        Q  \n",
              "\n",
              "[891 rows x 12 columns]"
            ],
            "text/html": [
              "\n",
              "  <div id=\"df-bec579e5-cd52-423c-8c77-103c1949b5c3\">\n",
              "    <div class=\"colab-df-container\">\n",
              "      <div>\n",
              "<style scoped>\n",
              "    .dataframe tbody tr th:only-of-type {\n",
              "        vertical-align: middle;\n",
              "    }\n",
              "\n",
              "    .dataframe tbody tr th {\n",
              "        vertical-align: top;\n",
              "    }\n",
              "\n",
              "    .dataframe thead th {\n",
              "        text-align: right;\n",
              "    }\n",
              "</style>\n",
              "<table border=\"1\" class=\"dataframe\">\n",
              "  <thead>\n",
              "    <tr style=\"text-align: right;\">\n",
              "      <th></th>\n",
              "      <th>PassengerId</th>\n",
              "      <th>Survived</th>\n",
              "      <th>Pclass</th>\n",
              "      <th>Name</th>\n",
              "      <th>Sex</th>\n",
              "      <th>Age</th>\n",
              "      <th>SibSp</th>\n",
              "      <th>Parch</th>\n",
              "      <th>Ticket</th>\n",
              "      <th>Fare</th>\n",
              "      <th>Cabin</th>\n",
              "      <th>Embarked</th>\n",
              "    </tr>\n",
              "  </thead>\n",
              "  <tbody>\n",
              "    <tr>\n",
              "      <th>0</th>\n",
              "      <td>1</td>\n",
              "      <td>0</td>\n",
              "      <td>3</td>\n",
              "      <td>Braund, Mr. Owen Harris</td>\n",
              "      <td>male</td>\n",
              "      <td>22.0</td>\n",
              "      <td>1</td>\n",
              "      <td>0</td>\n",
              "      <td>A/5 21171</td>\n",
              "      <td>7.2500</td>\n",
              "      <td>NaN</td>\n",
              "      <td>S</td>\n",
              "    </tr>\n",
              "    <tr>\n",
              "      <th>1</th>\n",
              "      <td>2</td>\n",
              "      <td>1</td>\n",
              "      <td>1</td>\n",
              "      <td>Cumings, Mrs. John Bradley (Florence Briggs Th...</td>\n",
              "      <td>female</td>\n",
              "      <td>38.0</td>\n",
              "      <td>1</td>\n",
              "      <td>0</td>\n",
              "      <td>PC 17599</td>\n",
              "      <td>71.2833</td>\n",
              "      <td>C85</td>\n",
              "      <td>C</td>\n",
              "    </tr>\n",
              "    <tr>\n",
              "      <th>2</th>\n",
              "      <td>3</td>\n",
              "      <td>1</td>\n",
              "      <td>3</td>\n",
              "      <td>Heikkinen, Miss. Laina</td>\n",
              "      <td>female</td>\n",
              "      <td>26.0</td>\n",
              "      <td>0</td>\n",
              "      <td>0</td>\n",
              "      <td>STON/O2. 3101282</td>\n",
              "      <td>7.9250</td>\n",
              "      <td>NaN</td>\n",
              "      <td>S</td>\n",
              "    </tr>\n",
              "    <tr>\n",
              "      <th>3</th>\n",
              "      <td>4</td>\n",
              "      <td>1</td>\n",
              "      <td>1</td>\n",
              "      <td>Futrelle, Mrs. Jacques Heath (Lily May Peel)</td>\n",
              "      <td>female</td>\n",
              "      <td>35.0</td>\n",
              "      <td>1</td>\n",
              "      <td>0</td>\n",
              "      <td>113803</td>\n",
              "      <td>53.1000</td>\n",
              "      <td>C123</td>\n",
              "      <td>S</td>\n",
              "    </tr>\n",
              "    <tr>\n",
              "      <th>4</th>\n",
              "      <td>5</td>\n",
              "      <td>0</td>\n",
              "      <td>3</td>\n",
              "      <td>Allen, Mr. William Henry</td>\n",
              "      <td>male</td>\n",
              "      <td>35.0</td>\n",
              "      <td>0</td>\n",
              "      <td>0</td>\n",
              "      <td>373450</td>\n",
              "      <td>8.0500</td>\n",
              "      <td>NaN</td>\n",
              "      <td>S</td>\n",
              "    </tr>\n",
              "    <tr>\n",
              "      <th>...</th>\n",
              "      <td>...</td>\n",
              "      <td>...</td>\n",
              "      <td>...</td>\n",
              "      <td>...</td>\n",
              "      <td>...</td>\n",
              "      <td>...</td>\n",
              "      <td>...</td>\n",
              "      <td>...</td>\n",
              "      <td>...</td>\n",
              "      <td>...</td>\n",
              "      <td>...</td>\n",
              "      <td>...</td>\n",
              "    </tr>\n",
              "    <tr>\n",
              "      <th>886</th>\n",
              "      <td>887</td>\n",
              "      <td>0</td>\n",
              "      <td>2</td>\n",
              "      <td>Montvila, Rev. Juozas</td>\n",
              "      <td>male</td>\n",
              "      <td>27.0</td>\n",
              "      <td>0</td>\n",
              "      <td>0</td>\n",
              "      <td>211536</td>\n",
              "      <td>13.0000</td>\n",
              "      <td>NaN</td>\n",
              "      <td>S</td>\n",
              "    </tr>\n",
              "    <tr>\n",
              "      <th>887</th>\n",
              "      <td>888</td>\n",
              "      <td>1</td>\n",
              "      <td>1</td>\n",
              "      <td>Graham, Miss. Margaret Edith</td>\n",
              "      <td>female</td>\n",
              "      <td>19.0</td>\n",
              "      <td>0</td>\n",
              "      <td>0</td>\n",
              "      <td>112053</td>\n",
              "      <td>30.0000</td>\n",
              "      <td>B42</td>\n",
              "      <td>S</td>\n",
              "    </tr>\n",
              "    <tr>\n",
              "      <th>888</th>\n",
              "      <td>889</td>\n",
              "      <td>0</td>\n",
              "      <td>3</td>\n",
              "      <td>Johnston, Miss. Catherine Helen \"Carrie\"</td>\n",
              "      <td>female</td>\n",
              "      <td>NaN</td>\n",
              "      <td>1</td>\n",
              "      <td>2</td>\n",
              "      <td>W./C. 6607</td>\n",
              "      <td>23.4500</td>\n",
              "      <td>NaN</td>\n",
              "      <td>S</td>\n",
              "    </tr>\n",
              "    <tr>\n",
              "      <th>889</th>\n",
              "      <td>890</td>\n",
              "      <td>1</td>\n",
              "      <td>1</td>\n",
              "      <td>Behr, Mr. Karl Howell</td>\n",
              "      <td>male</td>\n",
              "      <td>26.0</td>\n",
              "      <td>0</td>\n",
              "      <td>0</td>\n",
              "      <td>111369</td>\n",
              "      <td>30.0000</td>\n",
              "      <td>C148</td>\n",
              "      <td>C</td>\n",
              "    </tr>\n",
              "    <tr>\n",
              "      <th>890</th>\n",
              "      <td>891</td>\n",
              "      <td>0</td>\n",
              "      <td>3</td>\n",
              "      <td>Dooley, Mr. Patrick</td>\n",
              "      <td>male</td>\n",
              "      <td>32.0</td>\n",
              "      <td>0</td>\n",
              "      <td>0</td>\n",
              "      <td>370376</td>\n",
              "      <td>7.7500</td>\n",
              "      <td>NaN</td>\n",
              "      <td>Q</td>\n",
              "    </tr>\n",
              "  </tbody>\n",
              "</table>\n",
              "<p>891 rows × 12 columns</p>\n",
              "</div>\n",
              "      <button class=\"colab-df-convert\" onclick=\"convertToInteractive('df-bec579e5-cd52-423c-8c77-103c1949b5c3')\"\n",
              "              title=\"Convert this dataframe to an interactive table.\"\n",
              "              style=\"display:none;\">\n",
              "        \n",
              "  <svg xmlns=\"http://www.w3.org/2000/svg\" height=\"24px\"viewBox=\"0 0 24 24\"\n",
              "       width=\"24px\">\n",
              "    <path d=\"M0 0h24v24H0V0z\" fill=\"none\"/>\n",
              "    <path d=\"M18.56 5.44l.94 2.06.94-2.06 2.06-.94-2.06-.94-.94-2.06-.94 2.06-2.06.94zm-11 1L8.5 8.5l.94-2.06 2.06-.94-2.06-.94L8.5 2.5l-.94 2.06-2.06.94zm10 10l.94 2.06.94-2.06 2.06-.94-2.06-.94-.94-2.06-.94 2.06-2.06.94z\"/><path d=\"M17.41 7.96l-1.37-1.37c-.4-.4-.92-.59-1.43-.59-.52 0-1.04.2-1.43.59L10.3 9.45l-7.72 7.72c-.78.78-.78 2.05 0 2.83L4 21.41c.39.39.9.59 1.41.59.51 0 1.02-.2 1.41-.59l7.78-7.78 2.81-2.81c.8-.78.8-2.07 0-2.86zM5.41 20L4 18.59l7.72-7.72 1.47 1.35L5.41 20z\"/>\n",
              "  </svg>\n",
              "      </button>\n",
              "      \n",
              "  <style>\n",
              "    .colab-df-container {\n",
              "      display:flex;\n",
              "      flex-wrap:wrap;\n",
              "      gap: 12px;\n",
              "    }\n",
              "\n",
              "    .colab-df-convert {\n",
              "      background-color: #E8F0FE;\n",
              "      border: none;\n",
              "      border-radius: 50%;\n",
              "      cursor: pointer;\n",
              "      display: none;\n",
              "      fill: #1967D2;\n",
              "      height: 32px;\n",
              "      padding: 0 0 0 0;\n",
              "      width: 32px;\n",
              "    }\n",
              "\n",
              "    .colab-df-convert:hover {\n",
              "      background-color: #E2EBFA;\n",
              "      box-shadow: 0px 1px 2px rgba(60, 64, 67, 0.3), 0px 1px 3px 1px rgba(60, 64, 67, 0.15);\n",
              "      fill: #174EA6;\n",
              "    }\n",
              "\n",
              "    [theme=dark] .colab-df-convert {\n",
              "      background-color: #3B4455;\n",
              "      fill: #D2E3FC;\n",
              "    }\n",
              "\n",
              "    [theme=dark] .colab-df-convert:hover {\n",
              "      background-color: #434B5C;\n",
              "      box-shadow: 0px 1px 3px 1px rgba(0, 0, 0, 0.15);\n",
              "      filter: drop-shadow(0px 1px 2px rgba(0, 0, 0, 0.3));\n",
              "      fill: #FFFFFF;\n",
              "    }\n",
              "  </style>\n",
              "\n",
              "      <script>\n",
              "        const buttonEl =\n",
              "          document.querySelector('#df-bec579e5-cd52-423c-8c77-103c1949b5c3 button.colab-df-convert');\n",
              "        buttonEl.style.display =\n",
              "          google.colab.kernel.accessAllowed ? 'block' : 'none';\n",
              "\n",
              "        async function convertToInteractive(key) {\n",
              "          const element = document.querySelector('#df-bec579e5-cd52-423c-8c77-103c1949b5c3');\n",
              "          const dataTable =\n",
              "            await google.colab.kernel.invokeFunction('convertToInteractive',\n",
              "                                                     [key], {});\n",
              "          if (!dataTable) return;\n",
              "\n",
              "          const docLinkHtml = 'Like what you see? Visit the ' +\n",
              "            '<a target=\"_blank\" href=https://colab.research.google.com/notebooks/data_table.ipynb>data table notebook</a>'\n",
              "            + ' to learn more about interactive tables.';\n",
              "          element.innerHTML = '';\n",
              "          dataTable['output_type'] = 'display_data';\n",
              "          await google.colab.output.renderOutput(dataTable, element);\n",
              "          const docLink = document.createElement('div');\n",
              "          docLink.innerHTML = docLinkHtml;\n",
              "          element.appendChild(docLink);\n",
              "        }\n",
              "      </script>\n",
              "    </div>\n",
              "  </div>\n",
              "  "
            ]
          },
          "metadata": {},
          "execution_count": 58
        }
      ]
    },
    {
      "cell_type": "code",
      "source": [
        "train_df.drop(['PassengerId','Ticket', 'Cabin'], axis=1, inplace =True)"
      ],
      "metadata": {
        "id": "sgtbVgDx5S4E"
      },
      "execution_count": 59,
      "outputs": []
    },
    {
      "cell_type": "code",
      "source": [
        "train1 = train_df[train_df[\"Age\"].notnull()]\n",
        "train2 = train1[train1[\"Embarked\"].notnull()]\n",
        "\n",
        "#나이와 승선지의 결측치를 예측하기 어렵기 때문에 결측치가 없는 열만 추출 train2, test2에 저장"
      ],
      "metadata": {
        "id": "f678NHgO4KCI"
      },
      "execution_count": 60,
      "outputs": []
    },
    {
      "cell_type": "code",
      "source": [
        "#train2 데이터 전반적인 구조 확인\n",
        "train2.describe() "
      ],
      "metadata": {
        "colab": {
          "base_uri": "https://localhost:8080/",
          "height": 300
        },
        "id": "MPFOROs8GRNg",
        "outputId": "a9ece1b0-2a2e-479f-e07a-708a4f19bf38"
      },
      "execution_count": 61,
      "outputs": [
        {
          "output_type": "execute_result",
          "data": {
            "text/plain": [
              "         Survived      Pclass         Age       SibSp       Parch        Fare\n",
              "count  712.000000  712.000000  712.000000  712.000000  712.000000  712.000000\n",
              "mean     0.404494    2.240169   29.642093    0.514045    0.432584   34.567251\n",
              "std      0.491139    0.836854   14.492933    0.930692    0.854181   52.938648\n",
              "min      0.000000    1.000000    0.420000    0.000000    0.000000    0.000000\n",
              "25%      0.000000    1.000000   20.000000    0.000000    0.000000    8.050000\n",
              "50%      0.000000    2.000000   28.000000    0.000000    0.000000   15.645850\n",
              "75%      1.000000    3.000000   38.000000    1.000000    1.000000   33.000000\n",
              "max      1.000000    3.000000   80.000000    5.000000    6.000000  512.329200"
            ],
            "text/html": [
              "\n",
              "  <div id=\"df-7e6cfde3-ae75-4c6f-a2d6-f2ba1e2eb69d\">\n",
              "    <div class=\"colab-df-container\">\n",
              "      <div>\n",
              "<style scoped>\n",
              "    .dataframe tbody tr th:only-of-type {\n",
              "        vertical-align: middle;\n",
              "    }\n",
              "\n",
              "    .dataframe tbody tr th {\n",
              "        vertical-align: top;\n",
              "    }\n",
              "\n",
              "    .dataframe thead th {\n",
              "        text-align: right;\n",
              "    }\n",
              "</style>\n",
              "<table border=\"1\" class=\"dataframe\">\n",
              "  <thead>\n",
              "    <tr style=\"text-align: right;\">\n",
              "      <th></th>\n",
              "      <th>Survived</th>\n",
              "      <th>Pclass</th>\n",
              "      <th>Age</th>\n",
              "      <th>SibSp</th>\n",
              "      <th>Parch</th>\n",
              "      <th>Fare</th>\n",
              "    </tr>\n",
              "  </thead>\n",
              "  <tbody>\n",
              "    <tr>\n",
              "      <th>count</th>\n",
              "      <td>712.000000</td>\n",
              "      <td>712.000000</td>\n",
              "      <td>712.000000</td>\n",
              "      <td>712.000000</td>\n",
              "      <td>712.000000</td>\n",
              "      <td>712.000000</td>\n",
              "    </tr>\n",
              "    <tr>\n",
              "      <th>mean</th>\n",
              "      <td>0.404494</td>\n",
              "      <td>2.240169</td>\n",
              "      <td>29.642093</td>\n",
              "      <td>0.514045</td>\n",
              "      <td>0.432584</td>\n",
              "      <td>34.567251</td>\n",
              "    </tr>\n",
              "    <tr>\n",
              "      <th>std</th>\n",
              "      <td>0.491139</td>\n",
              "      <td>0.836854</td>\n",
              "      <td>14.492933</td>\n",
              "      <td>0.930692</td>\n",
              "      <td>0.854181</td>\n",
              "      <td>52.938648</td>\n",
              "    </tr>\n",
              "    <tr>\n",
              "      <th>min</th>\n",
              "      <td>0.000000</td>\n",
              "      <td>1.000000</td>\n",
              "      <td>0.420000</td>\n",
              "      <td>0.000000</td>\n",
              "      <td>0.000000</td>\n",
              "      <td>0.000000</td>\n",
              "    </tr>\n",
              "    <tr>\n",
              "      <th>25%</th>\n",
              "      <td>0.000000</td>\n",
              "      <td>1.000000</td>\n",
              "      <td>20.000000</td>\n",
              "      <td>0.000000</td>\n",
              "      <td>0.000000</td>\n",
              "      <td>8.050000</td>\n",
              "    </tr>\n",
              "    <tr>\n",
              "      <th>50%</th>\n",
              "      <td>0.000000</td>\n",
              "      <td>2.000000</td>\n",
              "      <td>28.000000</td>\n",
              "      <td>0.000000</td>\n",
              "      <td>0.000000</td>\n",
              "      <td>15.645850</td>\n",
              "    </tr>\n",
              "    <tr>\n",
              "      <th>75%</th>\n",
              "      <td>1.000000</td>\n",
              "      <td>3.000000</td>\n",
              "      <td>38.000000</td>\n",
              "      <td>1.000000</td>\n",
              "      <td>1.000000</td>\n",
              "      <td>33.000000</td>\n",
              "    </tr>\n",
              "    <tr>\n",
              "      <th>max</th>\n",
              "      <td>1.000000</td>\n",
              "      <td>3.000000</td>\n",
              "      <td>80.000000</td>\n",
              "      <td>5.000000</td>\n",
              "      <td>6.000000</td>\n",
              "      <td>512.329200</td>\n",
              "    </tr>\n",
              "  </tbody>\n",
              "</table>\n",
              "</div>\n",
              "      <button class=\"colab-df-convert\" onclick=\"convertToInteractive('df-7e6cfde3-ae75-4c6f-a2d6-f2ba1e2eb69d')\"\n",
              "              title=\"Convert this dataframe to an interactive table.\"\n",
              "              style=\"display:none;\">\n",
              "        \n",
              "  <svg xmlns=\"http://www.w3.org/2000/svg\" height=\"24px\"viewBox=\"0 0 24 24\"\n",
              "       width=\"24px\">\n",
              "    <path d=\"M0 0h24v24H0V0z\" fill=\"none\"/>\n",
              "    <path d=\"M18.56 5.44l.94 2.06.94-2.06 2.06-.94-2.06-.94-.94-2.06-.94 2.06-2.06.94zm-11 1L8.5 8.5l.94-2.06 2.06-.94-2.06-.94L8.5 2.5l-.94 2.06-2.06.94zm10 10l.94 2.06.94-2.06 2.06-.94-2.06-.94-.94-2.06-.94 2.06-2.06.94z\"/><path d=\"M17.41 7.96l-1.37-1.37c-.4-.4-.92-.59-1.43-.59-.52 0-1.04.2-1.43.59L10.3 9.45l-7.72 7.72c-.78.78-.78 2.05 0 2.83L4 21.41c.39.39.9.59 1.41.59.51 0 1.02-.2 1.41-.59l7.78-7.78 2.81-2.81c.8-.78.8-2.07 0-2.86zM5.41 20L4 18.59l7.72-7.72 1.47 1.35L5.41 20z\"/>\n",
              "  </svg>\n",
              "      </button>\n",
              "      \n",
              "  <style>\n",
              "    .colab-df-container {\n",
              "      display:flex;\n",
              "      flex-wrap:wrap;\n",
              "      gap: 12px;\n",
              "    }\n",
              "\n",
              "    .colab-df-convert {\n",
              "      background-color: #E8F0FE;\n",
              "      border: none;\n",
              "      border-radius: 50%;\n",
              "      cursor: pointer;\n",
              "      display: none;\n",
              "      fill: #1967D2;\n",
              "      height: 32px;\n",
              "      padding: 0 0 0 0;\n",
              "      width: 32px;\n",
              "    }\n",
              "\n",
              "    .colab-df-convert:hover {\n",
              "      background-color: #E2EBFA;\n",
              "      box-shadow: 0px 1px 2px rgba(60, 64, 67, 0.3), 0px 1px 3px 1px rgba(60, 64, 67, 0.15);\n",
              "      fill: #174EA6;\n",
              "    }\n",
              "\n",
              "    [theme=dark] .colab-df-convert {\n",
              "      background-color: #3B4455;\n",
              "      fill: #D2E3FC;\n",
              "    }\n",
              "\n",
              "    [theme=dark] .colab-df-convert:hover {\n",
              "      background-color: #434B5C;\n",
              "      box-shadow: 0px 1px 3px 1px rgba(0, 0, 0, 0.15);\n",
              "      filter: drop-shadow(0px 1px 2px rgba(0, 0, 0, 0.3));\n",
              "      fill: #FFFFFF;\n",
              "    }\n",
              "  </style>\n",
              "\n",
              "      <script>\n",
              "        const buttonEl =\n",
              "          document.querySelector('#df-7e6cfde3-ae75-4c6f-a2d6-f2ba1e2eb69d button.colab-df-convert');\n",
              "        buttonEl.style.display =\n",
              "          google.colab.kernel.accessAllowed ? 'block' : 'none';\n",
              "\n",
              "        async function convertToInteractive(key) {\n",
              "          const element = document.querySelector('#df-7e6cfde3-ae75-4c6f-a2d6-f2ba1e2eb69d');\n",
              "          const dataTable =\n",
              "            await google.colab.kernel.invokeFunction('convertToInteractive',\n",
              "                                                     [key], {});\n",
              "          if (!dataTable) return;\n",
              "\n",
              "          const docLinkHtml = 'Like what you see? Visit the ' +\n",
              "            '<a target=\"_blank\" href=https://colab.research.google.com/notebooks/data_table.ipynb>data table notebook</a>'\n",
              "            + ' to learn more about interactive tables.';\n",
              "          element.innerHTML = '';\n",
              "          dataTable['output_type'] = 'display_data';\n",
              "          await google.colab.output.renderOutput(dataTable, element);\n",
              "          const docLink = document.createElement('div');\n",
              "          docLink.innerHTML = docLinkHtml;\n",
              "          element.appendChild(docLink);\n",
              "        }\n",
              "      </script>\n",
              "    </div>\n",
              "  </div>\n",
              "  "
            ]
          },
          "metadata": {},
          "execution_count": 61
        }
      ]
    },
    {
      "cell_type": "code",
      "source": [
        "import matplotlib.pyplot as plt"
      ],
      "metadata": {
        "id": "Z9L7spzf9aav"
      },
      "execution_count": 62,
      "outputs": []
    },
    {
      "cell_type": "markdown",
      "source": [
        "# 자료분석\n",
        "\n",
        "1. 모든 데이터에 대해 생존 여부와의 관계를 1:1 대응시켜 살펴본다.\n",
        " - pcl to sur\n",
        " - sex to sur\n",
        " - sib to sur\n",
        " - par to sur\n",
        " - emb to sur\n",
        " - far to sur\n",
        " - age to sur"
      ],
      "metadata": {
        "id": "wKqrK-RY4Yy8"
      }
    },
    {
      "cell_type": "code",
      "source": [
        "#train2 데이터에서 등급별 생존확률에 대한 내림차순 정렬\n",
        "pcl_to_sur = train2[['Pclass', 'Survived']].groupby(['Pclass'], as_index=False).mean().sort_values(by='Survived', ascending=False)\n",
        "train2[['Pclass', 'Survived']].groupby(['Pclass'], as_index=False).mean().sort_values(by='Survived', ascending=False)"
      ],
      "metadata": {
        "colab": {
          "base_uri": "https://localhost:8080/",
          "height": 143
        },
        "id": "3rS8jYBb8GRN",
        "outputId": "e7663d20-b3da-454a-c705-d045959cddab"
      },
      "execution_count": 63,
      "outputs": [
        {
          "output_type": "execute_result",
          "data": {
            "text/plain": [
              "   Pclass  Survived\n",
              "0       1  0.652174\n",
              "1       2  0.479769\n",
              "2       3  0.239437"
            ],
            "text/html": [
              "\n",
              "  <div id=\"df-238d4d5c-ffab-4a1d-a071-8102d5e97737\">\n",
              "    <div class=\"colab-df-container\">\n",
              "      <div>\n",
              "<style scoped>\n",
              "    .dataframe tbody tr th:only-of-type {\n",
              "        vertical-align: middle;\n",
              "    }\n",
              "\n",
              "    .dataframe tbody tr th {\n",
              "        vertical-align: top;\n",
              "    }\n",
              "\n",
              "    .dataframe thead th {\n",
              "        text-align: right;\n",
              "    }\n",
              "</style>\n",
              "<table border=\"1\" class=\"dataframe\">\n",
              "  <thead>\n",
              "    <tr style=\"text-align: right;\">\n",
              "      <th></th>\n",
              "      <th>Pclass</th>\n",
              "      <th>Survived</th>\n",
              "    </tr>\n",
              "  </thead>\n",
              "  <tbody>\n",
              "    <tr>\n",
              "      <th>0</th>\n",
              "      <td>1</td>\n",
              "      <td>0.652174</td>\n",
              "    </tr>\n",
              "    <tr>\n",
              "      <th>1</th>\n",
              "      <td>2</td>\n",
              "      <td>0.479769</td>\n",
              "    </tr>\n",
              "    <tr>\n",
              "      <th>2</th>\n",
              "      <td>3</td>\n",
              "      <td>0.239437</td>\n",
              "    </tr>\n",
              "  </tbody>\n",
              "</table>\n",
              "</div>\n",
              "      <button class=\"colab-df-convert\" onclick=\"convertToInteractive('df-238d4d5c-ffab-4a1d-a071-8102d5e97737')\"\n",
              "              title=\"Convert this dataframe to an interactive table.\"\n",
              "              style=\"display:none;\">\n",
              "        \n",
              "  <svg xmlns=\"http://www.w3.org/2000/svg\" height=\"24px\"viewBox=\"0 0 24 24\"\n",
              "       width=\"24px\">\n",
              "    <path d=\"M0 0h24v24H0V0z\" fill=\"none\"/>\n",
              "    <path d=\"M18.56 5.44l.94 2.06.94-2.06 2.06-.94-2.06-.94-.94-2.06-.94 2.06-2.06.94zm-11 1L8.5 8.5l.94-2.06 2.06-.94-2.06-.94L8.5 2.5l-.94 2.06-2.06.94zm10 10l.94 2.06.94-2.06 2.06-.94-2.06-.94-.94-2.06-.94 2.06-2.06.94z\"/><path d=\"M17.41 7.96l-1.37-1.37c-.4-.4-.92-.59-1.43-.59-.52 0-1.04.2-1.43.59L10.3 9.45l-7.72 7.72c-.78.78-.78 2.05 0 2.83L4 21.41c.39.39.9.59 1.41.59.51 0 1.02-.2 1.41-.59l7.78-7.78 2.81-2.81c.8-.78.8-2.07 0-2.86zM5.41 20L4 18.59l7.72-7.72 1.47 1.35L5.41 20z\"/>\n",
              "  </svg>\n",
              "      </button>\n",
              "      \n",
              "  <style>\n",
              "    .colab-df-container {\n",
              "      display:flex;\n",
              "      flex-wrap:wrap;\n",
              "      gap: 12px;\n",
              "    }\n",
              "\n",
              "    .colab-df-convert {\n",
              "      background-color: #E8F0FE;\n",
              "      border: none;\n",
              "      border-radius: 50%;\n",
              "      cursor: pointer;\n",
              "      display: none;\n",
              "      fill: #1967D2;\n",
              "      height: 32px;\n",
              "      padding: 0 0 0 0;\n",
              "      width: 32px;\n",
              "    }\n",
              "\n",
              "    .colab-df-convert:hover {\n",
              "      background-color: #E2EBFA;\n",
              "      box-shadow: 0px 1px 2px rgba(60, 64, 67, 0.3), 0px 1px 3px 1px rgba(60, 64, 67, 0.15);\n",
              "      fill: #174EA6;\n",
              "    }\n",
              "\n",
              "    [theme=dark] .colab-df-convert {\n",
              "      background-color: #3B4455;\n",
              "      fill: #D2E3FC;\n",
              "    }\n",
              "\n",
              "    [theme=dark] .colab-df-convert:hover {\n",
              "      background-color: #434B5C;\n",
              "      box-shadow: 0px 1px 3px 1px rgba(0, 0, 0, 0.15);\n",
              "      filter: drop-shadow(0px 1px 2px rgba(0, 0, 0, 0.3));\n",
              "      fill: #FFFFFF;\n",
              "    }\n",
              "  </style>\n",
              "\n",
              "      <script>\n",
              "        const buttonEl =\n",
              "          document.querySelector('#df-238d4d5c-ffab-4a1d-a071-8102d5e97737 button.colab-df-convert');\n",
              "        buttonEl.style.display =\n",
              "          google.colab.kernel.accessAllowed ? 'block' : 'none';\n",
              "\n",
              "        async function convertToInteractive(key) {\n",
              "          const element = document.querySelector('#df-238d4d5c-ffab-4a1d-a071-8102d5e97737');\n",
              "          const dataTable =\n",
              "            await google.colab.kernel.invokeFunction('convertToInteractive',\n",
              "                                                     [key], {});\n",
              "          if (!dataTable) return;\n",
              "\n",
              "          const docLinkHtml = 'Like what you see? Visit the ' +\n",
              "            '<a target=\"_blank\" href=https://colab.research.google.com/notebooks/data_table.ipynb>data table notebook</a>'\n",
              "            + ' to learn more about interactive tables.';\n",
              "          element.innerHTML = '';\n",
              "          dataTable['output_type'] = 'display_data';\n",
              "          await google.colab.output.renderOutput(dataTable, element);\n",
              "          const docLink = document.createElement('div');\n",
              "          docLink.innerHTML = docLinkHtml;\n",
              "          element.appendChild(docLink);\n",
              "        }\n",
              "      </script>\n",
              "    </div>\n",
              "  </div>\n",
              "  "
            ]
          },
          "metadata": {},
          "execution_count": 63
        }
      ]
    },
    {
      "cell_type": "code",
      "source": [
        "#등급과 생존률 간의 상관관계 시각화\n",
        "pcl_to_sur.plot(kind=\"bar\", x='Pclass', y='Survived', figsize=(5,5), rot=0)"
      ],
      "metadata": {
        "colab": {
          "base_uri": "https://localhost:8080/",
          "height": 352
        },
        "id": "INuznXNC9qhv",
        "outputId": "43edb9a4-adcb-40ac-d3d8-0847832ee309"
      },
      "execution_count": 64,
      "outputs": [
        {
          "output_type": "execute_result",
          "data": {
            "text/plain": [
              "<matplotlib.axes._subplots.AxesSubplot at 0x7f38b7e66cd0>"
            ]
          },
          "metadata": {},
          "execution_count": 64
        },
        {
          "output_type": "display_data",
          "data": {
            "text/plain": [
              "<Figure size 360x360 with 1 Axes>"
            ],
            "image/png": "[encoded data removed]"
          },
          "metadata": {
            "needs_background": "light"
          }
        }
      ]
    },
    {
      "cell_type": "code",
      "source": [
        "#train2 데이터에서 sex별 생존확률에 대한 내림차순 정렬\n",
        "sex_to_sur = train2[['Sex', 'Survived']].groupby(['Sex'], as_index=False).mean().sort_values(by='Survived', ascending=False)\n",
        "train2[['Sex', 'Survived']].groupby(['Sex'], as_index=False).mean().sort_values(by='Survived', ascending=False)"
      ],
      "metadata": {
        "colab": {
          "base_uri": "https://localhost:8080/",
          "height": 112
        },
        "id": "XOH4zGz3-1SF",
        "outputId": "a792ba3d-26b6-4a48-c4ee-5bab6b09e867"
      },
      "execution_count": 65,
      "outputs": [
        {
          "output_type": "execute_result",
          "data": {
            "text/plain": [
              "      Sex  Survived\n",
              "0  female  0.752896\n",
              "1    male  0.205298"
            ],
            "text/html": [
              "\n",
              "  <div id=\"df-84606161-8158-4e75-be8e-f5e0c2e98735\">\n",
              "    <div class=\"colab-df-container\">\n",
              "      <div>\n",
              "<style scoped>\n",
              "    .dataframe tbody tr th:only-of-type {\n",
              "        vertical-align: middle;\n",
              "    }\n",
              "\n",
              "    .dataframe tbody tr th {\n",
              "        vertical-align: top;\n",
              "    }\n",
              "\n",
              "    .dataframe thead th {\n",
              "        text-align: right;\n",
              "    }\n",
              "</style>\n",
              "<table border=\"1\" class=\"dataframe\">\n",
              "  <thead>\n",
              "    <tr style=\"text-align: right;\">\n",
              "      <th></th>\n",
              "      <th>Sex</th>\n",
              "      <th>Survived</th>\n",
              "    </tr>\n",
              "  </thead>\n",
              "  <tbody>\n",
              "    <tr>\n",
              "      <th>0</th>\n",
              "      <td>female</td>\n",
              "      <td>0.752896</td>\n",
              "    </tr>\n",
              "    <tr>\n",
              "      <th>1</th>\n",
              "      <td>male</td>\n",
              "      <td>0.205298</td>\n",
              "    </tr>\n",
              "  </tbody>\n",
              "</table>\n",
              "</div>\n",
              "      <button class=\"colab-df-convert\" onclick=\"convertToInteractive('df-84606161-8158-4e75-be8e-f5e0c2e98735')\"\n",
              "              title=\"Convert this dataframe to an interactive table.\"\n",
              "              style=\"display:none;\">\n",
              "        \n",
              "  <svg xmlns=\"http://www.w3.org/2000/svg\" height=\"24px\"viewBox=\"0 0 24 24\"\n",
              "       width=\"24px\">\n",
              "    <path d=\"M0 0h24v24H0V0z\" fill=\"none\"/>\n",
              "    <path d=\"M18.56 5.44l.94 2.06.94-2.06 2.06-.94-2.06-.94-.94-2.06-.94 2.06-2.06.94zm-11 1L8.5 8.5l.94-2.06 2.06-.94-2.06-.94L8.5 2.5l-.94 2.06-2.06.94zm10 10l.94 2.06.94-2.06 2.06-.94-2.06-.94-.94-2.06-.94 2.06-2.06.94z\"/><path d=\"M17.41 7.96l-1.37-1.37c-.4-.4-.92-.59-1.43-.59-.52 0-1.04.2-1.43.59L10.3 9.45l-7.72 7.72c-.78.78-.78 2.05 0 2.83L4 21.41c.39.39.9.59 1.41.59.51 0 1.02-.2 1.41-.59l7.78-7.78 2.81-2.81c.8-.78.8-2.07 0-2.86zM5.41 20L4 18.59l7.72-7.72 1.47 1.35L5.41 20z\"/>\n",
              "  </svg>\n",
              "      </button>\n",
              "      \n",
              "  <style>\n",
              "    .colab-df-container {\n",
              "      display:flex;\n",
              "      flex-wrap:wrap;\n",
              "      gap: 12px;\n",
              "    }\n",
              "\n",
              "    .colab-df-convert {\n",
              "      background-color: #E8F0FE;\n",
              "      border: none;\n",
              "      border-radius: 50%;\n",
              "      cursor: pointer;\n",
              "      display: none;\n",
              "      fill: #1967D2;\n",
              "      height: 32px;\n",
              "      padding: 0 0 0 0;\n",
              "      width: 32px;\n",
              "    }\n",
              "\n",
              "    .colab-df-convert:hover {\n",
              "      background-color: #E2EBFA;\n",
              "      box-shadow: 0px 1px 2px rgba(60, 64, 67, 0.3), 0px 1px 3px 1px rgba(60, 64, 67, 0.15);\n",
              "      fill: #174EA6;\n",
              "    }\n",
              "\n",
              "    [theme=dark] .colab-df-convert {\n",
              "      background-color: #3B4455;\n",
              "      fill: #D2E3FC;\n",
              "    }\n",
              "\n",
              "    [theme=dark] .colab-df-convert:hover {\n",
              "      background-color: #434B5C;\n",
              "      box-shadow: 0px 1px 3px 1px rgba(0, 0, 0, 0.15);\n",
              "      filter: drop-shadow(0px 1px 2px rgba(0, 0, 0, 0.3));\n",
              "      fill: #FFFFFF;\n",
              "    }\n",
              "  </style>\n",
              "\n",
              "      <script>\n",
              "        const buttonEl =\n",
              "          document.querySelector('#df-84606161-8158-4e75-be8e-f5e0c2e98735 button.colab-df-convert');\n",
              "        buttonEl.style.display =\n",
              "          google.colab.kernel.accessAllowed ? 'block' : 'none';\n",
              "\n",
              "        async function convertToInteractive(key) {\n",
              "          const element = document.querySelector('#df-84606161-8158-4e75-be8e-f5e0c2e98735');\n",
              "          const dataTable =\n",
              "            await google.colab.kernel.invokeFunction('convertToInteractive',\n",
              "                                                     [key], {});\n",
              "          if (!dataTable) return;\n",
              "\n",
              "          const docLinkHtml = 'Like what you see? Visit the ' +\n",
              "            '<a target=\"_blank\" href=https://colab.research.google.com/notebooks/data_table.ipynb>data table notebook</a>'\n",
              "            + ' to learn more about interactive tables.';\n",
              "          element.innerHTML = '';\n",
              "          dataTable['output_type'] = 'display_data';\n",
              "          await google.colab.output.renderOutput(dataTable, element);\n",
              "          const docLink = document.createElement('div');\n",
              "          docLink.innerHTML = docLinkHtml;\n",
              "          element.appendChild(docLink);\n",
              "        }\n",
              "      </script>\n",
              "    </div>\n",
              "  </div>\n",
              "  "
            ]
          },
          "metadata": {},
          "execution_count": 65
        }
      ]
    },
    {
      "cell_type": "code",
      "source": [
        "#sex와 생존률 간의 상관관계 시각화\n",
        "sex_to_sur.plot(kind=\"bar\", x='Sex', y='Survived', figsize=(5,5), rot=0)"
      ],
      "metadata": {
        "colab": {
          "base_uri": "https://localhost:8080/",
          "height": 352
        },
        "id": "-HE5ZcEW_CA9",
        "outputId": "38ebdea2-3546-4884-cd32-f8316af28854"
      },
      "execution_count": 66,
      "outputs": [
        {
          "output_type": "execute_result",
          "data": {
            "text/plain": [
              "<matplotlib.axes._subplots.AxesSubplot at 0x7f38b7dd4210>"
            ]
          },
          "metadata": {},
          "execution_count": 66
        },
        {
          "output_type": "display_data",
          "data": {
            "text/plain": [
              "<Figure size 360x360 with 1 Axes>"
            ],
            "image/png": "[encoded data removed]"
          },
          "metadata": {
            "needs_background": "light"
          }
        }
      ]
    },
    {
      "cell_type": "code",
      "source": [
        "#train2 데이터에서 같이 배에 탄 형제자매-배우자 수 별 생존확률에 대한 내림차순 정렬\n",
        "sib_to_sur = train2[['SibSp', 'Survived']].groupby(['SibSp'], as_index=False).mean().sort_values(by='Survived', ascending=False)\n",
        "train2[['SibSp', 'Survived']].groupby(['SibSp'], as_index=False).mean().sort_values(by='Survived', ascending=False)"
      ],
      "metadata": {
        "colab": {
          "base_uri": "https://localhost:8080/",
          "height": 238
        },
        "id": "nUocFkTN_Eni",
        "outputId": "dc6fa1da-287e-406a-da3c-2484285692a4"
      },
      "execution_count": 67,
      "outputs": [
        {
          "output_type": "execute_result",
          "data": {
            "text/plain": [
              "   SibSp  Survived\n",
              "1      1  0.530055\n",
              "2      2  0.440000\n",
              "0      0  0.368870\n",
              "3      3  0.333333\n",
              "4      4  0.166667\n",
              "5      5  0.000000"
            ],
            "text/html": [
              "\n",
              "  <div id=\"df-748d93a9-43db-401b-bfc5-5be21bca741a\">\n",
              "    <div class=\"colab-df-container\">\n",
              "      <div>\n",
              "<style scoped>\n",
              "    .dataframe tbody tr th:only-of-type {\n",
              "        vertical-align: middle;\n",
              "    }\n",
              "\n",
              "    .dataframe tbody tr th {\n",
              "        vertical-align: top;\n",
              "    }\n",
              "\n",
              "    .dataframe thead th {\n",
              "        text-align: right;\n",
              "    }\n",
              "</style>\n",
              "<table border=\"1\" class=\"dataframe\">\n",
              "  <thead>\n",
              "    <tr style=\"text-align: right;\">\n",
              "      <th></th>\n",
              "      <th>SibSp</th>\n",
              "      <th>Survived</th>\n",
              "    </tr>\n",
              "  </thead>\n",
              "  <tbody>\n",
              "    <tr>\n",
              "      <th>1</th>\n",
              "      <td>1</td>\n",
              "      <td>0.530055</td>\n",
              "    </tr>\n",
              "    <tr>\n",
              "      <th>2</th>\n",
              "      <td>2</td>\n",
              "      <td>0.440000</td>\n",
              "    </tr>\n",
              "    <tr>\n",
              "      <th>0</th>\n",
              "      <td>0</td>\n",
              "      <td>0.368870</td>\n",
              "    </tr>\n",
              "    <tr>\n",
              "      <th>3</th>\n",
              "      <td>3</td>\n",
              "      <td>0.333333</td>\n",
              "    </tr>\n",
              "    <tr>\n",
              "      <th>4</th>\n",
              "      <td>4</td>\n",
              "      <td>0.166667</td>\n",
              "    </tr>\n",
              "    <tr>\n",
              "      <th>5</th>\n",
              "      <td>5</td>\n",
              "      <td>0.000000</td>\n",
              "    </tr>\n",
              "  </tbody>\n",
              "</table>\n",
              "</div>\n",
              "      <button class=\"colab-df-convert\" onclick=\"convertToInteractive('df-748d93a9-43db-401b-bfc5-5be21bca741a')\"\n",
              "              title=\"Convert this dataframe to an interactive table.\"\n",
              "              style=\"display:none;\">\n",
              "        \n",
              "  <svg xmlns=\"http://www.w3.org/2000/svg\" height=\"24px\"viewBox=\"0 0 24 24\"\n",
              "       width=\"24px\">\n",
              "    <path d=\"M0 0h24v24H0V0z\" fill=\"none\"/>\n",
              "    <path d=\"M18.56 5.44l.94 2.06.94-2.06 2.06-.94-2.06-.94-.94-2.06-.94 2.06-2.06.94zm-11 1L8.5 8.5l.94-2.06 2.06-.94-2.06-.94L8.5 2.5l-.94 2.06-2.06.94zm10 10l.94 2.06.94-2.06 2.06-.94-2.06-.94-.94-2.06-.94 2.06-2.06.94z\"/><path d=\"M17.41 7.96l-1.37-1.37c-.4-.4-.92-.59-1.43-.59-.52 0-1.04.2-1.43.59L10.3 9.45l-7.72 7.72c-.78.78-.78 2.05 0 2.83L4 21.41c.39.39.9.59 1.41.59.51 0 1.02-.2 1.41-.59l7.78-7.78 2.81-2.81c.8-.78.8-2.07 0-2.86zM5.41 20L4 18.59l7.72-7.72 1.47 1.35L5.41 20z\"/>\n",
              "  </svg>\n",
              "      </button>\n",
              "      \n",
              "  <style>\n",
              "    .colab-df-container {\n",
              "      display:flex;\n",
              "      flex-wrap:wrap;\n",
              "      gap: 12px;\n",
              "    }\n",
              "\n",
              "    .colab-df-convert {\n",
              "      background-color: #E8F0FE;\n",
              "      border: none;\n",
              "      border-radius: 50%;\n",
              "      cursor: pointer;\n",
              "      display: none;\n",
              "      fill: #1967D2;\n",
              "      height: 32px;\n",
              "      padding: 0 0 0 0;\n",
              "      width: 32px;\n",
              "    }\n",
              "\n",
              "    .colab-df-convert:hover {\n",
              "      background-color: #E2EBFA;\n",
              "      box-shadow: 0px 1px 2px rgba(60, 64, 67, 0.3), 0px 1px 3px 1px rgba(60, 64, 67, 0.15);\n",
              "      fill: #174EA6;\n",
              "    }\n",
              "\n",
              "    [theme=dark] .colab-df-convert {\n",
              "      background-color: #3B4455;\n",
              "      fill: #D2E3FC;\n",
              "    }\n",
              "\n",
              "    [theme=dark] .colab-df-convert:hover {\n",
              "      background-color: #434B5C;\n",
              "      box-shadow: 0px 1px 3px 1px rgba(0, 0, 0, 0.15);\n",
              "      filter: drop-shadow(0px 1px 2px rgba(0, 0, 0, 0.3));\n",
              "      fill: #FFFFFF;\n",
              "    }\n",
              "  </style>\n",
              "\n",
              "      <script>\n",
              "        const buttonEl =\n",
              "          document.querySelector('#df-748d93a9-43db-401b-bfc5-5be21bca741a button.colab-df-convert');\n",
              "        buttonEl.style.display =\n",
              "          google.colab.kernel.accessAllowed ? 'block' : 'none';\n",
              "\n",
              "        async function convertToInteractive(key) {\n",
              "          const element = document.querySelector('#df-748d93a9-43db-401b-bfc5-5be21bca741a');\n",
              "          const dataTable =\n",
              "            await google.colab.kernel.invokeFunction('convertToInteractive',\n",
              "                                                     [key], {});\n",
              "          if (!dataTable) return;\n",
              "\n",
              "          const docLinkHtml = 'Like what you see? Visit the ' +\n",
              "            '<a target=\"_blank\" href=https://colab.research.google.com/notebooks/data_table.ipynb>data table notebook</a>'\n",
              "            + ' to learn more about interactive tables.';\n",
              "          element.innerHTML = '';\n",
              "          dataTable['output_type'] = 'display_data';\n",
              "          await google.colab.output.renderOutput(dataTable, element);\n",
              "          const docLink = document.createElement('div');\n",
              "          docLink.innerHTML = docLinkHtml;\n",
              "          element.appendChild(docLink);\n",
              "        }\n",
              "      </script>\n",
              "    </div>\n",
              "  </div>\n",
              "  "
            ]
          },
          "metadata": {},
          "execution_count": 67
        }
      ]
    },
    {
      "cell_type": "code",
      "source": [
        "#SibSp와 생존률 간의 상관관계 시각화\n",
        "sib_to_sur.plot(kind=\"bar\", x='SibSp', y='Survived', figsize=(10,5), rot=0)"
      ],
      "metadata": {
        "colab": {
          "base_uri": "https://localhost:8080/",
          "height": 352
        },
        "id": "L7kfvdLQAbK9",
        "outputId": "6854ac6b-11bf-4f8d-f02f-6bf76e5f59f0"
      },
      "execution_count": 68,
      "outputs": [
        {
          "output_type": "execute_result",
          "data": {
            "text/plain": [
              "<matplotlib.axes._subplots.AxesSubplot at 0x7f38b7d38110>"
            ]
          },
          "metadata": {},
          "execution_count": 68
        },
        {
          "output_type": "display_data",
          "data": {
            "text/plain": [
              "<Figure size 720x360 with 1 Axes>"
            ],
            "image/png": "[encoded data removed]"
          },
          "metadata": {
            "needs_background": "light"
          }
        }
      ]
    },
    {
      "cell_type": "code",
      "source": [
        "#train2 데이터에서 부모자식 수 별 생존확률에 대한 내림차순 정렬\n",
        "par_to_sur = train2[['Parch', 'Survived']].groupby(['Parch'], as_index=False).mean().sort_values(by='Survived', ascending=False)\n",
        "train2[['Parch', 'Survived']].groupby(['Parch'], as_index=False).mean().sort_values(by='Survived', ascending=False)"
      ],
      "metadata": {
        "colab": {
          "base_uri": "https://localhost:8080/",
          "height": 269
        },
        "id": "i5UJc2fjAsEs",
        "outputId": "d14834eb-3736-416d-e53f-c4d8d3e6c432"
      },
      "execution_count": 69,
      "outputs": [
        {
          "output_type": "execute_result",
          "data": {
            "text/plain": [
              "   Parch  Survived\n",
              "3      3  0.600000\n",
              "2      2  0.573529\n",
              "1      1  0.554545\n",
              "0      0  0.354528\n",
              "5      5  0.200000\n",
              "4      4  0.000000\n",
              "6      6  0.000000"
            ],
            "text/html": [
              "\n",
              "  <div id=\"df-b08eaff2-32c0-4d0f-b4b1-714237c5795f\">\n",
              "    <div class=\"colab-df-container\">\n",
              "      <div>\n",
              "<style scoped>\n",
              "    .dataframe tbody tr th:only-of-type {\n",
              "        vertical-align: middle;\n",
              "    }\n",
              "\n",
              "    .dataframe tbody tr th {\n",
              "        vertical-align: top;\n",
              "    }\n",
              "\n",
              "    .dataframe thead th {\n",
              "        text-align: right;\n",
              "    }\n",
              "</style>\n",
              "<table border=\"1\" class=\"dataframe\">\n",
              "  <thead>\n",
              "    <tr style=\"text-align: right;\">\n",
              "      <th></th>\n",
              "      <th>Parch</th>\n",
              "      <th>Survived</th>\n",
              "    </tr>\n",
              "  </thead>\n",
              "  <tbody>\n",
              "    <tr>\n",
              "      <th>3</th>\n",
              "      <td>3</td>\n",
              "      <td>0.600000</td>\n",
              "    </tr>\n",
              "    <tr>\n",
              "      <th>2</th>\n",
              "      <td>2</td>\n",
              "      <td>0.573529</td>\n",
              "    </tr>\n",
              "    <tr>\n",
              "      <th>1</th>\n",
              "      <td>1</td>\n",
              "      <td>0.554545</td>\n",
              "    </tr>\n",
              "    <tr>\n",
              "      <th>0</th>\n",
              "      <td>0</td>\n",
              "      <td>0.354528</td>\n",
              "    </tr>\n",
              "    <tr>\n",
              "      <th>5</th>\n",
              "      <td>5</td>\n",
              "      <td>0.200000</td>\n",
              "    </tr>\n",
              "    <tr>\n",
              "      <th>4</th>\n",
              "      <td>4</td>\n",
              "      <td>0.000000</td>\n",
              "    </tr>\n",
              "    <tr>\n",
              "      <th>6</th>\n",
              "      <td>6</td>\n",
              "      <td>0.000000</td>\n",
              "    </tr>\n",
              "  </tbody>\n",
              "</table>\n",
              "</div>\n",
              "      <button class=\"colab-df-convert\" onclick=\"convertToInteractive('df-b08eaff2-32c0-4d0f-b4b1-714237c5795f')\"\n",
              "              title=\"Convert this dataframe to an interactive table.\"\n",
              "              style=\"display:none;\">\n",
              "        \n",
              "  <svg xmlns=\"http://www.w3.org/2000/svg\" height=\"24px\"viewBox=\"0 0 24 24\"\n",
              "       width=\"24px\">\n",
              "    <path d=\"M0 0h24v24H0V0z\" fill=\"none\"/>\n",
              "    <path d=\"M18.56 5.44l.94 2.06.94-2.06 2.06-.94-2.06-.94-.94-2.06-.94 2.06-2.06.94zm-11 1L8.5 8.5l.94-2.06 2.06-.94-2.06-.94L8.5 2.5l-.94 2.06-2.06.94zm10 10l.94 2.06.94-2.06 2.06-.94-2.06-.94-.94-2.06-.94 2.06-2.06.94z\"/><path d=\"M17.41 7.96l-1.37-1.37c-.4-.4-.92-.59-1.43-.59-.52 0-1.04.2-1.43.59L10.3 9.45l-7.72 7.72c-.78.78-.78 2.05 0 2.83L4 21.41c.39.39.9.59 1.41.59.51 0 1.02-.2 1.41-.59l7.78-7.78 2.81-2.81c.8-.78.8-2.07 0-2.86zM5.41 20L4 18.59l7.72-7.72 1.47 1.35L5.41 20z\"/>\n",
              "  </svg>\n",
              "      </button>\n",
              "      \n",
              "  <style>\n",
              "    .colab-df-container {\n",
              "      display:flex;\n",
              "      flex-wrap:wrap;\n",
              "      gap: 12px;\n",
              "    }\n",
              "\n",
              "    .colab-df-convert {\n",
              "      background-color: #E8F0FE;\n",
              "      border: none;\n",
              "      border-radius: 50%;\n",
              "      cursor: pointer;\n",
              "      display: none;\n",
              "      fill: #1967D2;\n",
              "      height: 32px;\n",
              "      padding: 0 0 0 0;\n",
              "      width: 32px;\n",
              "    }\n",
              "\n",
              "    .colab-df-convert:hover {\n",
              "      background-color: #E2EBFA;\n",
              "      box-shadow: 0px 1px 2px rgba(60, 64, 67, 0.3), 0px 1px 3px 1px rgba(60, 64, 67, 0.15);\n",
              "      fill: #174EA6;\n",
              "    }\n",
              "\n",
              "    [theme=dark] .colab-df-convert {\n",
              "      background-color: #3B4455;\n",
              "      fill: #D2E3FC;\n",
              "    }\n",
              "\n",
              "    [theme=dark] .colab-df-convert:hover {\n",
              "      background-color: #434B5C;\n",
              "      box-shadow: 0px 1px 3px 1px rgba(0, 0, 0, 0.15);\n",
              "      filter: drop-shadow(0px 1px 2px rgba(0, 0, 0, 0.3));\n",
              "      fill: #FFFFFF;\n",
              "    }\n",
              "  </style>\n",
              "\n",
              "      <script>\n",
              "        const buttonEl =\n",
              "          document.querySelector('#df-b08eaff2-32c0-4d0f-b4b1-714237c5795f button.colab-df-convert');\n",
              "        buttonEl.style.display =\n",
              "          google.colab.kernel.accessAllowed ? 'block' : 'none';\n",
              "\n",
              "        async function convertToInteractive(key) {\n",
              "          const element = document.querySelector('#df-b08eaff2-32c0-4d0f-b4b1-714237c5795f');\n",
              "          const dataTable =\n",
              "            await google.colab.kernel.invokeFunction('convertToInteractive',\n",
              "                                                     [key], {});\n",
              "          if (!dataTable) return;\n",
              "\n",
              "          const docLinkHtml = 'Like what you see? Visit the ' +\n",
              "            '<a target=\"_blank\" href=https://colab.research.google.com/notebooks/data_table.ipynb>data table notebook</a>'\n",
              "            + ' to learn more about interactive tables.';\n",
              "          element.innerHTML = '';\n",
              "          dataTable['output_type'] = 'display_data';\n",
              "          await google.colab.output.renderOutput(dataTable, element);\n",
              "          const docLink = document.createElement('div');\n",
              "          docLink.innerHTML = docLinkHtml;\n",
              "          element.appendChild(docLink);\n",
              "        }\n",
              "      </script>\n",
              "    </div>\n",
              "  </div>\n",
              "  "
            ]
          },
          "metadata": {},
          "execution_count": 69
        }
      ]
    },
    {
      "cell_type": "code",
      "source": [
        "#Parch와 생존률 간의 상관관계 시각화\n",
        "par_to_sur.plot(kind=\"bar\", x='Parch', y='Survived', figsize=(10,5), rot=0)"
      ],
      "metadata": {
        "colab": {
          "base_uri": "https://localhost:8080/",
          "height": 352
        },
        "id": "7Mrl1FXuA3os",
        "outputId": "41ef76d9-2eb7-414f-c48d-21e02bef317c"
      },
      "execution_count": 70,
      "outputs": [
        {
          "output_type": "execute_result",
          "data": {
            "text/plain": [
              "<matplotlib.axes._subplots.AxesSubplot at 0x7f38b7ce9e10>"
            ]
          },
          "metadata": {},
          "execution_count": 70
        },
        {
          "output_type": "display_data",
          "data": {
            "text/plain": [
              "<Figure size 720x360 with 1 Axes>"
            ],
            "image/png": "[encoded data removed]"
          },
          "metadata": {
            "needs_background": "light"
          }
        }
      ]
    },
    {
      "cell_type": "code",
      "source": [
        "#train2 승선지 별 생존확률에 대한 내림차순 정렬\n",
        "emb_to_sur = train2[['Embarked', 'Survived']].groupby(['Embarked'], as_index=False).mean().sort_values(by='Survived', ascending=False)\n",
        "train2[['Embarked', 'Survived']].groupby(['Embarked'], as_index=False).mean().sort_values(by='Survived', ascending=False)"
      ],
      "metadata": {
        "colab": {
          "base_uri": "https://localhost:8080/",
          "height": 143
        },
        "id": "EVeS4UWsBMdW",
        "outputId": "118010a7-e5b7-475b-8453-5ffd431647cb"
      },
      "execution_count": 71,
      "outputs": [
        {
          "output_type": "execute_result",
          "data": {
            "text/plain": [
              "  Embarked  Survived\n",
              "0        C  0.607692\n",
              "2        S  0.362816\n",
              "1        Q  0.285714"
            ],
            "text/html": [
              "\n",
              "  <div id=\"df-c6c5d69c-b31d-4b3f-9733-64bd3bedf193\">\n",
              "    <div class=\"colab-df-container\">\n",
              "      <div>\n",
              "<style scoped>\n",
              "    .dataframe tbody tr th:only-of-type {\n",
              "        vertical-align: middle;\n",
              "    }\n",
              "\n",
              "    .dataframe tbody tr th {\n",
              "        vertical-align: top;\n",
              "    }\n",
              "\n",
              "    .dataframe thead th {\n",
              "        text-align: right;\n",
              "    }\n",
              "</style>\n",
              "<table border=\"1\" class=\"dataframe\">\n",
              "  <thead>\n",
              "    <tr style=\"text-align: right;\">\n",
              "      <th></th>\n",
              "      <th>Embarked</th>\n",
              "      <th>Survived</th>\n",
              "    </tr>\n",
              "  </thead>\n",
              "  <tbody>\n",
              "    <tr>\n",
              "      <th>0</th>\n",
              "      <td>C</td>\n",
              "      <td>0.607692</td>\n",
              "    </tr>\n",
              "    <tr>\n",
              "      <th>2</th>\n",
              "      <td>S</td>\n",
              "      <td>0.362816</td>\n",
              "    </tr>\n",
              "    <tr>\n",
              "      <th>1</th>\n",
              "      <td>Q</td>\n",
              "      <td>0.285714</td>\n",
              "    </tr>\n",
              "  </tbody>\n",
              "</table>\n",
              "</div>\n",
              "      <button class=\"colab-df-convert\" onclick=\"convertToInteractive('df-c6c5d69c-b31d-4b3f-9733-64bd3bedf193')\"\n",
              "              title=\"Convert this dataframe to an interactive table.\"\n",
              "              style=\"display:none;\">\n",
              "        \n",
              "  <svg xmlns=\"http://www.w3.org/2000/svg\" height=\"24px\"viewBox=\"0 0 24 24\"\n",
              "       width=\"24px\">\n",
              "    <path d=\"M0 0h24v24H0V0z\" fill=\"none\"/>\n",
              "    <path d=\"M18.56 5.44l.94 2.06.94-2.06 2.06-.94-2.06-.94-.94-2.06-.94 2.06-2.06.94zm-11 1L8.5 8.5l.94-2.06 2.06-.94-2.06-.94L8.5 2.5l-.94 2.06-2.06.94zm10 10l.94 2.06.94-2.06 2.06-.94-2.06-.94-.94-2.06-.94 2.06-2.06.94z\"/><path d=\"M17.41 7.96l-1.37-1.37c-.4-.4-.92-.59-1.43-.59-.52 0-1.04.2-1.43.59L10.3 9.45l-7.72 7.72c-.78.78-.78 2.05 0 2.83L4 21.41c.39.39.9.59 1.41.59.51 0 1.02-.2 1.41-.59l7.78-7.78 2.81-2.81c.8-.78.8-2.07 0-2.86zM5.41 20L4 18.59l7.72-7.72 1.47 1.35L5.41 20z\"/>\n",
              "  </svg>\n",
              "      </button>\n",
              "      \n",
              "  <style>\n",
              "    .colab-df-container {\n",
              "      display:flex;\n",
              "      flex-wrap:wrap;\n",
              "      gap: 12px;\n",
              "    }\n",
              "\n",
              "    .colab-df-convert {\n",
              "      background-color: #E8F0FE;\n",
              "      border: none;\n",
              "      border-radius: 50%;\n",
              "      cursor: pointer;\n",
              "      display: none;\n",
              "      fill: #1967D2;\n",
              "      height: 32px;\n",
              "      padding: 0 0 0 0;\n",
              "      width: 32px;\n",
              "    }\n",
              "\n",
              "    .colab-df-convert:hover {\n",
              "      background-color: #E2EBFA;\n",
              "      box-shadow: 0px 1px 2px rgba(60, 64, 67, 0.3), 0px 1px 3px 1px rgba(60, 64, 67, 0.15);\n",
              "      fill: #174EA6;\n",
              "    }\n",
              "\n",
              "    [theme=dark] .colab-df-convert {\n",
              "      background-color: #3B4455;\n",
              "      fill: #D2E3FC;\n",
              "    }\n",
              "\n",
              "    [theme=dark] .colab-df-convert:hover {\n",
              "      background-color: #434B5C;\n",
              "      box-shadow: 0px 1px 3px 1px rgba(0, 0, 0, 0.15);\n",
              "      filter: drop-shadow(0px 1px 2px rgba(0, 0, 0, 0.3));\n",
              "      fill: #FFFFFF;\n",
              "    }\n",
              "  </style>\n",
              "\n",
              "      <script>\n",
              "        const buttonEl =\n",
              "          document.querySelector('#df-c6c5d69c-b31d-4b3f-9733-64bd3bedf193 button.colab-df-convert');\n",
              "        buttonEl.style.display =\n",
              "          google.colab.kernel.accessAllowed ? 'block' : 'none';\n",
              "\n",
              "        async function convertToInteractive(key) {\n",
              "          const element = document.querySelector('#df-c6c5d69c-b31d-4b3f-9733-64bd3bedf193');\n",
              "          const dataTable =\n",
              "            await google.colab.kernel.invokeFunction('convertToInteractive',\n",
              "                                                     [key], {});\n",
              "          if (!dataTable) return;\n",
              "\n",
              "          const docLinkHtml = 'Like what you see? Visit the ' +\n",
              "            '<a target=\"_blank\" href=https://colab.research.google.com/notebooks/data_table.ipynb>data table notebook</a>'\n",
              "            + ' to learn more about interactive tables.';\n",
              "          element.innerHTML = '';\n",
              "          dataTable['output_type'] = 'display_data';\n",
              "          await google.colab.output.renderOutput(dataTable, element);\n",
              "          const docLink = document.createElement('div');\n",
              "          docLink.innerHTML = docLinkHtml;\n",
              "          element.appendChild(docLink);\n",
              "        }\n",
              "      </script>\n",
              "    </div>\n",
              "  </div>\n",
              "  "
            ]
          },
          "metadata": {},
          "execution_count": 71
        }
      ]
    },
    {
      "cell_type": "code",
      "source": [
        "#Embarked와 생존률 간의 상관관계 시각화\n",
        "emb_to_sur.plot(kind=\"bar\", x='Embarked', y='Survived', figsize=(5,5), rot=0)"
      ],
      "metadata": {
        "colab": {
          "base_uri": "https://localhost:8080/",
          "height": 352
        },
        "id": "c9_2AWKCBWxy",
        "outputId": "32dc75df-ac8d-4ee6-a9bb-8f9cb43adb3e"
      },
      "execution_count": 72,
      "outputs": [
        {
          "output_type": "execute_result",
          "data": {
            "text/plain": [
              "<matplotlib.axes._subplots.AxesSubplot at 0x7f38b7c593d0>"
            ]
          },
          "metadata": {},
          "execution_count": 72
        },
        {
          "output_type": "display_data",
          "data": {
            "text/plain": [
              "<Figure size 360x360 with 1 Axes>"
            ],
            "image/png": "[encoded data removed]"
          },
          "metadata": {
            "needs_background": "light"
          }
        }
      ]
    },
    {
      "cell_type": "code",
      "source": [
        "#생존한 사람-Pclass 별 낸 요금의 평균 내림차순 정렬\n",
        "far_to_sur = train2[['Pclass','Fare','Survived']].groupby(['Pclass'], as_index=False).mean().sort_values(by='Survived', ascending=False)\n",
        "far_to_sur"
      ],
      "metadata": {
        "colab": {
          "base_uri": "https://localhost:8080/",
          "height": 143
        },
        "id": "U4tLvSJaDcv8",
        "outputId": "37396342-0b5f-4fff-f169-71a2c06ad272"
      },
      "execution_count": 73,
      "outputs": [
        {
          "output_type": "execute_result",
          "data": {
            "text/plain": [
              "   Pclass       Fare  Survived\n",
              "0       1  88.048121  0.652174\n",
              "1       2  21.471556  0.479769\n",
              "2       3  13.229435  0.239437"
            ],
            "text/html": [
              "\n",
              "  <div id=\"df-dab70649-85cf-4136-b0b2-120c9289de09\">\n",
              "    <div class=\"colab-df-container\">\n",
              "      <div>\n",
              "<style scoped>\n",
              "    .dataframe tbody tr th:only-of-type {\n",
              "        vertical-align: middle;\n",
              "    }\n",
              "\n",
              "    .dataframe tbody tr th {\n",
              "        vertical-align: top;\n",
              "    }\n",
              "\n",
              "    .dataframe thead th {\n",
              "        text-align: right;\n",
              "    }\n",
              "</style>\n",
              "<table border=\"1\" class=\"dataframe\">\n",
              "  <thead>\n",
              "    <tr style=\"text-align: right;\">\n",
              "      <th></th>\n",
              "      <th>Pclass</th>\n",
              "      <th>Fare</th>\n",
              "      <th>Survived</th>\n",
              "    </tr>\n",
              "  </thead>\n",
              "  <tbody>\n",
              "    <tr>\n",
              "      <th>0</th>\n",
              "      <td>1</td>\n",
              "      <td>88.048121</td>\n",
              "      <td>0.652174</td>\n",
              "    </tr>\n",
              "    <tr>\n",
              "      <th>1</th>\n",
              "      <td>2</td>\n",
              "      <td>21.471556</td>\n",
              "      <td>0.479769</td>\n",
              "    </tr>\n",
              "    <tr>\n",
              "      <th>2</th>\n",
              "      <td>3</td>\n",
              "      <td>13.229435</td>\n",
              "      <td>0.239437</td>\n",
              "    </tr>\n",
              "  </tbody>\n",
              "</table>\n",
              "</div>\n",
              "      <button class=\"colab-df-convert\" onclick=\"convertToInteractive('df-dab70649-85cf-4136-b0b2-120c9289de09')\"\n",
              "              title=\"Convert this dataframe to an interactive table.\"\n",
              "              style=\"display:none;\">\n",
              "        \n",
              "  <svg xmlns=\"http://www.w3.org/2000/svg\" height=\"24px\"viewBox=\"0 0 24 24\"\n",
              "       width=\"24px\">\n",
              "    <path d=\"M0 0h24v24H0V0z\" fill=\"none\"/>\n",
              "    <path d=\"M18.56 5.44l.94 2.06.94-2.06 2.06-.94-2.06-.94-.94-2.06-.94 2.06-2.06.94zm-11 1L8.5 8.5l.94-2.06 2.06-.94-2.06-.94L8.5 2.5l-.94 2.06-2.06.94zm10 10l.94 2.06.94-2.06 2.06-.94-2.06-.94-.94-2.06-.94 2.06-2.06.94z\"/><path d=\"M17.41 7.96l-1.37-1.37c-.4-.4-.92-.59-1.43-.59-.52 0-1.04.2-1.43.59L10.3 9.45l-7.72 7.72c-.78.78-.78 2.05 0 2.83L4 21.41c.39.39.9.59 1.41.59.51 0 1.02-.2 1.41-.59l7.78-7.78 2.81-2.81c.8-.78.8-2.07 0-2.86zM5.41 20L4 18.59l7.72-7.72 1.47 1.35L5.41 20z\"/>\n",
              "  </svg>\n",
              "      </button>\n",
              "      \n",
              "  <style>\n",
              "    .colab-df-container {\n",
              "      display:flex;\n",
              "      flex-wrap:wrap;\n",
              "      gap: 12px;\n",
              "    }\n",
              "\n",
              "    .colab-df-convert {\n",
              "      background-color: #E8F0FE;\n",
              "      border: none;\n",
              "      border-radius: 50%;\n",
              "      cursor: pointer;\n",
              "      display: none;\n",
              "      fill: #1967D2;\n",
              "      height: 32px;\n",
              "      padding: 0 0 0 0;\n",
              "      width: 32px;\n",
              "    }\n",
              "\n",
              "    .colab-df-convert:hover {\n",
              "      background-color: #E2EBFA;\n",
              "      box-shadow: 0px 1px 2px rgba(60, 64, 67, 0.3), 0px 1px 3px 1px rgba(60, 64, 67, 0.15);\n",
              "      fill: #174EA6;\n",
              "    }\n",
              "\n",
              "    [theme=dark] .colab-df-convert {\n",
              "      background-color: #3B4455;\n",
              "      fill: #D2E3FC;\n",
              "    }\n",
              "\n",
              "    [theme=dark] .colab-df-convert:hover {\n",
              "      background-color: #434B5C;\n",
              "      box-shadow: 0px 1px 3px 1px rgba(0, 0, 0, 0.15);\n",
              "      filter: drop-shadow(0px 1px 2px rgba(0, 0, 0, 0.3));\n",
              "      fill: #FFFFFF;\n",
              "    }\n",
              "  </style>\n",
              "\n",
              "      <script>\n",
              "        const buttonEl =\n",
              "          document.querySelector('#df-dab70649-85cf-4136-b0b2-120c9289de09 button.colab-df-convert');\n",
              "        buttonEl.style.display =\n",
              "          google.colab.kernel.accessAllowed ? 'block' : 'none';\n",
              "\n",
              "        async function convertToInteractive(key) {\n",
              "          const element = document.querySelector('#df-dab70649-85cf-4136-b0b2-120c9289de09');\n",
              "          const dataTable =\n",
              "            await google.colab.kernel.invokeFunction('convertToInteractive',\n",
              "                                                     [key], {});\n",
              "          if (!dataTable) return;\n",
              "\n",
              "          const docLinkHtml = 'Like what you see? Visit the ' +\n",
              "            '<a target=\"_blank\" href=https://colab.research.google.com/notebooks/data_table.ipynb>data table notebook</a>'\n",
              "            + ' to learn more about interactive tables.';\n",
              "          element.innerHTML = '';\n",
              "          dataTable['output_type'] = 'display_data';\n",
              "          await google.colab.output.renderOutput(dataTable, element);\n",
              "          const docLink = document.createElement('div');\n",
              "          docLink.innerHTML = docLinkHtml;\n",
              "          element.appendChild(docLink);\n",
              "        }\n",
              "      </script>\n",
              "    </div>\n",
              "  </div>\n",
              "  "
            ]
          },
          "metadata": {},
          "execution_count": 73
        }
      ]
    },
    {
      "cell_type": "code",
      "source": [
        "#Pclass 별 Fare와 생존률 간의 상관관계 시각화\n",
        "round(far_to_sur, 1).plot(kind=\"bar\", x='Fare', y='Survived', figsize=(5,5), rot=0)\n",
        "train2.describe()\n",
        "\n",
        "#요금은 요금 구간별"
      ],
      "metadata": {
        "colab": {
          "base_uri": "https://localhost:8080/",
          "height": 617
        },
        "id": "1r5RUydQDuV7",
        "outputId": "22c0b784-6308-4913-d682-636bae45aa4e"
      },
      "execution_count": 74,
      "outputs": [
        {
          "output_type": "execute_result",
          "data": {
            "text/plain": [
              "         Survived      Pclass         Age       SibSp       Parch        Fare\n",
              "count  712.000000  712.000000  712.000000  712.000000  712.000000  712.000000\n",
              "mean     0.404494    2.240169   29.642093    0.514045    0.432584   34.567251\n",
              "std      0.491139    0.836854   14.492933    0.930692    0.854181   52.938648\n",
              "min      0.000000    1.000000    0.420000    0.000000    0.000000    0.000000\n",
              "25%      0.000000    1.000000   20.000000    0.000000    0.000000    8.050000\n",
              "50%      0.000000    2.000000   28.000000    0.000000    0.000000   15.645850\n",
              "75%      1.000000    3.000000   38.000000    1.000000    1.000000   33.000000\n",
              "max      1.000000    3.000000   80.000000    5.000000    6.000000  512.329200"
            ],
            "text/html": [
              "\n",
              "  <div id=\"df-2031d979-6e7e-4290-9f54-fa9d7921bf94\">\n",
              "    <div class=\"colab-df-container\">\n",
              "      <div>\n",
              "<style scoped>\n",
              "    .dataframe tbody tr th:only-of-type {\n",
              "        vertical-align: middle;\n",
              "    }\n",
              "\n",
              "    .dataframe tbody tr th {\n",
              "        vertical-align: top;\n",
              "    }\n",
              "\n",
              "    .dataframe thead th {\n",
              "        text-align: right;\n",
              "    }\n",
              "</style>\n",
              "<table border=\"1\" class=\"dataframe\">\n",
              "  <thead>\n",
              "    <tr style=\"text-align: right;\">\n",
              "      <th></th>\n",
              "      <th>Survived</th>\n",
              "      <th>Pclass</th>\n",
              "      <th>Age</th>\n",
              "      <th>SibSp</th>\n",
              "      <th>Parch</th>\n",
              "      <th>Fare</th>\n",
              "    </tr>\n",
              "  </thead>\n",
              "  <tbody>\n",
              "    <tr>\n",
              "      <th>count</th>\n",
              "      <td>712.000000</td>\n",
              "      <td>712.000000</td>\n",
              "      <td>712.000000</td>\n",
              "      <td>712.000000</td>\n",
              "      <td>712.000000</td>\n",
              "      <td>712.000000</td>\n",
              "    </tr>\n",
              "    <tr>\n",
              "      <th>mean</th>\n",
              "      <td>0.404494</td>\n",
              "      <td>2.240169</td>\n",
              "      <td>29.642093</td>\n",
              "      <td>0.514045</td>\n",
              "      <td>0.432584</td>\n",
              "      <td>34.567251</td>\n",
              "    </tr>\n",
              "    <tr>\n",
              "      <th>std</th>\n",
              "      <td>0.491139</td>\n",
              "      <td>0.836854</td>\n",
              "      <td>14.492933</td>\n",
              "      <td>0.930692</td>\n",
              "      <td>0.854181</td>\n",
              "      <td>52.938648</td>\n",
              "    </tr>\n",
              "    <tr>\n",
              "      <th>min</th>\n",
              "      <td>0.000000</td>\n",
              "      <td>1.000000</td>\n",
              "      <td>0.420000</td>\n",
              "      <td>0.000000</td>\n",
              "      <td>0.000000</td>\n",
              "      <td>0.000000</td>\n",
              "    </tr>\n",
              "    <tr>\n",
              "      <th>25%</th>\n",
              "      <td>0.000000</td>\n",
              "      <td>1.000000</td>\n",
              "      <td>20.000000</td>\n",
              "      <td>0.000000</td>\n",
              "      <td>0.000000</td>\n",
              "      <td>8.050000</td>\n",
              "    </tr>\n",
              "    <tr>\n",
              "      <th>50%</th>\n",
              "      <td>0.000000</td>\n",
              "      <td>2.000000</td>\n",
              "      <td>28.000000</td>\n",
              "      <td>0.000000</td>\n",
              "      <td>0.000000</td>\n",
              "      <td>15.645850</td>\n",
              "    </tr>\n",
              "    <tr>\n",
              "      <th>75%</th>\n",
              "      <td>1.000000</td>\n",
              "      <td>3.000000</td>\n",
              "      <td>38.000000</td>\n",
              "      <td>1.000000</td>\n",
              "      <td>1.000000</td>\n",
              "      <td>33.000000</td>\n",
              "    </tr>\n",
              "    <tr>\n",
              "      <th>max</th>\n",
              "      <td>1.000000</td>\n",
              "      <td>3.000000</td>\n",
              "      <td>80.000000</td>\n",
              "      <td>5.000000</td>\n",
              "      <td>6.000000</td>\n",
              "      <td>512.329200</td>\n",
              "    </tr>\n",
              "  </tbody>\n",
              "</table>\n",
              "</div>\n",
              "      <button class=\"colab-df-convert\" onclick=\"convertToInteractive('df-2031d979-6e7e-4290-9f54-fa9d7921bf94')\"\n",
              "              title=\"Convert this dataframe to an interactive table.\"\n",
              "              style=\"display:none;\">\n",
              "        \n",
              "  <svg xmlns=\"http://www.w3.org/2000/svg\" height=\"24px\"viewBox=\"0 0 24 24\"\n",
              "       width=\"24px\">\n",
              "    <path d=\"M0 0h24v24H0V0z\" fill=\"none\"/>\n",
              "    <path d=\"M18.56 5.44l.94 2.06.94-2.06 2.06-.94-2.06-.94-.94-2.06-.94 2.06-2.06.94zm-11 1L8.5 8.5l.94-2.06 2.06-.94-2.06-.94L8.5 2.5l-.94 2.06-2.06.94zm10 10l.94 2.06.94-2.06 2.06-.94-2.06-.94-.94-2.06-.94 2.06-2.06.94z\"/><path d=\"M17.41 7.96l-1.37-1.37c-.4-.4-.92-.59-1.43-.59-.52 0-1.04.2-1.43.59L10.3 9.45l-7.72 7.72c-.78.78-.78 2.05 0 2.83L4 21.41c.39.39.9.59 1.41.59.51 0 1.02-.2 1.41-.59l7.78-7.78 2.81-2.81c.8-.78.8-2.07 0-2.86zM5.41 20L4 18.59l7.72-7.72 1.47 1.35L5.41 20z\"/>\n",
              "  </svg>\n",
              "      </button>\n",
              "      \n",
              "  <style>\n",
              "    .colab-df-container {\n",
              "      display:flex;\n",
              "      flex-wrap:wrap;\n",
              "      gap: 12px;\n",
              "    }\n",
              "\n",
              "    .colab-df-convert {\n",
              "      background-color: #E8F0FE;\n",
              "      border: none;\n",
              "      border-radius: 50%;\n",
              "      cursor: pointer;\n",
              "      display: none;\n",
              "      fill: #1967D2;\n",
              "      height: 32px;\n",
              "      padding: 0 0 0 0;\n",
              "      width: 32px;\n",
              "    }\n",
              "\n",
              "    .colab-df-convert:hover {\n",
              "      background-color: #E2EBFA;\n",
              "      box-shadow: 0px 1px 2px rgba(60, 64, 67, 0.3), 0px 1px 3px 1px rgba(60, 64, 67, 0.15);\n",
              "      fill: #174EA6;\n",
              "    }\n",
              "\n",
              "    [theme=dark] .colab-df-convert {\n",
              "      background-color: #3B4455;\n",
              "      fill: #D2E3FC;\n",
              "    }\n",
              "\n",
              "    [theme=dark] .colab-df-convert:hover {\n",
              "      background-color: #434B5C;\n",
              "      box-shadow: 0px 1px 3px 1px rgba(0, 0, 0, 0.15);\n",
              "      filter: drop-shadow(0px 1px 2px rgba(0, 0, 0, 0.3));\n",
              "      fill: #FFFFFF;\n",
              "    }\n",
              "  </style>\n",
              "\n",
              "      <script>\n",
              "        const buttonEl =\n",
              "          document.querySelector('#df-2031d979-6e7e-4290-9f54-fa9d7921bf94 button.colab-df-convert');\n",
              "        buttonEl.style.display =\n",
              "          google.colab.kernel.accessAllowed ? 'block' : 'none';\n",
              "\n",
              "        async function convertToInteractive(key) {\n",
              "          const element = document.querySelector('#df-2031d979-6e7e-4290-9f54-fa9d7921bf94');\n",
              "          const dataTable =\n",
              "            await google.colab.kernel.invokeFunction('convertToInteractive',\n",
              "                                                     [key], {});\n",
              "          if (!dataTable) return;\n",
              "\n",
              "          const docLinkHtml = 'Like what you see? Visit the ' +\n",
              "            '<a target=\"_blank\" href=https://colab.research.google.com/notebooks/data_table.ipynb>data table notebook</a>'\n",
              "            + ' to learn more about interactive tables.';\n",
              "          element.innerHTML = '';\n",
              "          dataTable['output_type'] = 'display_data';\n",
              "          await google.colab.output.renderOutput(dataTable, element);\n",
              "          const docLink = document.createElement('div');\n",
              "          docLink.innerHTML = docLinkHtml;\n",
              "          element.appendChild(docLink);\n",
              "        }\n",
              "      </script>\n",
              "    </div>\n",
              "  </div>\n",
              "  "
            ]
          },
          "metadata": {},
          "execution_count": 74
        },
        {
          "output_type": "display_data",
          "data": {
            "text/plain": [
              "<Figure size 360x360 with 1 Axes>"
            ],
            "image/png": "[encoded data removed]"
          },
          "metadata": {
            "needs_background": "light"
          }
        }
      ]
    },
    {
      "cell_type": "code",
      "source": [
        "#train2 나이 별 생존확률에 대한 내림차순 정렬\n",
        "age_to_sur = train2[['Pclass', 'Age', 'Survived']].groupby(['Pclass'], as_index=False).mean().sort_values(by='Survived', ascending=False)\n",
        "round(age_to_sur, 1)"
      ],
      "metadata": {
        "colab": {
          "base_uri": "https://localhost:8080/",
          "height": 143
        },
        "id": "e0mMaNxAgzww",
        "outputId": "19a10891-c9f4-4fbd-c105-a8d6b2235160"
      },
      "execution_count": 75,
      "outputs": [
        {
          "output_type": "execute_result",
          "data": {
            "text/plain": [
              "   Pclass   Age  Survived\n",
              "0       1  38.1       0.7\n",
              "1       2  29.9       0.5\n",
              "2       3  25.1       0.2"
            ],
            "text/html": [
              "\n",
              "  <div id=\"df-919df99f-2e73-40ce-8d3a-19c547f25958\">\n",
              "    <div class=\"colab-df-container\">\n",
              "      <div>\n",
              "<style scoped>\n",
              "    .dataframe tbody tr th:only-of-type {\n",
              "        vertical-align: middle;\n",
              "    }\n",
              "\n",
              "    .dataframe tbody tr th {\n",
              "        vertical-align: top;\n",
              "    }\n",
              "\n",
              "    .dataframe thead th {\n",
              "        text-align: right;\n",
              "    }\n",
              "</style>\n",
              "<table border=\"1\" class=\"dataframe\">\n",
              "  <thead>\n",
              "    <tr style=\"text-align: right;\">\n",
              "      <th></th>\n",
              "      <th>Pclass</th>\n",
              "      <th>Age</th>\n",
              "      <th>Survived</th>\n",
              "    </tr>\n",
              "  </thead>\n",
              "  <tbody>\n",
              "    <tr>\n",
              "      <th>0</th>\n",
              "      <td>1</td>\n",
              "      <td>38.1</td>\n",
              "      <td>0.7</td>\n",
              "    </tr>\n",
              "    <tr>\n",
              "      <th>1</th>\n",
              "      <td>2</td>\n",
              "      <td>29.9</td>\n",
              "      <td>0.5</td>\n",
              "    </tr>\n",
              "    <tr>\n",
              "      <th>2</th>\n",
              "      <td>3</td>\n",
              "      <td>25.1</td>\n",
              "      <td>0.2</td>\n",
              "    </tr>\n",
              "  </tbody>\n",
              "</table>\n",
              "</div>\n",
              "      <button class=\"colab-df-convert\" onclick=\"convertToInteractive('df-919df99f-2e73-40ce-8d3a-19c547f25958')\"\n",
              "              title=\"Convert this dataframe to an interactive table.\"\n",
              "              style=\"display:none;\">\n",
              "        \n",
              "  <svg xmlns=\"http://www.w3.org/2000/svg\" height=\"24px\"viewBox=\"0 0 24 24\"\n",
              "       width=\"24px\">\n",
              "    <path d=\"M0 0h24v24H0V0z\" fill=\"none\"/>\n",
              "    <path d=\"M18.56 5.44l.94 2.06.94-2.06 2.06-.94-2.06-.94-.94-2.06-.94 2.06-2.06.94zm-11 1L8.5 8.5l.94-2.06 2.06-.94-2.06-.94L8.5 2.5l-.94 2.06-2.06.94zm10 10l.94 2.06.94-2.06 2.06-.94-2.06-.94-.94-2.06-.94 2.06-2.06.94z\"/><path d=\"M17.41 7.96l-1.37-1.37c-.4-.4-.92-.59-1.43-.59-.52 0-1.04.2-1.43.59L10.3 9.45l-7.72 7.72c-.78.78-.78 2.05 0 2.83L4 21.41c.39.39.9.59 1.41.59.51 0 1.02-.2 1.41-.59l7.78-7.78 2.81-2.81c.8-.78.8-2.07 0-2.86zM5.41 20L4 18.59l7.72-7.72 1.47 1.35L5.41 20z\"/>\n",
              "  </svg>\n",
              "      </button>\n",
              "      \n",
              "  <style>\n",
              "    .colab-df-container {\n",
              "      display:flex;\n",
              "      flex-wrap:wrap;\n",
              "      gap: 12px;\n",
              "    }\n",
              "\n",
              "    .colab-df-convert {\n",
              "      background-color: #E8F0FE;\n",
              "      border: none;\n",
              "      border-radius: 50%;\n",
              "      cursor: pointer;\n",
              "      display: none;\n",
              "      fill: #1967D2;\n",
              "      height: 32px;\n",
              "      padding: 0 0 0 0;\n",
              "      width: 32px;\n",
              "    }\n",
              "\n",
              "    .colab-df-convert:hover {\n",
              "      background-color: #E2EBFA;\n",
              "      box-shadow: 0px 1px 2px rgba(60, 64, 67, 0.3), 0px 1px 3px 1px rgba(60, 64, 67, 0.15);\n",
              "      fill: #174EA6;\n",
              "    }\n",
              "\n",
              "    [theme=dark] .colab-df-convert {\n",
              "      background-color: #3B4455;\n",
              "      fill: #D2E3FC;\n",
              "    }\n",
              "\n",
              "    [theme=dark] .colab-df-convert:hover {\n",
              "      background-color: #434B5C;\n",
              "      box-shadow: 0px 1px 3px 1px rgba(0, 0, 0, 0.15);\n",
              "      filter: drop-shadow(0px 1px 2px rgba(0, 0, 0, 0.3));\n",
              "      fill: #FFFFFF;\n",
              "    }\n",
              "  </style>\n",
              "\n",
              "      <script>\n",
              "        const buttonEl =\n",
              "          document.querySelector('#df-919df99f-2e73-40ce-8d3a-19c547f25958 button.colab-df-convert');\n",
              "        buttonEl.style.display =\n",
              "          google.colab.kernel.accessAllowed ? 'block' : 'none';\n",
              "\n",
              "        async function convertToInteractive(key) {\n",
              "          const element = document.querySelector('#df-919df99f-2e73-40ce-8d3a-19c547f25958');\n",
              "          const dataTable =\n",
              "            await google.colab.kernel.invokeFunction('convertToInteractive',\n",
              "                                                     [key], {});\n",
              "          if (!dataTable) return;\n",
              "\n",
              "          const docLinkHtml = 'Like what you see? Visit the ' +\n",
              "            '<a target=\"_blank\" href=https://colab.research.google.com/notebooks/data_table.ipynb>data table notebook</a>'\n",
              "            + ' to learn more about interactive tables.';\n",
              "          element.innerHTML = '';\n",
              "          dataTable['output_type'] = 'display_data';\n",
              "          await google.colab.output.renderOutput(dataTable, element);\n",
              "          const docLink = document.createElement('div');\n",
              "          docLink.innerHTML = docLinkHtml;\n",
              "          element.appendChild(docLink);\n",
              "        }\n",
              "      </script>\n",
              "    </div>\n",
              "  </div>\n",
              "  "
            ]
          },
          "metadata": {},
          "execution_count": 75
        }
      ]
    },
    {
      "cell_type": "code",
      "source": [
        "#Pclass별 Age와 생존률 간의 상관관계 시각화\n",
        "round(age_to_sur,1).plot(kind=\"bar\", x='Age', y='Survived', figsize=(5,5), rot=0)\n"
      ],
      "metadata": {
        "colab": {
          "base_uri": "https://localhost:8080/",
          "height": 352
        },
        "id": "s6cLLqGWhA9l",
        "outputId": "69a85ba9-ab95-4030-aff4-2018275813eb"
      },
      "execution_count": 76,
      "outputs": [
        {
          "output_type": "execute_result",
          "data": {
            "text/plain": [
              "<matplotlib.axes._subplots.AxesSubplot at 0x7f38b7b4bb50>"
            ]
          },
          "metadata": {},
          "execution_count": 76
        },
        {
          "output_type": "display_data",
          "data": {
            "text/plain": [
              "<Figure size 360x360 with 1 Axes>"
            ],
            "image/png": "[encoded data removed]"
          },
          "metadata": {
            "needs_background": "light"
          }
        }
      ]
    },
    {
      "cell_type": "markdown",
      "source": [
        "각 특성 별 생존여부와의 1:1 대응관계 분석\n",
        "\n",
        "---\n",
        "\n",
        " - pcl to sur\n",
        "\n",
        "    등급이 높을 수록 생존확률이 비례해서 올라갔다.\n",
        "\n",
        "\n",
        "\n",
        " - sex to sur\n",
        "\n",
        "    여성이 남성보다 생존확률이 높았다.\n",
        "\n",
        "    **등급-성별에 대한 생존확률을 한번 점검해보아야겠다.**\n",
        "\n",
        "\n",
        "\n",
        " - sib to sur\n",
        "\n",
        "    같이 동승한 지인의 수가 1 2 0 3 4 5 순으로 낮아졌다.\n",
        "\n",
        "    동승한 지인의 수가 많아질수록 생존확률이 낮아지는것이 관측되었다.\n",
        "\n",
        "    특이하게 1,2 가 0보다 생존확률이 높았고 5는 생존확률이 0이다.\n",
        "\n",
        "\n",
        "\n",
        " - par to sur\n",
        "  \n",
        "    같이 배에탄 부모 자식 수는 3 2 1 0 5 4 6 순으로 낮아졌다.\n",
        "\n",
        "    동승자가 너무 많아지면 생존확률은 0에 수렴했다.\n",
        "\n",
        "    **sib to sur과 par to sur은 동승자수 별 비율을 좀 확인해봐야겠다.**\n",
        "\n",
        "\n",
        "\n",
        " - emb to sur\n",
        "\n",
        "    승선지 별 생존확률이 신기하게 C-S-Q순으로 차이가 났다.\n",
        "    \n",
        "    **C-S-Q 와 등급(Pclass)을 엮어서 한번 생존확률을 확인해봐야겠다.**\n",
        "\n",
        "    **더 심화로 요금, 승선지, 등급을 엮어도 좋아보인다.**\n",
        "\n",
        "\n",
        " - far to sur\n",
        "\n",
        "    **요금 구간 별 생존확률로 다시 분석을 해보아야겠다.**"
      ],
      "metadata": {
        "id": "qzCyASvDBtoL"
      }
    },
    {
      "cell_type": "markdown",
      "source": [
        "#자료간 상관관계 - 히트맵으로 시각화"
      ],
      "metadata": {
        "id": "rDa5Z_amNcCx"
      }
    },
    {
      "cell_type": "code",
      "source": [
        "#히트맵 작성을 위한 트레인데이터 자료간 상관관계\n",
        "train2.corr().abs()"
      ],
      "metadata": {
        "colab": {
          "base_uri": "https://localhost:8080/",
          "height": 238
        },
        "id": "6zdHj4qbu8nz",
        "outputId": "c5dd7f57-1355-4dfa-8661-b559e0e66f26"
      },
      "execution_count": 77,
      "outputs": [
        {
          "output_type": "execute_result",
          "data": {
            "text/plain": [
              "          Survived    Pclass       Age     SibSp     Parch      Fare\n",
              "Survived  1.000000  0.356462  0.082446  0.015523  0.095265  0.266100\n",
              "Pclass    0.356462  1.000000  0.365902  0.065187  0.023666  0.552893\n",
              "Age       0.082446  0.365902  1.000000  0.307351  0.187896  0.093143\n",
              "SibSp     0.015523  0.065187  0.307351  1.000000  0.383338  0.139860\n",
              "Parch     0.095265  0.023666  0.187896  0.383338  1.000000  0.206624\n",
              "Fare      0.266100  0.552893  0.093143  0.139860  0.206624  1.000000"
            ],
            "text/html": [
              "\n",
              "  <div id=\"df-61efad1a-9aba-4e72-882b-b4be55062549\">\n",
              "    <div class=\"colab-df-container\">\n",
              "      <div>\n",
              "<style scoped>\n",
              "    .dataframe tbody tr th:only-of-type {\n",
              "        vertical-align: middle;\n",
              "    }\n",
              "\n",
              "    .dataframe tbody tr th {\n",
              "        vertical-align: top;\n",
              "    }\n",
              "\n",
              "    .dataframe thead th {\n",
              "        text-align: right;\n",
              "    }\n",
              "</style>\n",
              "<table border=\"1\" class=\"dataframe\">\n",
              "  <thead>\n",
              "    <tr style=\"text-align: right;\">\n",
              "      <th></th>\n",
              "      <th>Survived</th>\n",
              "      <th>Pclass</th>\n",
              "      <th>Age</th>\n",
              "      <th>SibSp</th>\n",
              "      <th>Parch</th>\n",
              "      <th>Fare</th>\n",
              "    </tr>\n",
              "  </thead>\n",
              "  <tbody>\n",
              "    <tr>\n",
              "      <th>Survived</th>\n",
              "      <td>1.000000</td>\n",
              "      <td>0.356462</td>\n",
              "      <td>0.082446</td>\n",
              "      <td>0.015523</td>\n",
              "      <td>0.095265</td>\n",
              "      <td>0.266100</td>\n",
              "    </tr>\n",
              "    <tr>\n",
              "      <th>Pclass</th>\n",
              "      <td>0.356462</td>\n",
              "      <td>1.000000</td>\n",
              "      <td>0.365902</td>\n",
              "      <td>0.065187</td>\n",
              "      <td>0.023666</td>\n",
              "      <td>0.552893</td>\n",
              "    </tr>\n",
              "    <tr>\n",
              "      <th>Age</th>\n",
              "      <td>0.082446</td>\n",
              "      <td>0.365902</td>\n",
              "      <td>1.000000</td>\n",
              "      <td>0.307351</td>\n",
              "      <td>0.187896</td>\n",
              "      <td>0.093143</td>\n",
              "    </tr>\n",
              "    <tr>\n",
              "      <th>SibSp</th>\n",
              "      <td>0.015523</td>\n",
              "      <td>0.065187</td>\n",
              "      <td>0.307351</td>\n",
              "      <td>1.000000</td>\n",
              "      <td>0.383338</td>\n",
              "      <td>0.139860</td>\n",
              "    </tr>\n",
              "    <tr>\n",
              "      <th>Parch</th>\n",
              "      <td>0.095265</td>\n",
              "      <td>0.023666</td>\n",
              "      <td>0.187896</td>\n",
              "      <td>0.383338</td>\n",
              "      <td>1.000000</td>\n",
              "      <td>0.206624</td>\n",
              "    </tr>\n",
              "    <tr>\n",
              "      <th>Fare</th>\n",
              "      <td>0.266100</td>\n",
              "      <td>0.552893</td>\n",
              "      <td>0.093143</td>\n",
              "      <td>0.139860</td>\n",
              "      <td>0.206624</td>\n",
              "      <td>1.000000</td>\n",
              "    </tr>\n",
              "  </tbody>\n",
              "</table>\n",
              "</div>\n",
              "      <button class=\"colab-df-convert\" onclick=\"convertToInteractive('df-61efad1a-9aba-4e72-882b-b4be55062549')\"\n",
              "              title=\"Convert this dataframe to an interactive table.\"\n",
              "              style=\"display:none;\">\n",
              "        \n",
              "  <svg xmlns=\"http://www.w3.org/2000/svg\" height=\"24px\"viewBox=\"0 0 24 24\"\n",
              "       width=\"24px\">\n",
              "    <path d=\"M0 0h24v24H0V0z\" fill=\"none\"/>\n",
              "    <path d=\"M18.56 5.44l.94 2.06.94-2.06 2.06-.94-2.06-.94-.94-2.06-.94 2.06-2.06.94zm-11 1L8.5 8.5l.94-2.06 2.06-.94-2.06-.94L8.5 2.5l-.94 2.06-2.06.94zm10 10l.94 2.06.94-2.06 2.06-.94-2.06-.94-.94-2.06-.94 2.06-2.06.94z\"/><path d=\"M17.41 7.96l-1.37-1.37c-.4-.4-.92-.59-1.43-.59-.52 0-1.04.2-1.43.59L10.3 9.45l-7.72 7.72c-.78.78-.78 2.05 0 2.83L4 21.41c.39.39.9.59 1.41.59.51 0 1.02-.2 1.41-.59l7.78-7.78 2.81-2.81c.8-.78.8-2.07 0-2.86zM5.41 20L4 18.59l7.72-7.72 1.47 1.35L5.41 20z\"/>\n",
              "  </svg>\n",
              "      </button>\n",
              "      \n",
              "  <style>\n",
              "    .colab-df-container {\n",
              "      display:flex;\n",
              "      flex-wrap:wrap;\n",
              "      gap: 12px;\n",
              "    }\n",
              "\n",
              "    .colab-df-convert {\n",
              "      background-color: #E8F0FE;\n",
              "      border: none;\n",
              "      border-radius: 50%;\n",
              "      cursor: pointer;\n",
              "      display: none;\n",
              "      fill: #1967D2;\n",
              "      height: 32px;\n",
              "      padding: 0 0 0 0;\n",
              "      width: 32px;\n",
              "    }\n",
              "\n",
              "    .colab-df-convert:hover {\n",
              "      background-color: #E2EBFA;\n",
              "      box-shadow: 0px 1px 2px rgba(60, 64, 67, 0.3), 0px 1px 3px 1px rgba(60, 64, 67, 0.15);\n",
              "      fill: #174EA6;\n",
              "    }\n",
              "\n",
              "    [theme=dark] .colab-df-convert {\n",
              "      background-color: #3B4455;\n",
              "      fill: #D2E3FC;\n",
              "    }\n",
              "\n",
              "    [theme=dark] .colab-df-convert:hover {\n",
              "      background-color: #434B5C;\n",
              "      box-shadow: 0px 1px 3px 1px rgba(0, 0, 0, 0.15);\n",
              "      filter: drop-shadow(0px 1px 2px rgba(0, 0, 0, 0.3));\n",
              "      fill: #FFFFFF;\n",
              "    }\n",
              "  </style>\n",
              "\n",
              "      <script>\n",
              "        const buttonEl =\n",
              "          document.querySelector('#df-61efad1a-9aba-4e72-882b-b4be55062549 button.colab-df-convert');\n",
              "        buttonEl.style.display =\n",
              "          google.colab.kernel.accessAllowed ? 'block' : 'none';\n",
              "\n",
              "        async function convertToInteractive(key) {\n",
              "          const element = document.querySelector('#df-61efad1a-9aba-4e72-882b-b4be55062549');\n",
              "          const dataTable =\n",
              "            await google.colab.kernel.invokeFunction('convertToInteractive',\n",
              "                                                     [key], {});\n",
              "          if (!dataTable) return;\n",
              "\n",
              "          const docLinkHtml = 'Like what you see? Visit the ' +\n",
              "            '<a target=\"_blank\" href=https://colab.research.google.com/notebooks/data_table.ipynb>data table notebook</a>'\n",
              "            + ' to learn more about interactive tables.';\n",
              "          element.innerHTML = '';\n",
              "          dataTable['output_type'] = 'display_data';\n",
              "          await google.colab.output.renderOutput(dataTable, element);\n",
              "          const docLink = document.createElement('div');\n",
              "          docLink.innerHTML = docLinkHtml;\n",
              "          element.appendChild(docLink);\n",
              "        }\n",
              "      </script>\n",
              "    </div>\n",
              "  </div>\n",
              "  "
            ]
          },
          "metadata": {},
          "execution_count": 77
        }
      ]
    },
    {
      "cell_type": "code",
      "source": [
        "#각 특성 별 상관관계\n",
        "\n",
        "fig, ax = plt.subplots(figsize=(12,6))\n",
        "\n",
        "sns.heatmap(train2.corr().abs(), # 위에서 전처리한 데이터프레임\n",
        "            annot = True, # 숫자 표시 여부\n",
        "            ax = ax, # 히트맵을 그릴 격자\n",
        "            linewidths = 0.4, # 선의 굵기\n",
        "            linecolor = 'white', # 선의 색깔\n",
        "            fmt = '.2f', # 소수점 포맷팅 형태\n",
        "            cmap = 'YlOrRd') # colormap 형태\n",
        "\n",
        "plt.xticks(rotation=45, size = 12)\n",
        "plt.yticks(size=12) \n",
        "plt.show()"
      ],
      "metadata": {
        "colab": {
          "base_uri": "https://localhost:8080/",
          "height": 415
        },
        "id": "-NtTSR35wBq5",
        "outputId": "ba80e154-5294-426e-cbba-ccd26918237d"
      },
      "execution_count": 78,
      "outputs": [
        {
          "output_type": "display_data",
          "data": {
            "text/plain": [
              "<Figure size 864x432 with 2 Axes>"
            ],
            "image/png": "[encoded data removed]"
          },
          "metadata": {
            "needs_background": "light"
          }
        }
      ]
    },
    {
      "cell_type": "markdown",
      "source": [
        "Pclass와 Fare은 반비례관계로 0.6값을 지니며 가장 선형적으로 보인다.\n",
        "\n",
        "Pclass-survived 0.4\n",
        "sibsp-parch 0.4\n",
        "Fare Survived 0.3\n",
        "\n",
        "성별을 0과 1로 나누어 생존간의 상관관계까지 보고싶다.\n",
        "\n",
        "*** 각각의 데이터를 상관관계 분석에서 시각적으로 보인 바의 크기대로 점수를 부여하였다. ***"
      ],
      "metadata": {
        "id": "TXHaRD_Hws5C"
      }
    },
    {
      "cell_type": "markdown",
      "source": [
        "#자료 분석을 기반으로한 자료 치환과정"
      ],
      "metadata": {
        "id": "Rye-GEbGNhBk"
      }
    },
    {
      "cell_type": "code",
      "source": [
        "#자료 전처리과정\n",
        "train3 = train2.replace(['male','female'],[10,20])\n",
        "train3 = train3.replace(['C', 'S', 'Q'],[30,20,10])\n",
        "train3['SibSp'] = train3['SibSp'].replace([1,2,0,3,4,5],[60,50,40,30,20,10])\n",
        "train3['Parch'] = train3['Parch'].replace([3,2,1,0,5,4,6],[70,60,50,40,30,20,10])\n",
        "train3['Pclass'] = train3['Pclass'].replace([1,2,3],[90,60,30])"
      ],
      "metadata": {
        "id": "W8hEuOOpw6O5"
      },
      "execution_count": 79,
      "outputs": []
    },
    {
      "cell_type": "code",
      "source": [
        "#전처리한 데이터를 사용할 항목별로 쪼개서 준비\n",
        "\n",
        "#sur_train_input -> train.csv에서 전처리한 데이터-> input,target준비\n",
        "sur_train_input = train3[['Pclass', 'Sex', 'Age', 'SibSp', 'Parch', 'Fare', 'Embarked']].to_numpy()\n",
        "sur_train_target = train3[['Survived']].to_numpy()\n",
        "\n",
        "#전처리한 데이터들을 array형식으로 바꾸고 검증을 위해 sur_train 데이터들을 train과 val(test)데이터로 나눔\n",
        "train_input, test_input, train_target, test_target = train_test_split(sur_train_input, sur_train_target, random_state=42)\n",
        "\n",
        "#target 형식을 재조정해줌\n",
        "train_target = train_target.reshape(-1)\n",
        "train_target.shape\n",
        "\n",
        "test_target = test_target.reshape(-1)\n",
        "test_target.shape"
      ],
      "metadata": {
        "id": "xi_8nsN40xx-",
        "colab": {
          "base_uri": "https://localhost:8080/"
        },
        "outputId": "29215840-609c-4f3e-f0f9-6f1023aff937"
      },
      "execution_count": 80,
      "outputs": [
        {
          "output_type": "execute_result",
          "data": {
            "text/plain": [
              "(178,)"
            ]
          },
          "metadata": {},
          "execution_count": 80
        }
      ]
    },
    {
      "cell_type": "code",
      "source": [
        "#모델 검증을 위한 test.csv파일 데이터 전처리과정\n",
        "test_df_f = pd.read_csv('/content/drive/MyDrive/Colab Notebooks/titanic/test.csv')\n",
        "test_df_f.drop(['PassengerId','Ticket', 'Cabin'], axis=1, inplace =True)\n",
        "\n",
        "test_df_f = test_df_f.replace(['male','female'],[10,20])\n",
        "test_df_f = test_df_f.replace(['C','S','Q'],[30,20,10])\n",
        "test_df_f['Pclass']= test_df_f['Pclass'].replace([1,2,3],[9,6,3])\n",
        "test_df_f['SibSp'] = test_df_f['SibSp'].replace([1,2,0,3,4,5],[60,50,40,30,20,10])\n",
        "test_df_f['Parch'] = test_df_f['Parch'].replace([3,2,1,0,5,4,6],[70,60,50,40,30,20,10])\n",
        "test_df_f['Age'] = test_df_f['Age'].fillna(test_df_f.groupby('Pclass')['Age'].transform('mean'))\n",
        "test_df_f['Fare'] = test_df_f['Age'].fillna(method = 'ffill')\n",
        "\n",
        "test_target_df = pd.read_csv('/content/drive/MyDrive/Colab Notebooks/titanic/gender_submission.csv')\n",
        "sur_test_input = test_df_f[['Pclass', 'Sex', 'Age', 'SibSp', 'Parch', 'Fare', 'Embarked']].to_numpy()\n",
        "sur_test_target = test_target_df[['Survived']].to_numpy()\n",
        "\n",
        "sur_test_input.shape\n",
        "sur_test_target = sur_test_target.reshape(-1)"
      ],
      "metadata": {
        "id": "vU_O-XY4LZgb"
      },
      "execution_count": 81,
      "outputs": []
    },
    {
      "cell_type": "markdown",
      "source": [
        "#전처리 데이터를 활용한 간단한 머신러닝모델 구현"
      ],
      "metadata": {
        "id": "x3L8HyPcN0mZ"
      }
    },
    {
      "cell_type": "markdown",
      "source": [
        "train3 데이터로 로지스틱 회귀모델 학습 후 test3에 대한 점수 출력"
      ],
      "metadata": {
        "id": "JIzVJYZRDq3P"
      }
    },
    {
      "cell_type": "code",
      "source": [
        "lr = LogisticRegression()\n",
        "lr.fit(train_input, train_target)\n",
        "lr.score(sur_train_input, sur_train_target)\n",
        "log_predict = lr.predict(sur_test_input)\n",
        "lr_score = lr.score(test_input, test_target)\n",
        "\n",
        "print(\"lr-모델 훈련데이터 점수 :\",lr.score(train_input, train_target))\n",
        "print(\"lr-모델 검증데이터 점수:\",lr_score)"
      ],
      "metadata": {
        "id": "jwd_ArwIE_UT",
        "colab": {
          "base_uri": "https://localhost:8080/"
        },
        "outputId": "f19402a5-d9e1-487b-94ef-aff9d55c6726"
      },
      "execution_count": 82,
      "outputs": [
        {
          "output_type": "stream",
          "name": "stdout",
          "text": [
            "lr-모델 훈련데이터 점수 : 0.8146067415730337\n",
            "lr-모델 검증데이터 점수: 0.7865168539325843\n"
          ]
        }
      ]
    },
    {
      "cell_type": "markdown",
      "source": [
        "랜덤포레스트로 모델링"
      ],
      "metadata": {
        "id": "8aeHRQgMTPE4"
      }
    },
    {
      "cell_type": "code",
      "source": [
        "rf = RandomForestClassifier(n_jobs=-1)\n",
        "rf.fit(train_input, train_target)\n",
        "\n",
        "print(\"rf-모델 검증데이터 점수:\",rf.score(test_input, test_target))"
      ],
      "metadata": {
        "colab": {
          "base_uri": "https://localhost:8080/"
        },
        "id": "3aF4H2zJUBCv",
        "outputId": "27a0c9b9-ae52-4929-d0d7-4b125cee1916"
      },
      "execution_count": 83,
      "outputs": [
        {
          "output_type": "stream",
          "name": "stdout",
          "text": [
            "rf-모델 검증데이터 점수: 0.7865168539325843\n"
          ]
        }
      ]
    },
    {
      "cell_type": "markdown",
      "source": [
        "#특성공학을 활용한 특성추가\n",
        "\n",
        "특성 간 상관관계 분석이 가능한 지식이 아직 부족한 상태(선형대수,통계학..등)\n",
        "\n",
        "따라서 특성공학을 통해 차원에 따른 특성개수를 늘려 학습해보기로 하였다."
      ],
      "metadata": {
        "id": "AA71xmEBOcIA"
      }
    },
    {
      "cell_type": "markdown",
      "source": [
        "특성 공학으로 특성 늘린 후 랜덤포레스트로 모델링"
      ],
      "metadata": {
        "id": "D2T9gBfAXwsZ"
      }
    },
    {
      "cell_type": "code",
      "source": [
        "poly = PolynomialFeatures(degree=2, include_bias=False)\n",
        "poly.fit(train_input)\n",
        "train_poly = poly.transform(train_input)\n",
        "test_poly = poly.transform(test_input)\n",
        "\n",
        "rf_poly = RandomForestClassifier(n_jobs=-1)\n",
        "rf_poly.fit(train_poly, train_target)\n",
        "rf_poly_score = rf_poly.score(test_poly, test_target)\n",
        "print(\"rf-모델 poly 검증데이터 점수:\",rf_poly_score)"
      ],
      "metadata": {
        "colab": {
          "base_uri": "https://localhost:8080/"
        },
        "id": "09f-DUAxYB2L",
        "outputId": "8ad8e144-6cc6-4e3d-f455-d77ca273d806"
      },
      "execution_count": 84,
      "outputs": [
        {
          "output_type": "stream",
          "name": "stdout",
          "text": [
            "rf-모델 poly 검증데이터 점수: 0.797752808988764\n"
          ]
        }
      ]
    },
    {
      "cell_type": "markdown",
      "source": [
        "#특성 공학으로 특성 늘린 후 정규화 작업 진행, KNN, RF...으로 모델링\n",
        "\n",
        "특성을 단순히 늘려보았더니 점수가 오히려 떨어짐을 관찰하였고\n",
        "\n",
        "차원을 증가시킬수록 훈련 데이터에 과적합만 발생 할 것 같아 다른 시도를 하였다.\n",
        "\n",
        "자료간 스케일이 맞지 않다고 생각하여 자료의 스케일을 맞춰주기위해 정규화 작업을 진행하였다."
      ],
      "metadata": {
        "id": "N_raEiiFwiqc"
      }
    },
    {
      "cell_type": "markdown",
      "source": [
        "RF로 모델링"
      ],
      "metadata": {
        "id": "Kyrc0zVByFgn"
      }
    },
    {
      "cell_type": "code",
      "source": [
        "ss= StandardScaler()\n",
        "ss.fit(train_poly)\n",
        "train_scaled = ss.transform(train_poly)\n",
        "test_scaled = ss.transform(test_poly)\n",
        "\n",
        "rf_scaled = RandomForestClassifier(n_jobs=-1)\n",
        "rf_scaled.fit(train_scaled, train_target)\n",
        "rf_scaled.score(test_scaled, test_target)\n",
        "print(\"rf-모델 poly-scaled-검증데이터 점수:\",rf_scaled.score(test_scaled, test_target))"
      ],
      "metadata": {
        "colab": {
          "base_uri": "https://localhost:8080/"
        },
        "id": "l5DwIT71wrAj",
        "outputId": "db989318-f06a-4da9-e607-be6b6a05cae9"
      },
      "execution_count": 85,
      "outputs": [
        {
          "output_type": "stream",
          "name": "stdout",
          "text": [
            "rf-모델 poly-scaled-검증데이터 점수: 0.797752808988764\n"
          ]
        }
      ]
    },
    {
      "cell_type": "markdown",
      "source": [
        "KNN으로 모델링"
      ],
      "metadata": {
        "id": "FJv2rMZLyB40"
      }
    },
    {
      "cell_type": "code",
      "source": [
        "kn = KNeighborsClassifier()\n",
        "kn.fit(train_scaled, train_target)\n",
        "kn.score(test_scaled, test_target)\n",
        "print(\"kn-모델 poly-score-검증데이터 점수:\",kn.score(test_scaled, test_target))"
      ],
      "metadata": {
        "colab": {
          "base_uri": "https://localhost:8080/"
        },
        "id": "Hf-3bURyxeKn",
        "outputId": "f9892022-6b84-4314-a789-ce55bf600ee6"
      },
      "execution_count": 86,
      "outputs": [
        {
          "output_type": "stream",
          "name": "stdout",
          "text": [
            "kn-모델 poly-score-검증데이터 점수: 0.7865168539325843\n"
          ]
        }
      ]
    },
    {
      "cell_type": "markdown",
      "source": [
        "# 주성분 분석으로 과대적합을 막고 최적의 요소 찾아서 모델링\n",
        "\n",
        "특성을 늘리고 정규화까지 진행하였지만 뚜렷한 모델점수 개선이 되지 않았다.\n",
        "\n",
        "따라서 이를 해결하기위해 PCA를 통해 특성을 줄여 학습해보았다."
      ],
      "metadata": {
        "id": "mRnU6shB1TiQ"
      }
    },
    {
      "cell_type": "code",
      "source": [
        "#자료의 특성을 50퍼센트 가량 담을 수 있게 componets값을 정해보았다.\n",
        "pca = PCA(n_components = 0.5)\n",
        "pca.fit(train_input)\n",
        "train_pca = pca.transform(train_input)\n",
        "test_pca = pca.transform(test_input)\n",
        "rf.fit(train_pca, train_target)\n",
        "rf.score(test_pca, test_target)\n",
        "print(\"rf-모델 poly-scaled-pca-검증데이터 점수:\",rf.score(test_pca, test_target))"
      ],
      "metadata": {
        "id": "oRFr3E_ryIsF",
        "colab": {
          "base_uri": "https://localhost:8080/"
        },
        "outputId": "93eea2aa-46d4-4efe-a680-b4aa6280623e"
      },
      "execution_count": 87,
      "outputs": [
        {
          "output_type": "stream",
          "name": "stdout",
          "text": [
            "rf-모델 poly-scaled-pca-검증데이터 점수: 0.6179775280898876\n"
          ]
        }
      ]
    },
    {
      "cell_type": "code",
      "source": [
        "pca = PCA(n_components = 20)\n",
        "pca.fit(train_poly)\n",
        "train_pca = pca.transform(train_poly)\n",
        "test_pca = pca.transform(test_poly)\n",
        "\n",
        "rf.fit(train_pca, train_target)\n",
        "rf.score(test_pca, test_target)\n",
        "#주성분을 20개 사용\n",
        "print(\"rf-모델 poly-scaled-pca-검증데이터 점수:\",rf.score(test_pca, test_target))"
      ],
      "metadata": {
        "colab": {
          "base_uri": "https://localhost:8080/"
        },
        "id": "otKid0jn1zD7",
        "outputId": "37f5d0b1-7608-4014-b202-afbb1db54c42"
      },
      "execution_count": 88,
      "outputs": [
        {
          "output_type": "stream",
          "name": "stdout",
          "text": [
            "rf-모델 poly-scaled-pca-검증데이터 점수: 0.7528089887640449\n"
          ]
        }
      ]
    },
    {
      "cell_type": "markdown",
      "source": [
        "특성의 개수를 더 늘려서 다양한 모델에 적용"
      ],
      "metadata": {
        "id": "cTEjLpAr2AP_"
      }
    },
    {
      "cell_type": "code",
      "source": [
        "poly = PolynomialFeatures(degree=3, include_bias=False)\n",
        "poly.fit(train_input)\n",
        "train_poly = poly.transform(train_input)\n",
        "test_poly = poly.transform(test_input)\n",
        "\n",
        "pca = PCA(n_components = 50)\n",
        "pca.fit(train_poly)\n",
        "train_pca = pca.transform(train_poly)\n",
        "test_pca = pca.transform(test_poly)\n",
        "\n",
        "rf.fit(train_pca, train_target)\n",
        "rf.score(test_pca, test_target)\n",
        "round(rf.score(test_pca, test_target), 4)*100"
      ],
      "metadata": {
        "colab": {
          "base_uri": "https://localhost:8080/"
        },
        "id": "fPfPCem_2rVM",
        "outputId": "64f42eba-3899-4348-e79e-f68af9cdc5fe"
      },
      "execution_count": 89,
      "outputs": [
        {
          "output_type": "execute_result",
          "data": {
            "text/plain": [
              "75.28"
            ]
          },
          "metadata": {},
          "execution_count": 89
        }
      ]
    },
    {
      "cell_type": "code",
      "source": [
        "kn.fit(train_pca, train_target)\n",
        "kn.score(test_pca, test_target)\n"
      ],
      "metadata": {
        "colab": {
          "base_uri": "https://localhost:8080/"
        },
        "id": "CyBGlkf13MI1",
        "outputId": "8dd6f2e1-4930-4a22-a745-87106337ce55"
      },
      "execution_count": 90,
      "outputs": [
        {
          "output_type": "execute_result",
          "data": {
            "text/plain": [
              "0.7303370786516854"
            ]
          },
          "metadata": {},
          "execution_count": 90
        }
      ]
    },
    {
      "cell_type": "markdown",
      "source": [
        "#미완성 셀 "
      ],
      "metadata": {
        "id": "b5-Flwv7RY-8"
      }
    },
    {
      "cell_type": "code",
      "source": [
        "# import math\n",
        "\n",
        "# scoreboard = {}\n",
        "\n",
        "# for deg in range(2,6+1):\n",
        "#   poly = PolynomialFeatures(degree=deg)\n",
        "#   poly.fit(train_input)\n",
        "#   train_poly = poly.transform(train_input)\n",
        "#   test_poly = poly.transform(test_input)\n",
        "\n",
        "#   x = math.factorial(7+deg)/(math.factorial(7)*math.factorial(deg))\n",
        "  \n",
        "\n",
        "#   for com in range(3, int(x)):\n",
        "#     pca = PCA(n_components = com)\n",
        "#     pca.fit(train_poly)\n",
        "#     train_pca = pca.transform(train_poly)\n",
        "#     test_pca = pca.transform(test_poly)\n",
        "\n",
        "#     rf.fit(train_pca, train_target)\n",
        "#     rf.score(test_pca, test_target)\n",
        "\n",
        "#     scoreboard[\"rf - deg = {}, com = {}\".format(deg, com)] = round(rf.score(test_pca, test_target), 4)*100\n",
        "\n",
        "# len(scoreboard)\n",
        "# list(scoreboard.values())\n",
        "# print(max(list(scoreboard.values())))\n",
        "# print(list(scoreboard.values()).index(max(list(scoreboard.values()))))\n",
        "\n",
        "# max_key=list(scoreboard.keys())[list(scoreboard.values()).index(max(list(scoreboard.values())))]\n",
        "# print(list(scoreboard.keys())[list(scoreboard.values()).index(max(list(scoreboard.values())))])\n",
        "# print(scoreboard[max_key])"
      ],
      "metadata": {
        "id": "oiYKrrZd3RqW"
      },
      "execution_count": 91,
      "outputs": []
    },
    {
      "cell_type": "markdown",
      "source": [
        "#for문을 통한 최적의 degree 및 components 개수 찾기(완성하였지만 돌리지않음)"
      ],
      "metadata": {
        "id": "fu9lNpWB8Ljb"
      }
    },
    {
      "cell_type": "code",
      "source": [
        "# scoreboard_lr = {}\n",
        "# scoreboard_rf = {}\n",
        "# scoreboard_kn = {}\n",
        "\n",
        "# kn = KNeighborsClassifier()\n",
        "# lr = LogisticRegression(max_iter=500, n_jobs=-1)\n",
        "# rf = RandomForestClassifier(n_jobs=-1)\n",
        "\n",
        "\n",
        "# for deg in range(2,4+1):\n",
        "#   poly = PolynomialFeatures(degree=deg)\n",
        "#   poly.fit(train_input)\n",
        "#   train_poly = poly.transform(train_input)\n",
        "#   test_poly = poly.transform(test_input)\n",
        "\n",
        "#   ss.fit(train_poly)\n",
        "#   train_scaled = ss.transform(train_poly)\n",
        "#   test_scaled = ss.transform(test_poly)\n",
        "\n",
        "#   x = math.factorial(7+deg)/(math.factorial(7)*math.factorial(deg))\n",
        "  \n",
        "\n",
        "#   for com in range(3, int(x)):\n",
        "#     pca = PCA(n_components = com)\n",
        "#     pca.fit(train_scaled)\n",
        "#     train_pca = pca.transform(train_scaled)\n",
        "#     test_pca = pca.transform(test_scaled)\n",
        "\n",
        "#     lr.fit(train_pca, train_target)\n",
        "#     rf.fit(train_pca, train_target)\n",
        "#     kn.fit(train_pca, train_target)\n",
        "    \n",
        "#     scoreboard_lr[\"lr - deg = {}, com = {}\".format(deg, com)] = round(lr.score(test_pca, test_target), 3)*100\n",
        "#     scoreboard_rf[\"rf - deg = {}, com = {}\".format(deg, com)] = round(rf.score(test_pca, test_target), 3)*100\n",
        "#     scoreboard_kn[\"kn - deg = {}, com = {}\".format(deg, com)] = round(kn.score(test_pca, test_target), 3)*100\n",
        "\n",
        "# max_value = max(list(scoreboard_lr.values()))\n",
        "# mvalue_index = list(scoreboard_lr.values()).index(max_value)\n",
        "# max_key=list(scoreboard_lr.keys())[mvalue_index]\n",
        "\n",
        "# print(\"lr 모델의 최적의 조합 :\", list(scoreboard_lr.keys())[mvalue_index])\n",
        "# print(\"최고점수 : \", scoreboard_lr[max_key])\n",
        "\n",
        "# max_value = max(list(scoreboard_rf.values()))\n",
        "# mvalue_index = list(scoreboard_rf.values()).index(max_value)\n",
        "# max_key=list(scoreboard_rf.keys())[mvalue_index]\n",
        "\n",
        "# print(\"rf 모델의 최적의 조합 :\", list(scoreboard_rf.keys())[mvalue_index])\n",
        "# print(\"최고점수 : \", scoreboard_rf[max_key])\n",
        "\n",
        "# max_value = max(list(scoreboard_kn.values()))\n",
        "# mvalue_index = list(scoreboard_kn.values()).index(max_value)\n",
        "# max_key=list(scoreboard_kn.keys())[mvalue_index]\n",
        "\n",
        "# print(\"kn 모델의 최적의 조합 :\", list(scoreboard_kn.keys())[mvalue_index])\n",
        "# print(\"최고점수 : \", scoreboard_kn[max_key])"
      ],
      "metadata": {
        "id": "CQbGGlKTEg6I"
      },
      "execution_count": 92,
      "outputs": []
    },
    {
      "cell_type": "markdown",
      "source": [
        "#각각의 ML모델의 파라미터값 조정(완성하였지만 돌리지않음)\n",
        "\n",
        "max_iter값이 충분하지않아 100에서 500으로 조정"
      ],
      "metadata": {
        "id": "uP4sKLyqG13e"
      }
    },
    {
      "cell_type": "code",
      "source": [
        "# lr = LogisticRegression(max_iter=500, n_jobs=-1)\n",
        "\n",
        "# poly = PolynomialFeatures(degree=3)\n",
        "# poly.fit(train_input)\n",
        "# train_poly = poly.transform(train_input)\n",
        "# test_real_poly = poly.transform(sur_test_input)\n",
        "\n",
        "# ss.fit(train_poly)\n",
        "# train_scaled = ss.transform(train_poly)\n",
        "# test_real_scaled = ss.transform(test_real_poly)\n",
        "\n",
        "# pca = PCA(n_components = 36)\n",
        "# pca.fit(train_scaled)\n",
        "# train_pca = pca.transform(train_scaled)\n",
        "# test_real_pca = pca.transform(test_real_scaled)\n",
        "\n",
        "# lr.fit(train_pca, train_target)\n",
        "# predict = lr.predict(test_real_pca)\n",
        "# accuracy = accuracy_score(predict, sur_test_target)\n",
        "\n",
        "\n",
        "# predict = lr.predict(test_real_pca)\n",
        "# accuracy = accuracy_score(predict, sur_test_target)\n",
        "# test_real_poly = poly.transform(sur_test_input)\n",
        "# test_real_scaled = ss.transform(test_real_poly)\n",
        "# test_real_pca = pca.transform(test_real_scaled)\n",
        "# accuracy"
      ],
      "metadata": {
        "id": "qbfhkVS2P9TN"
      },
      "execution_count": 93,
      "outputs": []
    },
    {
      "cell_type": "markdown",
      "source": [
        "#특성공학의 degree, PCA 차원축소의 n_components 파라미터 값의 변화에 따른\n",
        "#test.csv data의 predict accuracy 최대값 도출\n",
        "\n"
      ],
      "metadata": {
        "id": "62nNSyd3RGg2"
      }
    },
    {
      "cell_type": "code",
      "source": [
        "scoreboard_lr = {} #로지스틱 회귀 모델 반복문 결과 저장소\n",
        "scoreboard_rf = {} #랜덤포레스트 -\n",
        "scoreboard_kn = {} #KNN\n",
        "\n",
        "#각각의 머신러닝 모델 클래스 지정\n",
        "#max_iter()은 특성값이 증가함에 따라 충분히 학습하지 못하는 경우를 대비하여 늘림\n",
        "\n",
        "kn = KNeighborsClassifier()\n",
        "lr = LogisticRegression(max_iter=500, n_jobs=-1)\n",
        "rf = RandomForestClassifier(n_jobs=-1)\n",
        "\n",
        "#차원은 2차에서 4차까지 늘려가며\n",
        "#중간에 계산된 x는 특성공학으로 인해 늘어난 특성의 개수를 계산한 식\n",
        "# x = (기존 데이터 특성개수+degree)! / (degree! * 기존 데이터 특성개수!)\n",
        "\n",
        "for deg in range(2,4+1):\n",
        "  poly = PolynomialFeatures(degree=deg)\n",
        "  poly.fit(train_input)\n",
        "  train_poly = poly.transform(train_input)\n",
        "  test_poly = poly.transform(test_input)\n",
        "  test_real_poly = poly.transform(sur_test_input)\n",
        "\n",
        "  ss.fit(train_poly)\n",
        "  train_scaled = ss.transform(train_poly)\n",
        "  test_scaled = ss.transform(test_poly)\n",
        "  test_real_scaled = ss.transform(test_real_poly)\n",
        "\n",
        "  x = math.factorial(7+deg)/(math.factorial(7)*math.factorial(deg))\n",
        "  \n",
        "#주특성 사용개수를 3개부터 계산된 x-1개까지 사용\n",
        "  for com in range(3, int(x)):\n",
        "    pca = PCA(n_components = com)\n",
        "    pca.fit(train_scaled)\n",
        "    train_pca = pca.transform(train_scaled)\n",
        "    test_pca = pca.transform(test_scaled)\n",
        "    test_real_pca = pca.transform(test_real_scaled)\n",
        "\n",
        "    lr.fit(train_pca, train_target)\n",
        "    rf.fit(train_pca, train_target)\n",
        "    kn.fit(train_pca, train_target)\n",
        "\n",
        "\n",
        "\n",
        "#각각 훈련된 모델을통해 test.csv의 결과를 도출\n",
        "#그 결과를 scoeboard에 저장   \n",
        "    scoreboard_lr[\"lr - deg = {}, com = {}\".format(deg, com)] = round(accuracy_score(lr.predict(test_real_pca), sur_test_target), 4)*100\n",
        "    scoreboard_rf[\"rf - deg = {}, com = {}\".format(deg, com)] = round(accuracy_score(rf.predict(test_real_pca), sur_test_target), 4)*100\n",
        "    scoreboard_kn[\"kn - deg = {}, com = {}\".format(deg, com)] = round(accuracy_score(kn.predict(test_real_pca), sur_test_target), 4)*100\n",
        "\n",
        "#scoreboard 딕셔너리 안에 들어있는 결과중 최고값을 도출하는 구문\n",
        "max_value = max(list(scoreboard_lr.values()))\n",
        "mvalue_index = list(scoreboard_lr.values()).index(max_value)\n",
        "max_key=list(scoreboard_lr.keys())[mvalue_index]\n",
        "\n",
        "print(\"lr 모델의 최적의 조합 :\", list(scoreboard_lr.keys())[mvalue_index])\n",
        "print(\"최고점수 : \", scoreboard_lr[max_key])\n",
        "\n",
        "max_value = max(list(scoreboard_rf.values()))\n",
        "mvalue_index = list(scoreboard_rf.values()).index(max_value)\n",
        "max_key=list(scoreboard_rf.keys())[mvalue_index]\n",
        "\n",
        "print(\"rf 모델의 최적의 조합 :\", list(scoreboard_rf.keys())[mvalue_index])\n",
        "print(\"최고점수 : \", scoreboard_rf[max_key])\n",
        "\n",
        "max_value = max(list(scoreboard_kn.values()))\n",
        "mvalue_index = list(scoreboard_kn.values()).index(max_value)\n",
        "max_key=list(scoreboard_kn.keys())[mvalue_index]\n",
        "\n",
        "print(\"kn 모델의 최적의 조합 :\", list(scoreboard_kn.keys())[mvalue_index])\n",
        "print(\"최고점수 : \", scoreboard_kn[max_key])\n",
        "#--------------------------------------------------------------"
      ],
      "metadata": {
        "colab": {
          "base_uri": "https://localhost:8080/"
        },
        "id": "EXQCFFSjSKlN",
        "outputId": "9f6da964-b858-4c9d-dc62-fbfbc08518a8"
      },
      "execution_count": 94,
      "outputs": [
        {
          "output_type": "stream",
          "name": "stdout",
          "text": [
            "lr 모델의 최적의 조합 : lr - deg = 2, com = 4\n",
            "최고점수 :  85.89\n",
            "rf 모델의 최적의 조합 : rf - deg = 4, com = 23\n",
            "최고점수 :  90.67\n",
            "kn 모델의 최적의 조합 : kn - deg = 4, com = 4\n",
            "최고점수 :  90.42999999999999\n"
          ]
        }
      ]
    },
    {
      "cell_type": "markdown",
      "source": [
        "#1차 결론 및 자가 피드백\n",
        "---\n",
        "\n",
        "1. 현재 과적합이 가장 많이 되지않은 로지스틱 회귀모델이 일반적인 모델로 쓰기 적합할 것이라는 생각이 든다. 85.89점의 비교적 준수한 점수라고 생각된다.\n",
        "\n",
        " - rf 모델의 점수가 가장 높게 나왔고 90.67점이지만 현재 4차원 특성에 주성분을 23개 사용하였기 때문에 현재 test.csv데이터에 과적합 되어있을 확률이 높다. \n",
        "\n",
        " - kn모델은 비교적 주성분을 적게 사용하였고 lr모델도 주성분의 개수가 4개인것을 보아 lr모델과 kn모델의 작동 알고리즘이 유사할지 차후 검토해보고싶다.\n",
        "\n",
        " - 주성분으로 사용된 4개의 특성들의 식을 보면서 내가 몰랐던 특성관의 상관관계를 살펴보면 좋겠다.\n",
        "\n",
        "\n",
        "2. 또한 rf모델이 오늘 낮에 돌렸을 당시 92.58점이라는 스코어를 받았는데 random_state값을 지정해주지 않아 나눠진 트레이닝 데이터가 달라짐으로 점수에 변화를 주는 것 같다.\n",
        " - 이는 차후에 random_state의 변화를 주어 개선해보겠다.\n",
        " - 또는 cross_validate  방법을 사용해 전체데이터를 빠짐없이 학습하는 방법도 고려해보겠다.\n",
        "\n",
        "\n",
        "\n",
        "3. 현재 머신러닝 모델을 랜덤포레스트, 로지스틱회귀모델, KNN의 3개의 학습방법만 사용하였지만 차후에 결정트리나 또 다른 모델들을 적용시키면 좋을 것 같다.\n",
        "\n",
        "\n",
        "\n",
        "4. 가장 아쉬운 점은 전처리 과정에서의 값을 치환하는 방법이다. 아직 통계학이나 데이터 분석의 지식이 없기 때문에 이를 해결하려고 나름 유의미한 값을 넣어 보았다. \n",
        "\n",
        " - 하지만 거의 근거없는 추측에 의한 치환이라 차후 유의미한 전처리 방법을 공부 해야겠다.\n",
        "\n",
        "\n",
        "\n",
        "5. 현재 구현해놓은 방법은 test.csv의 예측점수를 가장 높게 가져오는 모델을 자연스럽게 찾도록 구현해 놓았지만 이는 답지를 참조한 것과 같은 맥락이기 때문에 옳지 못한 방법이라는 것을 깨달았다.\n",
        "\n",
        "\n",
        "6. One-Hot-Encoding 방법에 대해서 더 공부해 보아야겠다. 분류가 가능한 데이터에 대해서 스케일이 존재하는 어떤 값으로 넣는 방법보다 좋다는 제언을 들었다.\n",
        "\n",
        "\n",
        "\n",
        "7. 아직 데이터 중 age,fare 데이터는 스킬이 부족하여 특별한 전처리 과정 없이 있는 데이터를 넣었다. 원래 계획은 age와 fare을 구간으로 나누고 구간 별 생존확률을 계산 후 관측값에 어느정도 비례하게 점수를 부여 할 생각이었다.\n",
        "\n",
        "\n",
        "\n",
        "8. pandas dataframe의 편집 기술과 seaborn, matplotlib 모듈의 그래프 구현하는 기술이 아직 많이 부족하기 때문에 앞으로 더 발전해야겠다.\n",
        "\n",
        "\n",
        "\n",
        "9. 현재 파라미터 조작을 특성과 주성분 개수를 변화시키는 방법으로 최적의 모델을 찾아 나갔다. 차후 더 다양한 하이퍼파라미터들을 변화시키면서 검증한다면 보다 효과적인 모델을 구현해 볼 수 있겠다는 생각이 들었다.\n",
        "\n",
        "\n",
        "\n",
        "10. 데이터의 전처리 방법에 대한 고민\n",
        " - 로지스틱 회귀모델 사용을 위해 자료분석 후 데이터 전처리를 하던 중 로지스틱 회귀모델의 기본적인 방정식이 선형방정식으로 도출 된다는 점이 생각났다. \n",
        "\n",
        " - z = ax +by +cz ... 와 같은 각각의 특성별 계수가 계산되고 특성이 들어가 z값이 구해지는 형식이다.\n",
        "\n",
        " - 여기서 구해진 z가 시그모이드 함수에 대입되면서 0~1사이의 확률로 타겟을 분류 하는 모델인데 현재 데이터의 구조를 보면 나이, 요금 등 값의 크기가 올라갈수록 생존확률이 올라가지 않음을 확인했다.\n",
        "\n",
        " - 이 문제를 어떻게 해결해볼지에 대한 고민 중 특성의 1:1 상관관계를 분석한 결과를 토대로 구간 별 점수를 부여하자는 생각이 들었다. 문자열 데이터 역시 데이터 분석을 기반으로 점수를 부여해보며 이를 해결하려고 시도했다.\n",
        "\n"
      ],
      "metadata": {
        "id": "gUej3TnjrLJy"
      }
    },
    {
      "cell_type": "markdown",
      "source": [
        "\n",
        "---\n",
        "\n"
      ],
      "metadata": {
        "id": "km8B0FfYwC3t"
      }
    }
  ]
}